{
 "cells": [
  {
   "cell_type": "code",
   "execution_count": 1,
   "id": "10c89757",
   "metadata": {},
   "outputs": [],
   "source": [
    "from datos_dummy import books\n"
   ]
  },
  {
   "cell_type": "code",
   "execution_count": 2,
   "id": "d6df9511",
   "metadata": {},
   "outputs": [
    {
     "name": "stdout",
     "output_type": "stream",
     "text": [
      "{'id': 0, 'title': 'A Fire Upon the Deep', 'author': 'Vernor Vinge', 'first_sentence': 'The coldsleep itself was dreamless.', 'published': '1992'}\n"
     ]
    }
   ],
   "source": [
    "for book in books:\n",
    "    if book[\"published\"] == \"1992\":\n",
    "        print(book)"
   ]
  },
  {
   "cell_type": "code",
   "execution_count": 11,
   "id": "cb04d68a",
   "metadata": {},
   "outputs": [],
   "source": [
    "urn = \"http://127.0.0.1:5000/api/v0/resources/book/A%20Fire%20Upon%20the%20Deep\""
   ]
  },
  {
   "cell_type": "code",
   "execution_count": 21,
   "id": "2f6dc3e6",
   "metadata": {},
   "outputs": [],
   "source": [
    "import requests\n",
    "\n",
    "r = requests.delete(urn)"
   ]
  },
  {
   "cell_type": "code",
   "execution_count": 22,
   "id": "cb793c93",
   "metadata": {},
   "outputs": [
    {
     "name": "stdout",
     "output_type": "stream",
     "text": [
      "[\n",
      "  {\n",
      "    \"author\": \"Vernor Vinge\",\n",
      "    \"first_sentence\": \"The coldsleep itself was dreamless.\",\n",
      "    \"id\": 0,\n",
      "    \"published\": \"1992\",\n",
      "    \"title\": \"A Fire Upon the Deep\"\n",
      "  }\n",
      "]\n",
      "\n"
     ]
    }
   ],
   "source": [
    "print(r.text)\n"
   ]
  },
  {
   "cell_type": "code",
   "execution_count": 23,
   "id": "fb7127b1",
   "metadata": {},
   "outputs": [
    {
     "name": "stdout",
     "output_type": "stream",
     "text": [
      "[\n",
      "  {\n",
      "    \"author\": \"Samuel R. Delany\",\n",
      "    \"first_sentence\": \"to wound the autumnal city.\",\n",
      "    \"id\": 2,\n",
      "    \"published\": \"1975\",\n",
      "    \"title\": \"Dhalgren\"\n",
      "  }\n",
      "]\n",
      "\n"
     ]
    }
   ],
   "source": [
    "import requests\n",
    "import json\n",
    "\n",
    "url = \"http://127.0.0.1:5000/api/v1/resources/book\"\n",
    "\n",
    "payload = json.dumps({\n",
    "  \"title\": \"Dhalgren\"\n",
    "})\n",
    "headers = {\n",
    "  'Content-Type': 'application/json'\n",
    "}\n",
    "\n",
    "response = requests.request(\"GET\", url, headers=headers, data=payload)\n",
    "\n",
    "print(response.text)"
   ]
  },
  {
   "cell_type": "code",
   "execution_count": 32,
   "id": "994514ee",
   "metadata": {},
   "outputs": [
    {
     "name": "stdout",
     "output_type": "stream",
     "text": [
      "[\n",
      "  {\n",
      "    \"author\": \"Vernor Vinge\",\n",
      "    \"first_sentence\": \"The coldsleep itself was dreamless.\",\n",
      "    \"id\": 0,\n",
      "    \"published\": \"1992\",\n",
      "    \"title\": \"A Fire Upon the Deep\"\n",
      "  },\n",
      "  {\n",
      "    \"author\": \"Ursula K. Le Guin\",\n",
      "    \"first_sentence\": \"With a clamor of bells that set the swallows soaring, the Festival of Summer came to the city Omelas, bright-towered by the sea.\",\n",
      "    \"id\": 1,\n",
      "    \"published\": \"1973\",\n",
      "    \"title\": \"The Ones Who Walk Away From Omelas\"\n",
      "  },\n",
      "  {\n",
      "    \"author\": \"Samuel R. Delany\",\n",
      "    \"first_sentence\": \"to wound the autumnal city.\",\n",
      "    \"id\": 2,\n",
      "    \"published\": \"1975\",\n",
      "    \"title\": \"Dhalgren\"\n",
      "  },\n",
      "  {\n",
      "    \"author\": \"Monica\",\n",
      "    \"first_sentence\": \"la vida te sonreira cuando tu empieces a comer jamon.\",\n",
      "    \"id\": 20,\n",
      "    \"published\": \"2001\",\n",
      "    \"title\": \"Una odisea en el Jamon\"\n",
      "  }\n",
      "]\n",
      "\n"
     ]
    }
   ],
   "source": [
    "import requests\n",
    "import json\n",
    "\n",
    "url = \"http://127.0.0.1:5000/api/v1/resources/book/add\"\n",
    "\n",
    "payload = json.dumps(  {\n",
    "   \"author\": \"Monica\",\n",
    "    \"first_sentence\": \"la vida te sonreira cuando tu empieces a comer jamon.\",\n",
    "    \"id\": 20,\n",
    "    \"published\": \"2001\",\n",
    "    \"title\": \"Una odisea en el Jamon\"\n",
    "  })\n",
    "headers = {\n",
    "  'Content-Type': 'application/json'\n",
    "}\n",
    "\n",
    "response = requests.request(\"POST\", url, headers=headers, data=payload)\n",
    "\n",
    "print(response.text)"
   ]
  },
  {
   "cell_type": "code",
   "execution_count": 33,
   "id": "45fcdc20",
   "metadata": {},
   "outputs": [
    {
     "name": "stdout",
     "output_type": "stream",
     "text": [
      "[\n",
      "  {\n",
      "    \"author\": \"Vernor Vinge\",\n",
      "    \"first_sentence\": \"The coldsleep itself was dreamless.\",\n",
      "    \"id\": 0,\n",
      "    \"published\": \"1992\",\n",
      "    \"title\": \"A Fire Upon the Deep\"\n",
      "  },\n",
      "  {\n",
      "    \"author\": \"Ursula K. Le Guin\",\n",
      "    \"first_sentence\": \"With a clamor of bells that set the swallows soaring, the Festival of Summer came to the city Omelas, bright-towered by the sea.\",\n",
      "    \"id\": 1,\n",
      "    \"published\": \"1973\",\n",
      "    \"title\": \"The Ones Who Walk Away From Omelas\"\n",
      "  },\n",
      "  {\n",
      "    \"author\": \"Samuel R. Delany\",\n",
      "    \"first_sentence\": \"to wound the autumnal city.\",\n",
      "    \"id\": 2,\n",
      "    \"published\": \"1975\",\n",
      "    \"title\": \"Dhalgren\"\n",
      "  },\n",
      "  {\n",
      "    \"author\": \"SuperchachiM\",\n",
      "    \"first_sentence\": \"Como aguantar a cuatro capullos y el profe (el mas capullo de todos).\",\n",
      "    \"id\": 20,\n",
      "    \"published\": \"2025\",\n",
      "    \"title\": \"Jaaaaaragghagha\"\n",
      "  }\n",
      "]\n",
      "\n"
     ]
    }
   ],
   "source": [
    "import requests\n",
    "import json\n",
    "\n",
    "url = \"http://127.0.0.1:5000/api/v1/resources/book/update\"\n",
    "\n",
    "payload = json.dumps(  {\n",
    "   \"author\": \"SuperchachiM\",\n",
    "    \"first_sentence\": \"Como aguantar a cuatro capullos y el profe (el mas capullo de todos).\",\n",
    "    \"id\": 20,\n",
    "    \"published\": \"2025\",\n",
    "    \"title\": \"Jaaaaaragghagha\"\n",
    "  })\n",
    "headers = {\n",
    "  'Content-Type': 'application/json'\n",
    "}\n",
    "\n",
    "response = requests.request(\"PUT\", url, headers=headers, data=payload)\n",
    "\n",
    "print(response.text)"
   ]
  },
  {
   "cell_type": "code",
   "execution_count": 34,
   "id": "94e21f92",
   "metadata": {},
   "outputs": [],
   "source": [
    "import sqlite3\n",
    "import pandas as pd\n",
    "from sqlalchemy import create_engine"
   ]
  },
  {
   "cell_type": "code",
   "execution_count": 35,
   "id": "04383619",
   "metadata": {},
   "outputs": [],
   "source": [
    "churro = \"sqlite:///books.db\"\n",
    "\n",
    "engine = create_engine(churro)"
   ]
  },
  {
   "cell_type": "code",
   "execution_count": 36,
   "id": "66a2bd9d",
   "metadata": {},
   "outputs": [],
   "source": [
    "from datos_dummy import books"
   ]
  },
  {
   "cell_type": "code",
   "execution_count": 40,
   "id": "2f5b0acd",
   "metadata": {},
   "outputs": [],
   "source": [
    "books_df = pd.DataFrame(books)"
   ]
  },
  {
   "cell_type": "code",
   "execution_count": 44,
   "id": "1f94c3a7",
   "metadata": {},
   "outputs": [
    {
     "data": {
      "text/plain": [
       "3"
      ]
     },
     "execution_count": 44,
     "metadata": {},
     "output_type": "execute_result"
    }
   ],
   "source": [
    "books_df.to_sql(\"books\", con=engine, if_exists=\"replace\", index=None)"
   ]
  },
  {
   "cell_type": "code",
   "execution_count": null,
   "id": "1230ccbe",
   "metadata": {},
   "outputs": [
    {
     "data": {
      "text/plain": [
       "[{'id': 0,\n",
       "  'title': 'A Fire Upon the Deep',\n",
       "  'author': 'Vernor Vinge',\n",
       "  'first_sentence': 'The coldsleep itself was dreamless.',\n",
       "  'published': '1992'},\n",
       " {'id': 1,\n",
       "  'title': 'The Ones Who Walk Away From Omelas',\n",
       "  'author': 'Ursula K. Le Guin',\n",
       "  'first_sentence': 'With a clamor of bells that set the swallows soaring, the Festival of Summer came to the city Omelas, bright-towered by the sea.',\n",
       "  'published': '1973'},\n",
       " {'id': 2,\n",
       "  'title': 'Dhalgren',\n",
       "  'author': 'Samuel R. Delany',\n",
       "  'first_sentence': 'to wound the autumnal city.',\n",
       "  'published': '1975'}]"
      ]
     },
     "execution_count": 56,
     "metadata": {},
     "output_type": "execute_result"
    }
   ],
   "source": [
    "query = \"\"\"\n",
    "SELECT * FROM books\n",
    "\n",
    "\"\"\"\n",
    "pd.read_sql(query, con=engine).to_dict(orient=\"records\")"
   ]
  },
  {
   "cell_type": "code",
   "execution_count": 60,
   "id": "8c08767b",
   "metadata": {},
   "outputs": [
    {
     "data": {
      "text/plain": [
       "1"
      ]
     },
     "execution_count": 60,
     "metadata": {},
     "output_type": "execute_result"
    }
   ],
   "source": [
    "pd.DataFrame([{'id': 203,\n",
    "  'title': 'SYPRI Fire Upon the Deep',\n",
    "  'author': 'Vernor TWAT',\n",
    "  'first_sentence': 'Nanda coldsleep itself was dreamless.',\n",
    "  'published': '1023'}]).to_sql(\"books\", con=engine, if_exists=\"append\", index=None)"
   ]
  },
  {
   "cell_type": "code",
   "execution_count": 53,
   "id": "1ec46b89",
   "metadata": {},
   "outputs": [
    {
     "data": {
      "text/plain": [
       "[{'id': 0,\n",
       "  'title': 'A Fire Upon the Deep',\n",
       "  'author': 'Vernor Vinge',\n",
       "  'first_sentence': 'The coldsleep itself was dreamless.',\n",
       "  'published': '1992'},\n",
       " {'id': 1,\n",
       "  'title': 'The Ones Who Walk Away From Omelas',\n",
       "  'author': 'Ursula K. Le Guin',\n",
       "  'first_sentence': 'With a clamor of bells that set the swallows soaring, the Festival of Summer came to the city Omelas, bright-towered by the sea.',\n",
       "  'published': '1973'},\n",
       " {'id': 2,\n",
       "  'title': 'Dhalgren',\n",
       "  'author': 'Samuel R. Delany',\n",
       "  'first_sentence': 'to wound the autumnal city.',\n",
       "  'published': '1975'}]"
      ]
     },
     "execution_count": 53,
     "metadata": {},
     "output_type": "execute_result"
    }
   ],
   "source": [
    "books_df.to_dict(orient=\"records\")"
   ]
  },
  {
   "cell_type": "code",
   "execution_count": null,
   "id": "c52afa8f",
   "metadata": {},
   "outputs": [],
   "source": [
    "mask = books.id == id\n",
    "index = books.loc[mask,:].index[0]\n",
    "new_df = books.drop(index)\n",
    "\n",
    "new_df.to_sql(\"books\", index=None, con= engine, if_exist=\"replace\")\n",
    "\n",
    "return new_df.to_dict(orient=\"records\")"
   ]
  }
 ],
 "metadata": {
  "kernelspec": {
   "display_name": "data_analysis_env",
   "language": "python",
   "name": "python3"
  },
  "language_info": {
   "codemirror_mode": {
    "name": "ipython",
    "version": 3
   },
   "file_extension": ".py",
   "mimetype": "text/x-python",
   "name": "python",
   "nbconvert_exporter": "python",
   "pygments_lexer": "ipython3",
   "version": "3.11.11"
  }
 },
 "nbformat": 4,
 "nbformat_minor": 5
}
