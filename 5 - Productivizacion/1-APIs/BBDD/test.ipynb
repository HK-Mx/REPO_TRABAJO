{
 "cells": [
  {
   "cell_type": "code",
   "execution_count": 10,
   "id": "b553f0c7",
   "metadata": {},
   "outputs": [],
   "source": [
    "from datos_dummy import books\n",
    "import requests\n",
    "import json"
   ]
  },
  {
   "cell_type": "code",
   "execution_count": 11,
   "id": "f64cbcd6",
   "metadata": {},
   "outputs": [
    {
     "data": {
      "text/plain": [
       "[{'id': 0,\n",
       "  'title': 'A Fire Upon the Deep',\n",
       "  'author': 'Vernor Vinge',\n",
       "  'first_sentence': 'The coldsleep itself was dreamless.',\n",
       "  'published': '1992'},\n",
       " {'id': 1,\n",
       "  'title': 'The Ones Who Walk Away From Omelas',\n",
       "  'author': 'Ursula K. Le Guin',\n",
       "  'first_sentence': 'With a clamor of bells that set the swallows soaring, the Festival of Summer came to the city Omelas, bright-towered by the sea.',\n",
       "  'published': '1973'},\n",
       " {'id': 2,\n",
       "  'title': 'Dhalgren',\n",
       "  'author': 'Samuel R. Delany',\n",
       "  'first_sentence': 'to wound the autumnal city.',\n",
       "  'published': '1975'}]"
      ]
     },
     "execution_count": 11,
     "metadata": {},
     "output_type": "execute_result"
    }
   ],
   "source": [
    "books"
   ]
  },
  {
   "cell_type": "code",
   "execution_count": 12,
   "id": "10349f0a",
   "metadata": {},
   "outputs": [],
   "source": [
    "import requests"
   ]
  },
  {
   "cell_type": "code",
   "execution_count": 13,
   "id": "da0b786a",
   "metadata": {},
   "outputs": [],
   "source": [
    "r = requests.get(r\"http://127.0.0.1:5000/api/v0/resources/book.title/A%20Fire%20Upon%20the%20Deep\")"
   ]
  },
  {
   "cell_type": "code",
   "execution_count": 14,
   "id": "9d2bb16e",
   "metadata": {},
   "outputs": [
    {
     "name": "stdout",
     "output_type": "stream",
     "text": [
      "[\n",
      "  {\n",
      "    \"author\": \"Vernor Vinge\",\n",
      "    \"first_sentence\": \"The coldsleep itself was dreamless.\",\n",
      "    \"id\": 0,\n",
      "    \"published\": \"1992\",\n",
      "    \"title\": \"A Fire Upon the Deep\"\n",
      "  }\n",
      "]\n",
      "\n"
     ]
    }
   ],
   "source": [
    "print(r.text)"
   ]
  },
  {
   "cell_type": "code",
   "execution_count": 19,
   "id": "ad6607f5",
   "metadata": {},
   "outputs": [
    {
     "name": "stdout",
     "output_type": "stream",
     "text": [
      "[\n",
      "  {\n",
      "    \"author\": \"Vernor Vinge\",\n",
      "    \"first_sentence\": \"The coldsleep itself was dreamless.\",\n",
      "    \"id\": 0,\n",
      "    \"published\": \"1992\",\n",
      "    \"title\": \"A Fire Upon the Deep\"\n",
      "  },\n",
      "  {\n",
      "    \"author\": \"Ursula K. Le Guin\",\n",
      "    \"first_sentence\": \"With a clamor of bells that set the swallows soaring, the Festival of Summer came to the city Omelas, bright-towered by the sea.\",\n",
      "    \"id\": 1,\n",
      "    \"published\": \"1973\",\n",
      "    \"title\": \"The Ones Who Walk Away From Omelas\"\n",
      "  },\n",
      "  {\n",
      "    \"author\": \"Samuel R. Delany\",\n",
      "    \"first_sentence\": \"to wound the autumnal city.\",\n",
      "    \"id\": 2,\n",
      "    \"published\": \"1975\",\n",
      "    \"title\": \"Dhalgren\"\n",
      "  },\n",
      "  {\n",
      "    \"author\": \"Tupri\",\n",
      "    \"first_sentence\": \"En un lugar de albacete cuyo nombre si que me acuerdo pero no te quiero decir...\",\n",
      "    \"id\": 3,\n",
      "    \"published\": \"2028\",\n",
      "    \"title\": \"Miculo\"\n",
      "  }\n",
      "]\n",
      "\n"
     ]
    }
   ],
   "source": [
    "url = \"http://127.0.0.1:5000/api/v1/resources/book/add\"\n",
    "\n",
    "payload = json.dumps({\"id\": 3,\n",
    "        \"title\": \"Miculo\",\n",
    "        \"author\": \"Tupri\",\n",
    "        \"first_sentence\": \"En un lugar de albacete cuyo nombre si que me acuerdo pero no te quiero decir...\",\n",
    "        \"published\": \"2028\"})\n",
    "\n",
    "headers = {\n",
    "    'Content-Type': 'application/json'\n",
    "}\n",
    "\n",
    "response = requests.request(\"POST\", url, headers=headers, data=payload)\n",
    "\n",
    "print(response.text)"
   ]
  },
  {
   "cell_type": "code",
   "execution_count": 20,
   "id": "38e7ac7f",
   "metadata": {},
   "outputs": [],
   "source": [
    "import sqlite3\n",
    "import pandas\n",
    "from sqlalchemy import create_engine"
   ]
  },
  {
   "cell_type": "code",
   "execution_count": null,
   "id": "357fac34",
   "metadata": {},
   "outputs": [],
   "source": [
    "pd.dataframe([{libro nuevo}]).to_sql(\"nombre de la base de datos\", con=engine, if_exist=\"append\", index=None)"
   ]
  }
 ],
 "metadata": {
  "kernelspec": {
   "display_name": "data_analysis_env",
   "language": "python",
   "name": "python3"
  },
  "language_info": {
   "codemirror_mode": {
    "name": "ipython",
    "version": 3
   },
   "file_extension": ".py",
   "mimetype": "text/x-python",
   "name": "python",
   "nbconvert_exporter": "python",
   "pygments_lexer": "ipython3",
   "version": "3.11.11"
  }
 },
 "nbformat": 4,
 "nbformat_minor": 5
}
