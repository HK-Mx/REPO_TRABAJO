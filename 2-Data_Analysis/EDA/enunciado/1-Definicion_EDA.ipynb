{
 "cells": [
  {
   "cell_type": "markdown",
   "metadata": {},
   "source": [
    "# INFORMACIÓN DEL PROYECTO"
   ]
  },
  {
   "cell_type": "markdown",
   "metadata": {},
   "source": [
    "# Beyond the freezer: \n",
    "##### Paterns in ABORDO Data"
   ]
  },
  {
   "cell_type": "markdown",
   "metadata": {},
   "source": [
    "##### Exaustivo análisis sobre la información proporcionada por la empresa"
   ]
  },
  {
   "cell_type": "markdown",
   "metadata": {},
   "source": [
    "### HIPÓTESIS"
   ]
  },
  {
   "cell_type": "markdown",
   "metadata": {},
   "source": [
    "##### La idea principal es relacionar los datos de Abordo con fuentes externas sobre comercios del mismo sector, datos geopolíticos... Y extraer información y conclusiones relevantes para la empresa."
   ]
  },
  {
   "cell_type": "markdown",
   "metadata": {},
   "source": [
    "## OBTENCIÓN DE LOS DATOS"
   ]
  },
  {
   "cell_type": "markdown",
   "metadata": {},
   "source": [
    "### DATASETS Y FUENTES ALTERNATIVAS DE DATOS"
   ]
  },
  {
   "cell_type": "markdown",
   "metadata": {},
   "source": [
    "\n",
    "### El [archivo](https://docs.google.com/spreadsheets/d/14GbC2OLXKUkejRVIfvkAKwYINALSF7pO/edit?usp=sharing&ouid=106728123074278087798&rtpof=true&sd=true) contiene información sobre el catálogo de productos de ___ABORDO___, organizada en 2040 registros con las siguientes variables:\n",
    "\n",
    "\n",
    "* __Familia:__ Código numérico que agrupa productos en grandes categorías, como \"VERDURAS\". \n",
    "\n",
    "* __Grupo Exp.:__\tCódigo del grupo de productos, probablemente con fines comerciales o logísticos.\n",
    "\n",
    "* __(Descripción del Grupo):__\tNombre del grupo, que describe el tipo o formato del producto (e.g., \"MONOPRODUCTO - Formato Horeca\").\n",
    "\n",
    "* __Artículo:__\tCódigo numérico del producto específico.\n",
    "\n",
    "* __Descripción del Artículo:__\tNombre detallado del producto (e.g., \"CEBOLLA TROC. 10x10 B/1KG\").\n",
    "\n",
    "* __Tipo Venta:__\tUnidad de venta del producto (por ejemplo, \"UND\" para unidad)."
   ]
  },
  {
   "cell_type": "markdown",
   "metadata": {},
   "source": [
    "Muestra mediante un head() los principales datasets con los que vas a trabajar"
   ]
  },
  {
   "cell_type": "code",
   "execution_count": 29,
   "metadata": {},
   "outputs": [
    {
     "name": "stdout",
     "output_type": "stream",
     "text": [
      "Requirement already satisfied: openpyxl in c:\\users\\maxi\\miniconda3\\envs\\data_analysis_env\\lib\\site-packages (3.1.5)\n",
      "Requirement already satisfied: et-xmlfile in c:\\users\\maxi\\miniconda3\\envs\\data_analysis_env\\lib\\site-packages (from openpyxl) (2.0.0)\n"
     ]
    }
   ],
   "source": [
    "import pandas as pd\n",
    "!pip install openpyxl"
   ]
  },
  {
   "cell_type": "code",
   "execution_count": 28,
   "metadata": {},
   "outputs": [
    {
     "data": {
      "text/html": [
       "<div>\n",
       "<style scoped>\n",
       "    .dataframe tbody tr th:only-of-type {\n",
       "        vertical-align: middle;\n",
       "    }\n",
       "\n",
       "    .dataframe tbody tr th {\n",
       "        vertical-align: top;\n",
       "    }\n",
       "\n",
       "    .dataframe thead th {\n",
       "        text-align: right;\n",
       "    }\n",
       "</style>\n",
       "<table border=\"1\" class=\"dataframe\">\n",
       "  <thead>\n",
       "    <tr style=\"text-align: right;\">\n",
       "      <th></th>\n",
       "      <th>NaN</th>\n",
       "      <th>Familia</th>\n",
       "      <th>NaN</th>\n",
       "      <th>Grupo Exp.</th>\n",
       "      <th>NaN</th>\n",
       "      <th>Artículo</th>\n",
       "      <th>NaN</th>\n",
       "      <th>Tipo Venta</th>\n",
       "    </tr>\n",
       "  </thead>\n",
       "  <tbody>\n",
       "    <tr>\n",
       "      <th>1</th>\n",
       "      <td>NaN</td>\n",
       "      <td>001</td>\n",
       "      <td>VERDURAS</td>\n",
       "      <td>430</td>\n",
       "      <td>MEZCLAS 400 gr (Formato pequeño tienda)</td>\n",
       "      <td>309</td>\n",
       "      <td>CN-ENSALADILLA RUSA B/400GR (LG)</td>\n",
       "      <td>UND</td>\n",
       "    </tr>\n",
       "    <tr>\n",
       "      <th>2</th>\n",
       "      <td>NaN</td>\n",
       "      <td>001</td>\n",
       "      <td>VERDURAS</td>\n",
       "      <td>430</td>\n",
       "      <td>MEZCLAS 400 gr (Formato pequeño tienda)</td>\n",
       "      <td>810</td>\n",
       "      <td>VERDURA PAELLA B/400GR</td>\n",
       "      <td>UND</td>\n",
       "    </tr>\n",
       "    <tr>\n",
       "      <th>3</th>\n",
       "      <td>NaN</td>\n",
       "      <td>001</td>\n",
       "      <td>VERDURAS</td>\n",
       "      <td>431</td>\n",
       "      <td>MONOPRODUCTO - Formato Horeca</td>\n",
       "      <td>8051</td>\n",
       "      <td>CEBOLLA TROC. 10x10 B/1KG</td>\n",
       "      <td>UND</td>\n",
       "    </tr>\n",
       "    <tr>\n",
       "      <th>4</th>\n",
       "      <td>NaN</td>\n",
       "      <td>001</td>\n",
       "      <td>VERDURAS</td>\n",
       "      <td>431</td>\n",
       "      <td>MONOPRODUCTO - Formato Horeca</td>\n",
       "      <td>8057</td>\n",
       "      <td>CN-MEZCLA SOFRITO 1KG</td>\n",
       "      <td>UND</td>\n",
       "    </tr>\n",
       "    <tr>\n",
       "      <th>5</th>\n",
       "      <td>NaN</td>\n",
       "      <td>001</td>\n",
       "      <td>VERDURAS</td>\n",
       "      <td>431</td>\n",
       "      <td>MONOPRODUCTO - Formato Horeca</td>\n",
       "      <td>8019</td>\n",
       "      <td>GUISANTES EXTRA FINOS 1 KG</td>\n",
       "      <td>UND</td>\n",
       "    </tr>\n",
       "    <tr>\n",
       "      <th>...</th>\n",
       "      <td>...</td>\n",
       "      <td>...</td>\n",
       "      <td>...</td>\n",
       "      <td>...</td>\n",
       "      <td>...</td>\n",
       "      <td>...</td>\n",
       "      <td>...</td>\n",
       "      <td>...</td>\n",
       "    </tr>\n",
       "    <tr>\n",
       "      <th>2035</th>\n",
       "      <td>NaN</td>\n",
       "      <td>015</td>\n",
       "      <td>POSTRES</td>\n",
       "      <td>310</td>\n",
       "      <td>Repostería</td>\n",
       "      <td>841</td>\n",
       "      <td>PSTR-TARTA QUESO ESTILO VASCO 1600GR 14P</td>\n",
       "      <td>UND</td>\n",
       "    </tr>\n",
       "    <tr>\n",
       "      <th>2036</th>\n",
       "      <td>NaN</td>\n",
       "      <td>015</td>\n",
       "      <td>POSTRES</td>\n",
       "      <td>312</td>\n",
       "      <td>Churros y Porras</td>\n",
       "      <td>319</td>\n",
       "      <td>BLL-CHURROS LAZO- B/500GR</td>\n",
       "      <td>UND</td>\n",
       "    </tr>\n",
       "    <tr>\n",
       "      <th>2037</th>\n",
       "      <td>NaN</td>\n",
       "      <td>015</td>\n",
       "      <td>POSTRES</td>\n",
       "      <td>312</td>\n",
       "      <td>Churros y Porras</td>\n",
       "      <td>318</td>\n",
       "      <td>BLL-CHURROS LAZO-B/400GR</td>\n",
       "      <td>UND</td>\n",
       "    </tr>\n",
       "    <tr>\n",
       "      <th>2038</th>\n",
       "      <td>NaN</td>\n",
       "      <td>015</td>\n",
       "      <td>POSTRES</td>\n",
       "      <td>312</td>\n",
       "      <td>Churros y Porras</td>\n",
       "      <td>310</td>\n",
       "      <td>BLL-CHURROS AZUCARADOS GOURMET(GRANEL)</td>\n",
       "      <td>KG</td>\n",
       "    </tr>\n",
       "    <tr>\n",
       "      <th>2039</th>\n",
       "      <td>NaN</td>\n",
       "      <td>015</td>\n",
       "      <td>POSTRES</td>\n",
       "      <td>320</td>\n",
       "      <td>Pan Tostado y Bollería Industrial</td>\n",
       "      <td>2155</td>\n",
       "      <td>PSTR-TARTA-DE-MANZANA 1100 GR</td>\n",
       "      <td>UND</td>\n",
       "    </tr>\n",
       "  </tbody>\n",
       "</table>\n",
       "<p>2039 rows × 8 columns</p>\n",
       "</div>"
      ],
      "text/plain": [
       "     NaN Familia       NaN Grupo Exp.  \\\n",
       "1    NaN     001  VERDURAS        430   \n",
       "2    NaN     001  VERDURAS        430   \n",
       "3    NaN     001  VERDURAS        431   \n",
       "4    NaN     001  VERDURAS        431   \n",
       "5    NaN     001  VERDURAS        431   \n",
       "...   ..     ...       ...        ...   \n",
       "2035 NaN     015   POSTRES        310   \n",
       "2036 NaN     015   POSTRES        312   \n",
       "2037 NaN     015   POSTRES        312   \n",
       "2038 NaN     015   POSTRES        312   \n",
       "2039 NaN     015   POSTRES        320   \n",
       "\n",
       "                                          NaN Artículo  \\\n",
       "1     MEZCLAS 400 gr (Formato pequeño tienda)      309   \n",
       "2     MEZCLAS 400 gr (Formato pequeño tienda)      810   \n",
       "3               MONOPRODUCTO - Formato Horeca     8051   \n",
       "4               MONOPRODUCTO - Formato Horeca     8057   \n",
       "5               MONOPRODUCTO - Formato Horeca     8019   \n",
       "...                                       ...      ...   \n",
       "2035                               Repostería      841   \n",
       "2036                         Churros y Porras      319   \n",
       "2037                         Churros y Porras      318   \n",
       "2038                         Churros y Porras      310   \n",
       "2039        Pan Tostado y Bollería Industrial     2155   \n",
       "\n",
       "                                           NaN Tipo Venta  \n",
       "1             CN-ENSALADILLA RUSA B/400GR (LG)        UND  \n",
       "2                       VERDURA PAELLA B/400GR        UND  \n",
       "3                    CEBOLLA TROC. 10x10 B/1KG        UND  \n",
       "4                        CN-MEZCLA SOFRITO 1KG        UND  \n",
       "5                   GUISANTES EXTRA FINOS 1 KG        UND  \n",
       "...                                        ...        ...  \n",
       "2035  PSTR-TARTA QUESO ESTILO VASCO 1600GR 14P        UND  \n",
       "2036                 BLL-CHURROS LAZO- B/500GR        UND  \n",
       "2037                  BLL-CHURROS LAZO-B/400GR        UND  \n",
       "2038    BLL-CHURROS AZUCARADOS GOURMET(GRANEL)         KG  \n",
       "2039             PSTR-TARTA-DE-MANZANA 1100 GR        UND  \n",
       "\n",
       "[2039 rows x 8 columns]"
      ]
     },
     "execution_count": 28,
     "metadata": {},
     "output_type": "execute_result"
    }
   ],
   "source": [
    "abordo = pd.read_excel(\"ABORDO.xlsx\")\n",
    "nuevas_columnas = abordo.iloc[0].tolist()\n",
    "abordo = abordo[1:]\n",
    "abordo.columns = nuevas_columnas\n",
    "abordo.iloc[:,]"
   ]
  },
  {
   "cell_type": "code",
   "execution_count": null,
   "metadata": {},
   "outputs": [],
   "source": []
  }
 ],
 "metadata": {
  "kernelspec": {
   "display_name": "data_analysis_env",
   "language": "python",
   "name": "python3"
  },
  "language_info": {
   "codemirror_mode": {
    "name": "ipython",
    "version": 3
   },
   "file_extension": ".py",
   "mimetype": "text/x-python",
   "name": "python",
   "nbconvert_exporter": "python",
   "pygments_lexer": "ipython3",
   "version": "3.11.11"
  },
  "orig_nbformat": 4
 },
 "nbformat": 4,
 "nbformat_minor": 2
}
