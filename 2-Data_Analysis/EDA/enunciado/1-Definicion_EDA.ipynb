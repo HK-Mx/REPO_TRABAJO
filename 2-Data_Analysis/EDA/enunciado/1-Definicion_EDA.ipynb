{
 "cells": [
  {
   "cell_type": "markdown",
   "metadata": {},
   "source": [
    "# INFORMACIÓN DEL PROYECTO"
   ]
  },
  {
   "cell_type": "markdown",
   "metadata": {},
   "source": [
    "# Beyond the freezer: \n",
    "##### Paterns in ABORDO Data"
   ]
  },
  {
   "cell_type": "markdown",
   "metadata": {},
   "source": [
    "##### Exaustivo análisis sobre la información proporcionada por la empresa"
   ]
  },
  {
   "cell_type": "markdown",
   "metadata": {},
   "source": [
    "### HIPÓTESIS"
   ]
  },
  {
   "cell_type": "markdown",
   "metadata": {},
   "source": [
    "##### La idea principal es relacionar los datos de Abordo con fuentes externas sobre comercios del mismo sector, datos geopolíticos... Y extraer información y conclusiones relevantes para la empresa."
   ]
  },
  {
   "cell_type": "markdown",
   "metadata": {},
   "source": [
    "## OBTENCIÓN DE LOS DATOS"
   ]
  },
  {
   "cell_type": "markdown",
   "metadata": {},
   "source": [
    "### DATASETS Y FUENTES ALTERNATIVAS DE DATOS"
   ]
  },
  {
   "cell_type": "markdown",
   "metadata": {},
   "source": [
    "\n",
    "### El [archivo](https://docs.google.com/spreadsheets/d/14GbC2OLXKUkejRVIfvkAKwYINALSF7pO/edit?usp=sharing&ouid=106728123074278087798&rtpof=true&sd=true) contiene información sobre el catálogo de productos de ___ABORDO___, organizada en 2040 registros con las siguientes variables:\n",
    "\n",
    "\n",
    "* __Familia:__ Código numérico que agrupa productos en grandes categorías, como \"VERDURAS\". \n",
    "\n",
    "* __Grupo Exp.:__\tCódigo del grupo de productos, probablemente con fines comerciales o logísticos.\n",
    "\n",
    "* __(Descripción del Grupo):__\tNombre del grupo, que describe el tipo o formato del producto (e.g., \"MONOPRODUCTO - Formato Horeca\").\n",
    "\n",
    "* __Artículo:__\tCódigo numérico del producto específico.\n",
    "\n",
    "* __Descripción del Artículo:__\tNombre detallado del producto (e.g., \"CEBOLLA TROC. 10x10 B/1KG\").\n",
    "\n",
    "* __Tipo Venta:__\tUnidad de venta del producto (por ejemplo, \"UND\" para unidad)."
   ]
  },
  {
   "cell_type": "markdown",
   "metadata": {},
   "source": [
    "Muestra mediante un head() los principales datasets con los que vas a trabajar"
   ]
  },
  {
   "cell_type": "code",
   "execution_count": 8,
   "metadata": {},
   "outputs": [],
   "source": [
    "import pandas as pd\n",
    "import numpy as np\n",
    "# !pip install openpyxl"
   ]
  },
  {
   "cell_type": "code",
   "execution_count": null,
   "metadata": {},
   "outputs": [],
   "source": [
    "abordo = pd.read_excel(\"ABORDO.xlsx\")\n",
    "nuevas_columnas = abordo.iloc[0].tolist()\n",
    "abordo = abordo[1:]\n",
    "abordo.columns = nuevas_columnas\n",
    "abordo = abordo.iloc[:,1:]\n",
    "abordo.columns = [\"num_familia\",\"familia\",\"num_grupo\",\"grupo\",\"num_articulo\",\"alticulo\",\"tipo_venta\"]\n",
    "\n",
    "\n",
    "abordo_up = abordo.head(1020)\n",
    "abordo_down = abordo.head(-1020)\n",
    "abordo_down"
   ]
  },
  {
   "cell_type": "code",
   "execution_count": null,
   "metadata": {},
   "outputs": [],
   "source": []
  }
 ],
 "metadata": {
  "kernelspec": {
   "display_name": "data_analysis_env",
   "language": "python",
   "name": "python3"
  },
  "language_info": {
   "codemirror_mode": {
    "name": "ipython",
    "version": 3
   },
   "file_extension": ".py",
   "mimetype": "text/x-python",
   "name": "python",
   "nbconvert_exporter": "python",
   "pygments_lexer": "ipython3",
   "version": "3.11.11"
  },
  "orig_nbformat": 4
 },
 "nbformat": 4,
 "nbformat_minor": 2
}
