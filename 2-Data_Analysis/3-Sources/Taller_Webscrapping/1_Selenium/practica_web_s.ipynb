{
 "cells": [
  {
   "cell_type": "code",
   "execution_count": 45,
   "id": "4650bb8f",
   "metadata": {},
   "outputs": [],
   "source": [
    "from bs4 import BeautifulSoup as bs\n",
    "from selenium import webdriver\n",
    "from selenium.webdriver.common.by import By\n",
    "from selenium.webdriver.common.keys import Keys\n",
    "\n",
    "import time\n",
    "import pandas as pd\n",
    "import re\n"
   ]
  },
  {
   "cell_type": "code",
   "execution_count": 36,
   "id": "0dc281eb",
   "metadata": {},
   "outputs": [],
   "source": [
    "driver = webdriver.Edge()\n",
    "\n",
    "url = \"https://www.filmaffinity.com/es/topgen.php\"\n",
    "\n",
    "driver.get(url)"
   ]
  },
  {
   "cell_type": "code",
   "execution_count": 37,
   "id": "adfa788f",
   "metadata": {},
   "outputs": [],
   "source": [
    "for i in range(9):\n",
    "\n",
    "    driver.execute_script(\"window.scrollTo(0, document.body.scrollHeight);\")\n",
    "    time.sleep(1)\n",
    "    boton_bajar = driver.find_element(By.XPATH, '//*[@id=\"load-more-bt\"]')\n",
    "    boton_bajar.click()\n",
    "    time.sleep(1)\n"
   ]
  },
  {
   "cell_type": "code",
   "execution_count": 38,
   "id": "f426a456",
   "metadata": {},
   "outputs": [],
   "source": [
    "sopa = bs(driver.page_source, \"lxml\")"
   ]
  },
  {
   "cell_type": "code",
   "execution_count": 39,
   "id": "017d049d",
   "metadata": {},
   "outputs": [
    {
     "data": {
      "text/plain": [
       "300"
      ]
     },
     "execution_count": 39,
     "metadata": {},
     "output_type": "execute_result"
    }
   ],
   "source": [
    "elems = sopa.select('ul#top-movies ul')\n",
    "len(elems)"
   ]
  },
  {
   "cell_type": "code",
   "execution_count": 57,
   "id": "bba8c12a",
   "metadata": {},
   "outputs": [
    {
     "data": {
      "text/plain": [
       "0                                           El padrino\n",
       "1                                    Planeta Tierra II\n",
       "2                                 El padrino. Parte II\n",
       "3                              The Wire (Bajo escucha)\n",
       "4                                         Breaking Bad\n",
       "                            ...                       \n",
       "295    David Attenborough: Una vida en nuestro planeta\n",
       "296                                Más allá del jardín\n",
       "297                                            Océanos\n",
       "298                                         Succession\n",
       "299                           Anatomía de un asesinato\n",
       "Length: 300, dtype: object"
      ]
     },
     "execution_count": 57,
     "metadata": {},
     "output_type": "execute_result"
    }
   ],
   "source": [
    "titulos_pelis = []\n",
    "\n",
    "titulos = sopa.select('div.mc-title')\n",
    "for titulo in titulos:\n",
    "    titulos_pelis.append(titulo.get_text())\n",
    "\n",
    "titulos_pelis = pd.Series(titulos_pelis)\n",
    "titulos_pelis"
   ]
  },
  {
   "cell_type": "code",
   "execution_count": 58,
   "id": "aa1b56fa",
   "metadata": {},
   "outputs": [
    {
     "data": {
      "text/plain": [
       "0      1972\n",
       "1      2016\n",
       "2      1974\n",
       "3      2002\n",
       "4      2008\n",
       "       ... \n",
       "295    2020\n",
       "296    2014\n",
       "297    2009\n",
       "298    2018\n",
       "299    1959\n",
       "Length: 300, dtype: object"
      ]
     },
     "execution_count": 58,
     "metadata": {},
     "output_type": "execute_result"
    }
   ],
   "source": [
    "años_pelis = []\n",
    "\n",
    "años = sopa.select('span.mc-year')\n",
    "for año in años:\n",
    "    años_pelis.append(año.get_text())\n",
    "\n",
    "años_pelis = pd.Series(años_pelis)\n",
    "años_pelis"
   ]
  },
  {
   "cell_type": "code",
   "execution_count": 62,
   "id": "dcaa168f",
   "metadata": {},
   "outputs": [
    {
     "data": {
      "text/plain": [
       "0                                   Francis Ford Coppola\n",
       "1           Elizabeth White, Justin Anderson, Ed Charles\n",
       "2                                   Francis Ford Coppola\n",
       "3               David Simon (Creador), Joe Chappelle ...\n",
       "4        Vince Gilligan (Creador), Michelle MacLaren ...\n",
       "                             ...                        \n",
       "295    Alastair Fothergill, Jonathan Hughes, Keith Sc...\n",
       "296    Katie Krentz (Creadora), Patrick McHale (Cread...\n",
       "297                      Jacques Perrin, Jacques Cluzaud\n",
       "298            Jesse Armstrong (Creador), Adam McKay ...\n",
       "299                                       Otto Preminger\n",
       "Length: 300, dtype: object"
      ]
     },
     "execution_count": 62,
     "metadata": {},
     "output_type": "execute_result"
    }
   ],
   "source": [
    "directores_pelis = []\n",
    "\n",
    "directores = sopa.select('div.mc-director')\n",
    "for director in directores:\n",
    "    directores_pelis.append(director.get_text())\n",
    "\n",
    "directores_pelis = pd.Series(directores_pelis)\n",
    "directores_pelis"
   ]
  },
  {
   "cell_type": "code",
   "execution_count": 61,
   "id": "e5debb44",
   "metadata": {},
   "outputs": [
    {
     "data": {
      "text/plain": [
       "0      9,0\n",
       "1      8,9\n",
       "2      8,9\n",
       "3      8,8\n",
       "4      8,8\n",
       "      ... \n",
       "295    8,0\n",
       "296    8,0\n",
       "297    8,0\n",
       "298    8,0\n",
       "299    8,0\n",
       "Length: 300, dtype: object"
      ]
     },
     "execution_count": 61,
     "metadata": {},
     "output_type": "execute_result"
    }
   ],
   "source": [
    "notas_pelis = []\n",
    "\n",
    "notas = sopa.select('div.avg-rating')\n",
    "for nota in notas:\n",
    "    notas_pelis.append(nota.get_text())\n",
    "\n",
    "notas_pelis = pd.Series(notas_pelis)\n",
    "notas_pelis"
   ]
  },
  {
   "cell_type": "code",
   "execution_count": 63,
   "id": "23a689d0",
   "metadata": {},
   "outputs": [
    {
     "data": {
      "text/plain": [
       "0      Marlon Brando, Al Pacino, James Caan, Robert D...\n",
       "1      Documental,  Intervenciones de: David Attenbor...\n",
       "2      Al Pacino, Robert De Niro, Diane Keaton, Rober...\n",
       "3      Dominic West, Lance Reddick, Sonja Sohn, Clark...\n",
       "4      Bryan Cranston, Aaron Paul, Anna Gunn, Dean No...\n",
       "                             ...                        \n",
       "295    Documental,  Intervenciones de: David Attenbor...\n",
       "296    Animación,  Voz: Elijah Wood, Collin Dean, Mel...\n",
       "297    Documental,  Intervenciones de: Jacques Perrin...\n",
       "298    Brian Cox, Jeremy Strong, Sarah Snook, Kieran ...\n",
       "299    James Stewart, Lee Remick, Ben Gazzara, Arthur...\n",
       "Length: 300, dtype: object"
      ]
     },
     "execution_count": 63,
     "metadata": {},
     "output_type": "execute_result"
    }
   ],
   "source": [
    "casting_pelis = []\n",
    "\n",
    "casting = sopa.select('div.mc-cast')\n",
    "for actor in casting:\n",
    "    casting_pelis.append(actor.get_text())\n",
    "\n",
    "casting_pelis = pd.Series(casting_pelis)\n",
    "casting_pelis"
   ]
  },
  {
   "cell_type": "code",
   "execution_count": null,
   "id": "3f503664",
   "metadata": {},
   "outputs": [
    {
     "data": {
      "text/plain": [
       "'https://pics.filmaffinity.com/the_godfather-488102675-msmall.jpg'"
      ]
     },
     "execution_count": 76,
     "metadata": {},
     "output_type": "execute_result"
    }
   ],
   "source": [
    "fotos_pelis = []\n",
    "\n",
    "fotos = sopa.select(sopa.select('img.lazyloaded')[0][\"data-src\"])\n",
    "fotos\n",
    "\n",
    "\n",
    "# for foto in fotos:\n",
    "#     fotos_pelis.append(foto.get_text())\n",
    "\n",
    "# fotos_pelis = pd.Series(fotos_pelis)\n",
    "# fotos_pelis"
   ]
  },
  {
   "cell_type": "code",
   "execution_count": 65,
   "id": "243fe777",
   "metadata": {},
   "outputs": [
    {
     "data": {
      "text/html": [
       "<div>\n",
       "<style scoped>\n",
       "    .dataframe tbody tr th:only-of-type {\n",
       "        vertical-align: middle;\n",
       "    }\n",
       "\n",
       "    .dataframe tbody tr th {\n",
       "        vertical-align: top;\n",
       "    }\n",
       "\n",
       "    .dataframe thead th {\n",
       "        text-align: right;\n",
       "    }\n",
       "</style>\n",
       "<table border=\"1\" class=\"dataframe\">\n",
       "  <thead>\n",
       "    <tr style=\"text-align: right;\">\n",
       "      <th></th>\n",
       "      <th>titulo</th>\n",
       "      <th>año</th>\n",
       "      <th>director</th>\n",
       "      <th>casting</th>\n",
       "      <th>nota</th>\n",
       "    </tr>\n",
       "  </thead>\n",
       "  <tbody>\n",
       "    <tr>\n",
       "      <th>0</th>\n",
       "      <td>El padrino</td>\n",
       "      <td>1972</td>\n",
       "      <td>Francis Ford Coppola</td>\n",
       "      <td>Marlon Brando, Al Pacino, James Caan, Robert D...</td>\n",
       "      <td>9,0</td>\n",
       "    </tr>\n",
       "    <tr>\n",
       "      <th>1</th>\n",
       "      <td>Planeta Tierra II</td>\n",
       "      <td>2016</td>\n",
       "      <td>Elizabeth White, Justin Anderson, Ed Charles</td>\n",
       "      <td>Documental,  Intervenciones de: David Attenbor...</td>\n",
       "      <td>8,9</td>\n",
       "    </tr>\n",
       "    <tr>\n",
       "      <th>2</th>\n",
       "      <td>El padrino. Parte II</td>\n",
       "      <td>1974</td>\n",
       "      <td>Francis Ford Coppola</td>\n",
       "      <td>Al Pacino, Robert De Niro, Diane Keaton, Rober...</td>\n",
       "      <td>8,9</td>\n",
       "    </tr>\n",
       "    <tr>\n",
       "      <th>3</th>\n",
       "      <td>The Wire (Bajo escucha)</td>\n",
       "      <td>2002</td>\n",
       "      <td>David Simon (Creador), Joe Chappelle ...</td>\n",
       "      <td>Dominic West, Lance Reddick, Sonja Sohn, Clark...</td>\n",
       "      <td>8,8</td>\n",
       "    </tr>\n",
       "    <tr>\n",
       "      <th>4</th>\n",
       "      <td>Breaking Bad</td>\n",
       "      <td>2008</td>\n",
       "      <td>Vince Gilligan (Creador), Michelle MacLaren ...</td>\n",
       "      <td>Bryan Cranston, Aaron Paul, Anna Gunn, Dean No...</td>\n",
       "      <td>8,8</td>\n",
       "    </tr>\n",
       "    <tr>\n",
       "      <th>...</th>\n",
       "      <td>...</td>\n",
       "      <td>...</td>\n",
       "      <td>...</td>\n",
       "      <td>...</td>\n",
       "      <td>...</td>\n",
       "    </tr>\n",
       "    <tr>\n",
       "      <th>295</th>\n",
       "      <td>David Attenborough: Una vida en nuestro planeta</td>\n",
       "      <td>2020</td>\n",
       "      <td>Alastair Fothergill, Jonathan Hughes, Keith Sc...</td>\n",
       "      <td>Documental,  Intervenciones de: David Attenbor...</td>\n",
       "      <td>8,0</td>\n",
       "    </tr>\n",
       "    <tr>\n",
       "      <th>296</th>\n",
       "      <td>Más allá del jardín</td>\n",
       "      <td>2014</td>\n",
       "      <td>Katie Krentz (Creadora), Patrick McHale (Cread...</td>\n",
       "      <td>Animación,  Voz: Elijah Wood, Collin Dean, Mel...</td>\n",
       "      <td>8,0</td>\n",
       "    </tr>\n",
       "    <tr>\n",
       "      <th>297</th>\n",
       "      <td>Océanos</td>\n",
       "      <td>2009</td>\n",
       "      <td>Jacques Perrin, Jacques Cluzaud</td>\n",
       "      <td>Documental,  Intervenciones de: Jacques Perrin...</td>\n",
       "      <td>8,0</td>\n",
       "    </tr>\n",
       "    <tr>\n",
       "      <th>298</th>\n",
       "      <td>Succession</td>\n",
       "      <td>2018</td>\n",
       "      <td>Jesse Armstrong (Creador), Adam McKay ...</td>\n",
       "      <td>Brian Cox, Jeremy Strong, Sarah Snook, Kieran ...</td>\n",
       "      <td>8,0</td>\n",
       "    </tr>\n",
       "    <tr>\n",
       "      <th>299</th>\n",
       "      <td>Anatomía de un asesinato</td>\n",
       "      <td>1959</td>\n",
       "      <td>Otto Preminger</td>\n",
       "      <td>James Stewart, Lee Remick, Ben Gazzara, Arthur...</td>\n",
       "      <td>8,0</td>\n",
       "    </tr>\n",
       "  </tbody>\n",
       "</table>\n",
       "<p>300 rows × 5 columns</p>\n",
       "</div>"
      ],
      "text/plain": [
       "                                              titulo   año  \\\n",
       "0                                         El padrino  1972   \n",
       "1                                  Planeta Tierra II  2016   \n",
       "2                               El padrino. Parte II  1974   \n",
       "3                            The Wire (Bajo escucha)  2002   \n",
       "4                                       Breaking Bad  2008   \n",
       "..                                               ...   ...   \n",
       "295  David Attenborough: Una vida en nuestro planeta  2020   \n",
       "296                              Más allá del jardín  2014   \n",
       "297                                          Océanos  2009   \n",
       "298                                       Succession  2018   \n",
       "299                         Anatomía de un asesinato  1959   \n",
       "\n",
       "                                              director  \\\n",
       "0                                 Francis Ford Coppola   \n",
       "1         Elizabeth White, Justin Anderson, Ed Charles   \n",
       "2                                 Francis Ford Coppola   \n",
       "3             David Simon (Creador), Joe Chappelle ...   \n",
       "4      Vince Gilligan (Creador), Michelle MacLaren ...   \n",
       "..                                                 ...   \n",
       "295  Alastair Fothergill, Jonathan Hughes, Keith Sc...   \n",
       "296  Katie Krentz (Creadora), Patrick McHale (Cread...   \n",
       "297                    Jacques Perrin, Jacques Cluzaud   \n",
       "298          Jesse Armstrong (Creador), Adam McKay ...   \n",
       "299                                     Otto Preminger   \n",
       "\n",
       "                                               casting nota  \n",
       "0    Marlon Brando, Al Pacino, James Caan, Robert D...  9,0  \n",
       "1    Documental,  Intervenciones de: David Attenbor...  8,9  \n",
       "2    Al Pacino, Robert De Niro, Diane Keaton, Rober...  8,9  \n",
       "3    Dominic West, Lance Reddick, Sonja Sohn, Clark...  8,8  \n",
       "4    Bryan Cranston, Aaron Paul, Anna Gunn, Dean No...  8,8  \n",
       "..                                                 ...  ...  \n",
       "295  Documental,  Intervenciones de: David Attenbor...  8,0  \n",
       "296  Animación,  Voz: Elijah Wood, Collin Dean, Mel...  8,0  \n",
       "297  Documental,  Intervenciones de: Jacques Perrin...  8,0  \n",
       "298  Brian Cox, Jeremy Strong, Sarah Snook, Kieran ...  8,0  \n",
       "299  James Stewart, Lee Remick, Ben Gazzara, Arthur...  8,0  \n",
       "\n",
       "[300 rows x 5 columns]"
      ]
     },
     "execution_count": 65,
     "metadata": {},
     "output_type": "execute_result"
    }
   ],
   "source": [
    "Tabla_Filma = pd.DataFrame({\n",
    "                            \"titulo\":titulos_pelis,\n",
    "                            \"año\":años_pelis,\n",
    "                            \"director\": directores_pelis,\n",
    "                            \"casting\": casting_pelis,\n",
    "                            \"nota\":notas_pelis,\n",
    "                            })\n",
    "Tabla_Filma"
   ]
  }
 ],
 "metadata": {
  "kernelspec": {
   "display_name": "data_analysis_env",
   "language": "python",
   "name": "python3"
  },
  "language_info": {
   "codemirror_mode": {
    "name": "ipython",
    "version": 3
   },
   "file_extension": ".py",
   "mimetype": "text/x-python",
   "name": "python",
   "nbconvert_exporter": "python",
   "pygments_lexer": "ipython3",
   "version": "3.11.11"
  }
 },
 "nbformat": 4,
 "nbformat_minor": 5
}
