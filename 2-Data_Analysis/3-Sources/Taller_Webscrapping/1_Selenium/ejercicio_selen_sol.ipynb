{
 "cells": [
  {
   "cell_type": "markdown",
   "id": "e58c452c",
   "metadata": {},
   "source": [
    "# EJERCICIO SELENIUM\n",
    "\n",
    "### Os acordais de la tienda de teclados?\n",
    "\n",
    "https://extremetechcr.com/tienda/30-teclados\n",
    "\n",
    "\n",
    "Quiero:\n",
    "\n",
    "Todos los teclados (imagen, precio y descripcion) de las 4 primeras paginas.\n",
    "\n",
    "Tendreis que:\n",
    "- 1 montar el selenium\n",
    "- 2 darle a cookies si hay (creo que no)\n",
    "- 3 coger la pagina y a la sopa\n",
    "- 4 obtener todos los elementos\n",
    "- 5 hacer click en el numero de pagina siguiente o en el boton de pagina siguiente\n",
    "- 6 Volver al punto 3\n",
    "- 7 Repetir untill finished (6 PAGINAS)\n",
    "\n",
    "Todo terminadito en un dataframe bonito. Ya tu sabes."
   ]
  },
  {
   "cell_type": "code",
   "execution_count": 1,
   "id": "a8cf09cc",
   "metadata": {},
   "outputs": [],
   "source": [
    "from bs4 import BeautifulSoup as bs\n",
    "from selenium import webdriver\n",
    "from selenium.webdriver.common.by import By\n",
    "from selenium.webdriver.common.keys import Keys\n",
    "\n",
    "import time\n",
    "\n",
    "import pandas as pd"
   ]
  },
  {
   "cell_type": "code",
   "execution_count": null,
   "id": "2907b8ea",
   "metadata": {},
   "outputs": [],
   "source": [
    "for pagina in range(1, 5):\n",
    "\n",
    "    tec_url = f\"https://extremetechcr.com/tienda/30-teclados#page-{pagina}\"\n",
    "\n",
    "    driver = webdriver.Chrome()\n",
    "\n",
    "    driver.get(tec_url)"
   ]
  },
  {
   "cell_type": "code",
   "execution_count": null,
   "id": "16f1282c",
   "metadata": {},
   "outputs": [],
   "source": [
    "# boton_next = driver.find_element(By.XPATH, '//*[@id=\"pagination_next_bottom\"]/a')\n"
   ]
  },
  {
   "cell_type": "code",
   "execution_count": 41,
   "id": "79461839",
   "metadata": {},
   "outputs": [],
   "source": [
    "tec_url = f\"https://extremetechcr.com/tienda/30-teclados#page-2\"\n",
    "\n",
    "driver = webdriver.Chrome()\n",
    "\n",
    "driver.get(tec_url)"
   ]
  },
  {
   "cell_type": "code",
   "execution_count": 42,
   "id": "1d1bbdb2",
   "metadata": {},
   "outputs": [],
   "source": [
    "sopa = bs(driver.page_source, \"lxml\")"
   ]
  },
  {
   "cell_type": "code",
   "execution_count": 43,
   "id": "e268bdce",
   "metadata": {},
   "outputs": [
    {
     "data": {
      "text/plain": [
       "24"
      ]
     },
     "execution_count": 43,
     "metadata": {},
     "output_type": "execute_result"
    }
   ],
   "source": [
    "len(sopa.select(\"div.product-container.product-block\"))"
   ]
  },
  {
   "cell_type": "code",
   "execution_count": 44,
   "id": "5851d6b7",
   "metadata": {},
   "outputs": [],
   "source": [
    "cosas = sopa.select(\"div.product-container\")\n"
   ]
  },
  {
   "cell_type": "code",
   "execution_count": 45,
   "id": "7080395a",
   "metadata": {},
   "outputs": [],
   "source": [
    "precio = cosas[0].select(\"span.price.product-price\")[0].get_text().strip()"
   ]
  },
  {
   "cell_type": "code",
   "execution_count": 46,
   "id": "d2a68034",
   "metadata": {},
   "outputs": [],
   "source": [
    "descripcion = cosas[0].select(\"a.product-name\")[0].get_text().strip()\n"
   ]
  },
  {
   "cell_type": "code",
   "execution_count": 47,
   "id": "93a5c7f7",
   "metadata": {},
   "outputs": [],
   "source": [
    "imagen = cosas[0].select(\"img\")[0][\"src\"]"
   ]
  },
  {
   "cell_type": "code",
   "execution_count": 48,
   "id": "9f7cd4ee",
   "metadata": {},
   "outputs": [
    {
     "name": "stdout",
     "output_type": "stream",
     "text": [
      "₡ 15,000\n",
      "https://extremetechcr.com/tienda/34839-home_default/keycap-pbt-set-ducky-blank-black-cherry-profile.jpg\n",
      "Keycap PBT Set Ducky - Blank Black -...\n"
     ]
    }
   ],
   "source": [
    "print(precio, imagen, descripcion, sep=\"\\n\")\n"
   ]
  },
  {
   "cell_type": "code",
   "execution_count": 50,
   "id": "c28d8ed9",
   "metadata": {},
   "outputs": [],
   "source": [
    "imagenes = []\n",
    "descripciones = []\n",
    "precios = []\n",
    "\n",
    "for pagina in range(1, 5):\n",
    "\n",
    "    tec_url = f\"https://extremetechcr.com/tienda/30-teclados#page-{pagina}\"\n",
    "\n",
    "    driver = webdriver.Chrome()\n",
    "\n",
    "    driver.get(tec_url)\n",
    "    time.sleep(1)\n",
    "\n",
    "    sopa = bs(driver.page_source, \"lxml\")\n",
    "    cosas = sopa.select(\"div.product-container\")\n",
    "    for cosa in cosas:\n",
    "    \n",
    "        precio = cosa.select(\"span.price.product-price\")[0].get_text().strip()\n",
    "        descripcion = cosa.select(\"a.product-name\")[0].get_text().strip()\n",
    "        imagen = cosa.select(\"img\")[0][\"src\"]\n",
    "\n",
    "        precios.append(precio)\n",
    "        descripciones.append(descripcion)\n",
    "        imagenes.append(imagen)\n",
    "    \n",
    "    time.sleep(1)\n",
    "\n",
    "        \n",
    "        \n",
    "    \n",
    "    "
   ]
  },
  {
   "cell_type": "code",
   "execution_count": 52,
   "id": "6194eab3",
   "metadata": {},
   "outputs": [
    {
     "data": {
      "text/html": [
       "<div>\n",
       "<style scoped>\n",
       "    .dataframe tbody tr th:only-of-type {\n",
       "        vertical-align: middle;\n",
       "    }\n",
       "\n",
       "    .dataframe tbody tr th {\n",
       "        vertical-align: top;\n",
       "    }\n",
       "\n",
       "    .dataframe thead th {\n",
       "        text-align: right;\n",
       "    }\n",
       "</style>\n",
       "<table border=\"1\" class=\"dataframe\">\n",
       "  <thead>\n",
       "    <tr style=\"text-align: right;\">\n",
       "      <th></th>\n",
       "      <th>precio</th>\n",
       "      <th>imagen</th>\n",
       "      <th>descripcion</th>\n",
       "    </tr>\n",
       "  </thead>\n",
       "  <tbody>\n",
       "    <tr>\n",
       "      <th>0</th>\n",
       "      <td>₡ 2,900</td>\n",
       "      <td>https://extremetechcr.com/tienda/34929-home_de...</td>\n",
       "      <td>Teclado Argom USB - Ingles - ARG-KB-7424</td>\n",
       "    </tr>\n",
       "    <tr>\n",
       "      <th>1</th>\n",
       "      <td>₡ 3,000</td>\n",
       "      <td>https://extremetechcr.com/tienda/15173-home_de...</td>\n",
       "      <td>Argom - Teclado numérico</td>\n",
       "    </tr>\n",
       "    <tr>\n",
       "      <th>2</th>\n",
       "      <td>₡ 3,000</td>\n",
       "      <td>https://extremetechcr.com/tienda/15175-home_de...</td>\n",
       "      <td>Argom - Teclado</td>\n",
       "    </tr>\n",
       "    <tr>\n",
       "      <th>3</th>\n",
       "      <td>₡ 3,000</td>\n",
       "      <td>https://extremetechcr.com/tienda/26742-home_de...</td>\n",
       "      <td>Teclado UNNO TEKNO Klass USB Español -...</td>\n",
       "    </tr>\n",
       "    <tr>\n",
       "      <th>4</th>\n",
       "      <td>₡ 3,000</td>\n",
       "      <td>https://extremetechcr.com/tienda/35196-home_de...</td>\n",
       "      <td>XTech XTK-160E - Ingles</td>\n",
       "    </tr>\n",
       "    <tr>\n",
       "      <th>...</th>\n",
       "      <td>...</td>\n",
       "      <td>...</td>\n",
       "      <td>...</td>\n",
       "    </tr>\n",
       "    <tr>\n",
       "      <th>91</th>\n",
       "      <td>₡ 49,900</td>\n",
       "      <td>https://extremetechcr.com/tienda/29176-home_de...</td>\n",
       "      <td>Logitech MX Keys Mini</td>\n",
       "    </tr>\n",
       "    <tr>\n",
       "      <th>92</th>\n",
       "      <td>₡ 49,900</td>\n",
       "      <td>https://extremetechcr.com/tienda/34414-home_de...</td>\n",
       "      <td>Logitech MX Keys Mini for Business Español</td>\n",
       "    </tr>\n",
       "    <tr>\n",
       "      <th>93</th>\n",
       "      <td>₡ 51,000</td>\n",
       "      <td>https://extremetechcr.com/tienda/9572-home_def...</td>\n",
       "      <td>HyperX Alloy Origins Core RGB - Red</td>\n",
       "    </tr>\n",
       "    <tr>\n",
       "      <th>94</th>\n",
       "      <td>₡ 51,900</td>\n",
       "      <td>https://extremetechcr.com/tienda/33979-home_de...</td>\n",
       "      <td>Logitech MX Keys S - Español - Grafito</td>\n",
       "    </tr>\n",
       "    <tr>\n",
       "      <th>95</th>\n",
       "      <td>₡ 52,000</td>\n",
       "      <td>https://extremetechcr.com/tienda/17539-home_de...</td>\n",
       "      <td>Corsair k65 RGB MINI, CHERRY MX SPEED-Ingles</td>\n",
       "    </tr>\n",
       "  </tbody>\n",
       "</table>\n",
       "<p>96 rows × 3 columns</p>\n",
       "</div>"
      ],
      "text/plain": [
       "      precio                                             imagen  \\\n",
       "0    ₡ 2,900  https://extremetechcr.com/tienda/34929-home_de...   \n",
       "1    ₡ 3,000  https://extremetechcr.com/tienda/15173-home_de...   \n",
       "2    ₡ 3,000  https://extremetechcr.com/tienda/15175-home_de...   \n",
       "3    ₡ 3,000  https://extremetechcr.com/tienda/26742-home_de...   \n",
       "4    ₡ 3,000  https://extremetechcr.com/tienda/35196-home_de...   \n",
       "..       ...                                                ...   \n",
       "91  ₡ 49,900  https://extremetechcr.com/tienda/29176-home_de...   \n",
       "92  ₡ 49,900  https://extremetechcr.com/tienda/34414-home_de...   \n",
       "93  ₡ 51,000  https://extremetechcr.com/tienda/9572-home_def...   \n",
       "94  ₡ 51,900  https://extremetechcr.com/tienda/33979-home_de...   \n",
       "95  ₡ 52,000  https://extremetechcr.com/tienda/17539-home_de...   \n",
       "\n",
       "                                     descripcion  \n",
       "0       Teclado Argom USB - Ingles - ARG-KB-7424  \n",
       "1                       Argom - Teclado numérico  \n",
       "2                                Argom - Teclado  \n",
       "3      Teclado UNNO TEKNO Klass USB Español -...  \n",
       "4                        XTech XTK-160E - Ingles  \n",
       "..                                           ...  \n",
       "91                         Logitech MX Keys Mini  \n",
       "92    Logitech MX Keys Mini for Business Español  \n",
       "93           HyperX Alloy Origins Core RGB - Red  \n",
       "94        Logitech MX Keys S - Español - Grafito  \n",
       "95  Corsair k65 RGB MINI, CHERRY MX SPEED-Ingles  \n",
       "\n",
       "[96 rows x 3 columns]"
      ]
     },
     "execution_count": 52,
     "metadata": {},
     "output_type": "execute_result"
    }
   ],
   "source": [
    "df = pd.DataFrame({\n",
    "    \"precio\": precios,\n",
    "    \"imagen\": imagenes,\n",
    "    \"descripcion\": descripciones\n",
    "})\n",
    "df"
   ]
  },
  {
   "cell_type": "markdown",
   "id": "6cc66785",
   "metadata": {},
   "source": []
  },
  {
   "cell_type": "markdown",
   "id": "e165e02a",
   "metadata": {},
   "source": []
  },
  {
   "cell_type": "markdown",
   "id": "e22b1d56",
   "metadata": {},
   "source": []
  },
  {
   "cell_type": "markdown",
   "id": "ef6dbf37",
   "metadata": {},
   "source": []
  },
  {
   "cell_type": "markdown",
   "id": "443f7214",
   "metadata": {},
   "source": []
  },
  {
   "cell_type": "markdown",
   "id": "864a1d96",
   "metadata": {},
   "source": []
  },
  {
   "cell_type": "markdown",
   "id": "568c0a8a",
   "metadata": {},
   "source": []
  },
  {
   "cell_type": "markdown",
   "id": "225418df",
   "metadata": {},
   "source": []
  },
  {
   "cell_type": "markdown",
   "id": "513ec74a",
   "metadata": {},
   "source": []
  },
  {
   "cell_type": "markdown",
   "id": "b83818ec",
   "metadata": {},
   "source": []
  },
  {
   "cell_type": "code",
   "execution_count": null,
   "id": "1f0e90a0",
   "metadata": {},
   "outputs": [],
   "source": [
    "HINT 1\n",
    "\n",
    "Igual lo puedes hacer sin apretar el boton..."
   ]
  },
  {
   "cell_type": "code",
   "execution_count": null,
   "id": "cdd09e77",
   "metadata": {},
   "outputs": [],
   "source": [
    "HINT 2\n",
    "\n",
    "\n",
    "En el propio boton, en sus caracteristicas esta la solucion (ruta...)"
   ]
  },
  {
   "cell_type": "code",
   "execution_count": null,
   "id": "41faa608",
   "metadata": {},
   "outputs": [],
   "source": [
    "SOLUCION\n",
    "\n",
    "\n",
    "No le podemos dar al boton por que nos banea, pero como sabemos que la siguinte pagina es https://extremetechcr.com/tienda/30-teclados#/page-2, ya es simplemente iterar sobre ese numero de pagina e ir obteniendo el html de cada una de ellas..."
   ]
  }
 ],
 "metadata": {
  "kernelspec": {
   "display_name": "data_env",
   "language": "python",
   "name": "python3"
  },
  "language_info": {
   "codemirror_mode": {
    "name": "ipython",
    "version": 3
   },
   "file_extension": ".py",
   "mimetype": "text/x-python",
   "name": "python",
   "nbconvert_exporter": "python",
   "pygments_lexer": "ipython3",
   "version": "3.11.11"
  }
 },
 "nbformat": 4,
 "nbformat_minor": 5
}
