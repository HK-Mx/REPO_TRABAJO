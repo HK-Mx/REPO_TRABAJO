{
 "cells": [
  {
   "cell_type": "markdown",
   "metadata": {},
   "source": [
    "# Ataca la API de RICK Y MORTY"
   ]
  },
  {
   "cell_type": "markdown",
   "metadata": {},
   "source": [
    "Consultar la [documentación](https://rickandmortyapi.com/documentation)"
   ]
  },
  {
   "cell_type": "markdown",
   "metadata": {},
   "source": [
    "Quiero que os traigais y pongais en un dataframe (valora que campos quieres mantener y que campos no!) todos los **personajes** de la serie que sean:\n",
    "\n",
    "- De especie humana\n",
    "- Que esten de estatus muerto\n",
    "- Y de genero female"
   ]
  },
  {
   "cell_type": "code",
   "execution_count": 1,
   "metadata": {},
   "outputs": [],
   "source": [
    "import pandas as pd \n",
    "import numpy as np \n",
    "import requests\n",
    "import os\n",
    "import json"
   ]
  },
  {
   "cell_type": "code",
   "execution_count": 2,
   "metadata": {},
   "outputs": [],
   "source": [
    "url =  \"https://rickandmortyapi.com/api/character\"\n",
    "\n",
    "characters = requests.get(url)\n",
    "data = characters.json()"
   ]
  },
  {
   "cell_type": "code",
   "execution_count": 3,
   "metadata": {},
   "outputs": [
    {
     "data": {
      "text/plain": [
       "<pandas.core.groupby.generic.SeriesGroupBy object at 0x00000272F5A53890>"
      ]
     },
     "execution_count": 3,
     "metadata": {},
     "output_type": "execute_result"
    }
   ],
   "source": [
    "\n",
    "\n",
    "muertos = []\n",
    "humanos = []\n",
    "mujeres = []\n",
    "\n",
    "for personaje in data[\"results\"]:\n",
    "    if personaje[\"status\"] == 'Dead':\n",
    "        muertos.append(personaje[\"name\"])\n",
    "    elif personaje[\"species\"] == \"Human\":\n",
    "        humanos.append(personaje[\"name\"])\n",
    "    elif personaje[\"gender\"] == \"Female\":\n",
    "        mujeres.append(personaje[\"name\"])\n",
    "            \n",
    "dead = pd.DataFrame(muertos)\n",
    "human = pd.DataFrame(humanos)\n",
    "females = pd.DataFrame(mujeres)\n",
    "\n",
    "df = pd.DataFrame()\n",
    "df.loc[:,\"muertos\"] = dead\n",
    "df.loc[:,\"humanos\"] = human\n",
    "df.loc[:,\"mujeres\"] = females\n",
    "\n",
    "df.groupby(\"muertos\")[\"humanos\"]\n",
    "# df = pd.DataFrame(data['results'])\n",
    "# print(df[['name', 'status']].head()) # Mostrar nombre y estado en el DataFrame"
   ]
  },
  {
   "cell_type": "markdown",
   "metadata": {},
   "source": [
    "EJERCICIO 2\n",
    "\n",
    "https://pokeapi.co/docs/v2 <- Un dataframe con todos los pokemons de tipo (type) fuego (fire)"
   ]
  },
  {
   "cell_type": "code",
   "execution_count": null,
   "metadata": {},
   "outputs": [
    {
     "data": {
      "text/html": [
       "<div>\n",
       "<style scoped>\n",
       "    .dataframe tbody tr th:only-of-type {\n",
       "        vertical-align: middle;\n",
       "    }\n",
       "\n",
       "    .dataframe tbody tr th {\n",
       "        vertical-align: top;\n",
       "    }\n",
       "\n",
       "    .dataframe thead th {\n",
       "        text-align: right;\n",
       "    }\n",
       "</style>\n",
       "<table border=\"1\" class=\"dataframe\">\n",
       "  <thead>\n",
       "    <tr style=\"text-align: right;\">\n",
       "      <th></th>\n",
       "      <th>Nombres</th>\n",
       "      <th>Tipos</th>\n",
       "    </tr>\n",
       "  </thead>\n",
       "  <tbody>\n",
       "    <tr>\n",
       "      <th>3</th>\n",
       "      <td>charmander</td>\n",
       "      <td>[fire]</td>\n",
       "    </tr>\n",
       "    <tr>\n",
       "      <th>4</th>\n",
       "      <td>charmeleon</td>\n",
       "      <td>[fire]</td>\n",
       "    </tr>\n",
       "    <tr>\n",
       "      <th>5</th>\n",
       "      <td>charizard</td>\n",
       "      <td>[fire, flying]</td>\n",
       "    </tr>\n",
       "    <tr>\n",
       "      <th>36</th>\n",
       "      <td>vulpix</td>\n",
       "      <td>[fire]</td>\n",
       "    </tr>\n",
       "    <tr>\n",
       "      <th>37</th>\n",
       "      <td>ninetales</td>\n",
       "      <td>[fire]</td>\n",
       "    </tr>\n",
       "    <tr>\n",
       "      <th>...</th>\n",
       "      <td>...</td>\n",
       "      <td>...</td>\n",
       "    </tr>\n",
       "    <tr>\n",
       "      <th>740</th>\n",
       "      <td>oricorio-baile</td>\n",
       "      <td>[fire, flying]</td>\n",
       "    </tr>\n",
       "    <tr>\n",
       "      <th>756</th>\n",
       "      <td>salandit</td>\n",
       "      <td>[poison, fire]</td>\n",
       "    </tr>\n",
       "    <tr>\n",
       "      <th>757</th>\n",
       "      <td>salazzle</td>\n",
       "      <td>[poison, fire]</td>\n",
       "    </tr>\n",
       "    <tr>\n",
       "      <th>775</th>\n",
       "      <td>turtonator</td>\n",
       "      <td>[fire, dragon]</td>\n",
       "    </tr>\n",
       "    <tr>\n",
       "      <th>805</th>\n",
       "      <td>blacephalon</td>\n",
       "      <td>[fire, ghost]</td>\n",
       "    </tr>\n",
       "  </tbody>\n",
       "</table>\n",
       "<p>64 rows × 2 columns</p>\n",
       "</div>"
      ],
      "text/plain": [
       "            Nombres           Tipos\n",
       "3        charmander          [fire]\n",
       "4        charmeleon          [fire]\n",
       "5         charizard  [fire, flying]\n",
       "36           vulpix          [fire]\n",
       "37        ninetales          [fire]\n",
       "..              ...             ...\n",
       "740  oricorio-baile  [fire, flying]\n",
       "756        salandit  [poison, fire]\n",
       "757        salazzle  [poison, fire]\n",
       "775      turtonator  [fire, dragon]\n",
       "805     blacephalon   [fire, ghost]\n",
       "\n",
       "[64 rows x 2 columns]"
      ]
     },
     "execution_count": 5,
     "metadata": {},
     "output_type": "execute_result"
    }
   ],
   "source": [
    "url_principal = \"https://pokeapi.co/api/v2/pokemon?limit=806\"\n",
    "data = requests.get(url_principal)\n",
    "poke_data = data.json()\n",
    "\n",
    "poke_data[\"results\"]\n",
    "nombres = []\n",
    "tipos = []\n",
    "\n",
    "if 'results' in poke_data:\n",
    "    for pokemon in poke_data['results']:\n",
    "        pokemon_url = pokemon['url']\n",
    "        respuesta_pokemon = requests.get(pokemon_url)\n",
    "        datos_pokemon = respuesta_pokemon.json()\n",
    "\n",
    "        nombre_pokemon = datos_pokemon['name']\n",
    "        tipos_pokemon = [tipo['type']['name'] for tipo in datos_pokemon['types']]\n",
    "\n",
    "        nombres.append(nombre_pokemon)\n",
    "        tipos.append(tipos_pokemon)\n",
    "\n",
    "\n",
    "poke_df = pd.DataFrame({\"Nombres\":nombres, \"Tipos\":tipos})\n",
    "poke_df\n",
    "\n",
    "# Función para verificar si un Pokémon es de tipo fuego\n",
    "def es_tipo_fuego(lista_tipos):\n",
    "    return 'fire' in lista_tipos\n",
    "\n",
    "# Filtra el DataFrame para obtener solo los Pokémon de tipo fuego\n",
    "df_pokemon_fuego = poke_df[poke_df['Tipos'].apply(es_tipo_fuego)]\n",
    "\n",
    "df_pokemon_fuego\n",
    "\n"
   ]
  }
 ],
 "metadata": {
  "kernelspec": {
   "display_name": "data_analysis_env",
   "language": "python",
   "name": "python3"
  },
  "language_info": {
   "codemirror_mode": {
    "name": "ipython",
    "version": 3
   },
   "file_extension": ".py",
   "mimetype": "text/x-python",
   "name": "python",
   "nbconvert_exporter": "python",
   "pygments_lexer": "ipython3",
   "version": "3.11.11"
  },
  "orig_nbformat": 4
 },
 "nbformat": 4,
 "nbformat_minor": 2
}
