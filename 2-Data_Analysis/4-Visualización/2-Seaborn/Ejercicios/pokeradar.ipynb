{
 "cells": [
  {
   "cell_type": "markdown",
   "id": "4e1da50c",
   "metadata": {},
   "source": [
    "QUIERO:\n",
    "\n",
    "dos dropdowns (esto ya esta)\n",
    "abajo, 3 radares: los dos que ya estaban y otro mas con los radares combinado (superpuesto) (para esto os hara falta cambiar la funcion de hacer el radar).\n",
    "\n",
    "abajo, dos outputs mas con las imagenes de cada bicho que hemos sacado con el nombre y llamando a la api: https://pokeapi.co/api/v2/pokemon/bulbasaur/"
   ]
  },
  {
   "cell_type": "code",
   "execution_count": 15,
   "id": "c9592735",
   "metadata": {},
   "outputs": [],
   "source": [
    "#!pip install ipywidgets\n"
   ]
  },
  {
   "cell_type": "code",
   "execution_count": 16,
   "id": "5ca2d93d",
   "metadata": {},
   "outputs": [],
   "source": [
    "import pandas as pd\n",
    "import numpy as np\n",
    "import matplotlib.pyplot as plt\n",
    "import ipywidgets as w\n",
    "from IPython.display import clear_output\n",
    "from io import BytesIO\n",
    "from PIL import Image\n",
    "import requests\n",
    "from IPython.display import display, Image as IPImage"
   ]
  },
  {
   "cell_type": "code",
   "execution_count": 17,
   "id": "63d4a53b",
   "metadata": {},
   "outputs": [],
   "source": [
    "df = pd.read_csv(\"data/Pokemon.csv\")\n",
    "df = df.iloc[:,1:]"
   ]
  },
  {
   "cell_type": "code",
   "execution_count": 18,
   "id": "e7409209",
   "metadata": {},
   "outputs": [
    {
     "data": {
      "text/html": [
       "<div>\n",
       "<style scoped>\n",
       "    .dataframe tbody tr th:only-of-type {\n",
       "        vertical-align: middle;\n",
       "    }\n",
       "\n",
       "    .dataframe tbody tr th {\n",
       "        vertical-align: top;\n",
       "    }\n",
       "\n",
       "    .dataframe thead th {\n",
       "        text-align: right;\n",
       "    }\n",
       "</style>\n",
       "<table border=\"1\" class=\"dataframe\">\n",
       "  <thead>\n",
       "    <tr style=\"text-align: right;\">\n",
       "      <th></th>\n",
       "      <th>Name</th>\n",
       "      <th>Type 1</th>\n",
       "      <th>Type 2</th>\n",
       "      <th>Total</th>\n",
       "      <th>HP</th>\n",
       "      <th>Attack</th>\n",
       "      <th>Defense</th>\n",
       "      <th>Sp. Atk</th>\n",
       "      <th>Sp. Def</th>\n",
       "      <th>Speed</th>\n",
       "      <th>Stage</th>\n",
       "      <th>Legendary</th>\n",
       "    </tr>\n",
       "  </thead>\n",
       "  <tbody>\n",
       "    <tr>\n",
       "      <th>0</th>\n",
       "      <td>Bulbasaur</td>\n",
       "      <td>Grass</td>\n",
       "      <td>Poison</td>\n",
       "      <td>318</td>\n",
       "      <td>45</td>\n",
       "      <td>49</td>\n",
       "      <td>49</td>\n",
       "      <td>65</td>\n",
       "      <td>65</td>\n",
       "      <td>45</td>\n",
       "      <td>1</td>\n",
       "      <td>False</td>\n",
       "    </tr>\n",
       "    <tr>\n",
       "      <th>1</th>\n",
       "      <td>Ivysaur</td>\n",
       "      <td>Grass</td>\n",
       "      <td>Poison</td>\n",
       "      <td>405</td>\n",
       "      <td>60</td>\n",
       "      <td>62</td>\n",
       "      <td>63</td>\n",
       "      <td>80</td>\n",
       "      <td>80</td>\n",
       "      <td>60</td>\n",
       "      <td>2</td>\n",
       "      <td>False</td>\n",
       "    </tr>\n",
       "    <tr>\n",
       "      <th>2</th>\n",
       "      <td>Venusaur</td>\n",
       "      <td>Grass</td>\n",
       "      <td>Poison</td>\n",
       "      <td>525</td>\n",
       "      <td>80</td>\n",
       "      <td>82</td>\n",
       "      <td>83</td>\n",
       "      <td>100</td>\n",
       "      <td>100</td>\n",
       "      <td>80</td>\n",
       "      <td>3</td>\n",
       "      <td>False</td>\n",
       "    </tr>\n",
       "    <tr>\n",
       "      <th>3</th>\n",
       "      <td>Charmander</td>\n",
       "      <td>Fire</td>\n",
       "      <td>NaN</td>\n",
       "      <td>309</td>\n",
       "      <td>39</td>\n",
       "      <td>52</td>\n",
       "      <td>43</td>\n",
       "      <td>60</td>\n",
       "      <td>50</td>\n",
       "      <td>65</td>\n",
       "      <td>1</td>\n",
       "      <td>False</td>\n",
       "    </tr>\n",
       "    <tr>\n",
       "      <th>4</th>\n",
       "      <td>Charmeleon</td>\n",
       "      <td>Fire</td>\n",
       "      <td>NaN</td>\n",
       "      <td>405</td>\n",
       "      <td>58</td>\n",
       "      <td>64</td>\n",
       "      <td>58</td>\n",
       "      <td>80</td>\n",
       "      <td>65</td>\n",
       "      <td>80</td>\n",
       "      <td>2</td>\n",
       "      <td>False</td>\n",
       "    </tr>\n",
       "    <tr>\n",
       "      <th>...</th>\n",
       "      <td>...</td>\n",
       "      <td>...</td>\n",
       "      <td>...</td>\n",
       "      <td>...</td>\n",
       "      <td>...</td>\n",
       "      <td>...</td>\n",
       "      <td>...</td>\n",
       "      <td>...</td>\n",
       "      <td>...</td>\n",
       "      <td>...</td>\n",
       "      <td>...</td>\n",
       "      <td>...</td>\n",
       "    </tr>\n",
       "    <tr>\n",
       "      <th>146</th>\n",
       "      <td>Dratini</td>\n",
       "      <td>Dragon</td>\n",
       "      <td>NaN</td>\n",
       "      <td>300</td>\n",
       "      <td>41</td>\n",
       "      <td>64</td>\n",
       "      <td>45</td>\n",
       "      <td>50</td>\n",
       "      <td>50</td>\n",
       "      <td>50</td>\n",
       "      <td>1</td>\n",
       "      <td>False</td>\n",
       "    </tr>\n",
       "    <tr>\n",
       "      <th>147</th>\n",
       "      <td>Dragonair</td>\n",
       "      <td>Dragon</td>\n",
       "      <td>NaN</td>\n",
       "      <td>420</td>\n",
       "      <td>61</td>\n",
       "      <td>84</td>\n",
       "      <td>65</td>\n",
       "      <td>70</td>\n",
       "      <td>70</td>\n",
       "      <td>70</td>\n",
       "      <td>2</td>\n",
       "      <td>False</td>\n",
       "    </tr>\n",
       "    <tr>\n",
       "      <th>148</th>\n",
       "      <td>Dragonite</td>\n",
       "      <td>Dragon</td>\n",
       "      <td>Flying</td>\n",
       "      <td>600</td>\n",
       "      <td>91</td>\n",
       "      <td>134</td>\n",
       "      <td>95</td>\n",
       "      <td>100</td>\n",
       "      <td>100</td>\n",
       "      <td>80</td>\n",
       "      <td>3</td>\n",
       "      <td>False</td>\n",
       "    </tr>\n",
       "    <tr>\n",
       "      <th>149</th>\n",
       "      <td>Mewtwo</td>\n",
       "      <td>Psychic</td>\n",
       "      <td>NaN</td>\n",
       "      <td>680</td>\n",
       "      <td>106</td>\n",
       "      <td>110</td>\n",
       "      <td>90</td>\n",
       "      <td>154</td>\n",
       "      <td>90</td>\n",
       "      <td>130</td>\n",
       "      <td>1</td>\n",
       "      <td>True</td>\n",
       "    </tr>\n",
       "    <tr>\n",
       "      <th>150</th>\n",
       "      <td>Mew</td>\n",
       "      <td>Psychic</td>\n",
       "      <td>NaN</td>\n",
       "      <td>600</td>\n",
       "      <td>100</td>\n",
       "      <td>100</td>\n",
       "      <td>100</td>\n",
       "      <td>100</td>\n",
       "      <td>100</td>\n",
       "      <td>100</td>\n",
       "      <td>1</td>\n",
       "      <td>False</td>\n",
       "    </tr>\n",
       "  </tbody>\n",
       "</table>\n",
       "<p>151 rows × 12 columns</p>\n",
       "</div>"
      ],
      "text/plain": [
       "           Name   Type 1  Type 2  Total   HP  Attack  Defense  Sp. Atk  \\\n",
       "0     Bulbasaur    Grass  Poison    318   45      49       49       65   \n",
       "1       Ivysaur    Grass  Poison    405   60      62       63       80   \n",
       "2      Venusaur    Grass  Poison    525   80      82       83      100   \n",
       "3    Charmander     Fire     NaN    309   39      52       43       60   \n",
       "4    Charmeleon     Fire     NaN    405   58      64       58       80   \n",
       "..          ...      ...     ...    ...  ...     ...      ...      ...   \n",
       "146     Dratini   Dragon     NaN    300   41      64       45       50   \n",
       "147   Dragonair   Dragon     NaN    420   61      84       65       70   \n",
       "148   Dragonite   Dragon  Flying    600   91     134       95      100   \n",
       "149      Mewtwo  Psychic     NaN    680  106     110       90      154   \n",
       "150         Mew  Psychic     NaN    600  100     100      100      100   \n",
       "\n",
       "     Sp. Def  Speed  Stage  Legendary  \n",
       "0         65     45      1      False  \n",
       "1         80     60      2      False  \n",
       "2        100     80      3      False  \n",
       "3         50     65      1      False  \n",
       "4         65     80      2      False  \n",
       "..       ...    ...    ...        ...  \n",
       "146       50     50      1      False  \n",
       "147       70     70      2      False  \n",
       "148      100     80      3      False  \n",
       "149       90    130      1       True  \n",
       "150      100    100      1      False  \n",
       "\n",
       "[151 rows x 12 columns]"
      ]
     },
     "execution_count": 18,
     "metadata": {},
     "output_type": "execute_result"
    }
   ],
   "source": [
    "df"
   ]
  },
  {
   "cell_type": "code",
   "execution_count": 19,
   "id": "43cef6b9",
   "metadata": {},
   "outputs": [
    {
     "data": {
      "text/plain": [
       "np.int64(250)"
      ]
     },
     "execution_count": 19,
     "metadata": {},
     "output_type": "execute_result"
    }
   ],
   "source": [
    "df[['HP', 'Attack', 'Defense', 'Sp. Atk', 'Sp. Def', 'Speed']].max().max()"
   ]
  },
  {
   "cell_type": "code",
   "execution_count": 20,
   "id": "99c3b119",
   "metadata": {},
   "outputs": [
    {
     "data": {
      "image/png": "[encoded data removed]",
      "text/plain": [
       "<Figure size 600x600 with 1 Axes>"
      ]
     },
     "metadata": {},
     "output_type": "display_data"
    }
   ],
   "source": [
    "\n",
    "def mostrar_radar_pokemon(nombre_pokemon,ax=None, color='blue', alpha=0.25):\n",
    "    # Buscar el Pokémon\n",
    "    pokemon = df[df['Name'].str.lower() == nombre_pokemon.lower()]\n",
    "    \n",
    "    if pokemon.empty:\n",
    "        print(f\"No se encontró el Pokémon '{nombre_pokemon}'.\")\n",
    "        return\n",
    "        \n",
    "        \n",
    "    stats = ['HP', 'Attack', 'Defense', 'Sp. Atk', 'Sp. Def', 'Speed']\n",
    "    valores = pokemon[stats].values.flatten().tolist()\n",
    "    \n",
    "    # Cerrar el círculo del radar chart\n",
    "    valores += [valores[0]]\n",
    "    \n",
    "    # Calcular ángulos\n",
    "    num_vars = len(stats)\n",
    "    angulos = np.linspace(0, 2 * np.pi, num_vars, endpoint=False).tolist()\n",
    "    angulos += [angulos[0]]\n",
    "    \n",
    "    #Crear radar chart si no se da eje\n",
    "    if ax is None:\n",
    "        fig, ax = plt.subplots(figsize=(6, 6), subplot_kw=dict(polar=True))\n",
    "        ax.plot(angulos, valores, linewidth=2)\n",
    "        ax.fill(angulos, valores, alpha=0.25)\n",
    "\n",
    "    # Configurar etiquetas\n",
    "    ax.set_xticks(angulos[:-1])\n",
    "    ax.set_xticklabels(stats)\n",
    "    ax.set_ylim(None, 250)\n",
    "    ax.set_title(f\"Estadísticas de {pokemon['Name'].values[0]}\", size=14)\n",
    "    plt.show()\n",
    "\n",
    "# Ejemplo de uso\n",
    "mostrar_radar_pokemon(\"Pikachu\")"
   ]
  },
  {
   "cell_type": "markdown",
   "id": "0c4cea3f",
   "metadata": {},
   "source": [
    "https://ipywidgets.readthedocs.io/en/8.1.5/examples/Widget%20List.html"
   ]
  },
  {
   "cell_type": "code",
   "execution_count": 21,
   "id": "fddde460",
   "metadata": {},
   "outputs": [],
   "source": [
    "drop1 = w.Dropdown(options=df.Name.unique())\n",
    "drop2 = w.Dropdown(options=df.Name.unique())\n",
    "out1 = w.Output()\n",
    "out2 = w.Output()\n",
    "out3 = w.Output()\n",
    "out4 = w.Output()\n",
    "out5 = w.Output()\n"
   ]
  },
  {
   "cell_type": "code",
   "execution_count": null,
   "id": "2c3b7d40",
   "metadata": {},
   "outputs": [],
   "source": [
    "def on_pokemon_ch mostrar_radar_pokemon(nuevo_pokemon)ange1(change):\n",
    "    if change['type'] == 'change' and change['name'] == 'value':\n",
    "        nuevo_pokemon = change['new']\n",
    "        link = requests.get(f'https://pokeapi.co/api/v2/pokemon/{nuevo_pokemon}/', stream=True)\n",
    "        link_img = requests.get(link.json()[\"sprites\"]['front_default'], stream=True)\n",
    "        \n",
    "        with out1:\n",
    "            clear_output(wait=True)\n",
    "        with out3:\n",
    "            clear_output(wait=True)\n",
    "            display(IPImage(data=link_img.content,width=500, height=500))\n",
    "\n",
    "def on_pokemon_change2(change):\n",
    "    if change['type'] == 'change' and change['name'] == 'value':\n",
    "        nuevo_pokemon = change['new']\n",
    "        link = requests.get(f'https://pokeapi.co/api/v2/pokemon/{nuevo_pokemon}/', stream=True)\n",
    "        link_img = requests.get(link.json()[\"sprites\"]['front_default'], stream=True)\n",
    "        \n",
    "        with out2:\n",
    "            clear_output(wait=True)\n",
    "            mostrar_radar_pokemon(nuevo_pokemon)\n",
    "        with out4:\n",
    "            clear_output(wait=True)\n",
    "            display(IPImage(data=link_img.content,width=500, height=500))\n"
   ]
  },
  {
   "cell_type": "code",
   "execution_count": null,
   "id": "989abe86",
   "metadata": {},
   "outputs": [],
   "source": [
    "# def change_comparativa(nombre_pokemon1, nombre_pokemon2):\n",
    "    \n",
    "#     with out5:\n",
    "#         clear_output(wait=True)\n",
    "#         fig, ax = plt.subplots(figsize=(8, 8), subplot_kw=dict(polar=True))\n",
    "#         mostrar_radar_pokemon(nombre_pokemon1, ax, color='blue', alpha=0.5)\n",
    "#         mostrar_radar_pokemon(nombre_pokemon2, ax, color='red', alpha=0.5)\n",
    "#         ax.set_title(f\"{nombre_pokemon1} (Azul) VS {nombre_pokemon2} (Rojo)\", size=14, y=1.1)\n",
    "#         plt.show()\n",
    "\n",
    "# def actualizar_comparativa(change):\n",
    "#     if drop1.value and drop2.value:\n",
    "#         change_comparativa(drop1.value, drop2.value)"
   ]
  },
  {
   "cell_type": "code",
   "execution_count": null,
   "id": "28a4f6cd",
   "metadata": {},
   "outputs": [
    {
     "data": {
      "application/vnd.jupyter.widget-view+json": {
       "model_id": "373483d16569487e86e7ff7834c17af6",
       "version_major": 2,
       "version_minor": 0
      },
      "text/plain": [
       "VBox(children=(HBox(children=(Dropdown(options=('Bulbasaur', 'Ivysaur', 'Venusaur', 'Charmander', 'Charmeleon'…"
      ]
     },
     "metadata": {},
     "output_type": "display_data"
    }
   ],
   "source": [
    "caja_up = w.HBox([drop1, drop2], layout=w.Layout(justify_content='space-between') )\n",
    "caja_radar = w.HBox([out1,out5, out2], layout=w.Layout(justify_content='space-between') )\n",
    "caja_img = w.HBox([out3, out4], layout=w.Layout(justify_content='space-between') )\n",
    "\n",
    "\n",
    "display(w.VBox([caja_up, caja_radar, caja_img]))\n",
    "\n",
    "drop1.observe(on_pokemon_change1)\n",
    "drop2.observe(on_pokemon_change2)\n"
   ]
  },
  {
   "cell_type": "code",
   "execution_count": null,
   "id": "c8a366da",
   "metadata": {},
   "outputs": [],
   "source": []
  },
  {
   "cell_type": "code",
   "execution_count": null,
   "id": "c4dc0d9c",
   "metadata": {},
   "outputs": [],
   "source": []
  },
  {
   "cell_type": "code",
   "execution_count": null,
   "id": "3bae2821",
   "metadata": {},
   "outputs": [],
   "source": []
  },
  {
   "cell_type": "code",
   "execution_count": null,
   "id": "c6521ae0",
   "metadata": {},
   "outputs": [],
   "source": []
  },
  {
   "cell_type": "code",
   "execution_count": null,
   "id": "8be98ebb",
   "metadata": {},
   "outputs": [],
   "source": []
  },
  {
   "cell_type": "code",
   "execution_count": null,
   "id": "5fc307e5",
   "metadata": {},
   "outputs": [],
   "source": []
  },
  {
   "cell_type": "code",
   "execution_count": null,
   "id": "25765195",
   "metadata": {},
   "outputs": [],
   "source": []
  },
  {
   "cell_type": "code",
   "execution_count": null,
   "id": "9c6db440",
   "metadata": {},
   "outputs": [],
   "source": []
  },
  {
   "cell_type": "code",
   "execution_count": null,
   "id": "9f79a6c3",
   "metadata": {},
   "outputs": [],
   "source": []
  },
  {
   "cell_type": "code",
   "execution_count": null,
   "id": "b465a350",
   "metadata": {},
   "outputs": [],
   "source": []
  },
  {
   "cell_type": "code",
   "execution_count": null,
   "id": "e1f2c72f",
   "metadata": {},
   "outputs": [],
   "source": []
  },
  {
   "cell_type": "code",
   "execution_count": null,
   "id": "5ce57034",
   "metadata": {},
   "outputs": [],
   "source": []
  },
  {
   "cell_type": "code",
   "execution_count": null,
   "id": "37d1ec23",
   "metadata": {},
   "outputs": [],
   "source": []
  },
  {
   "cell_type": "code",
   "execution_count": 25,
   "id": "8bb22ae3",
   "metadata": {},
   "outputs": [
    {
     "data": {
      "application/vnd.jupyter.widget-view+json": {
       "model_id": "5bb6ab29cac84a2b87fa77cbb9581e56",
       "version_major": 2,
       "version_minor": 0
      },
      "text/plain": [
       "Dropdown(options=('a', 'b', 'tupri'), value='a')"
      ]
     },
     "metadata": {},
     "output_type": "display_data"
    },
    {
     "data": {
      "application/vnd.jupyter.widget-view+json": {
       "model_id": "3272b4b143594f6b87be0597c16deaca",
       "version_major": 2,
       "version_minor": 0
      },
      "text/plain": [
       "Output()"
      ]
     },
     "metadata": {},
     "output_type": "display_data"
    }
   ],
   "source": [
    "# import ipywidgets.widgets as w\n",
    "dd = w.Dropdown(options=[\"a\", \"b\", \"tupri\"])\n",
    "out = w.Output()\n",
    "\n",
    "\n",
    "\n",
    "\n",
    "def buscatupri(change):\n",
    "    if change['type'] == 'change' and change['name'] == 'value':\n",
    "        if change['new'] == \"tupri\":\n",
    "            with out:\n",
    "                print(\"Iujuuuuuu!\")\n",
    "\n",
    "\n",
    "\n",
    "dd.observe(buscatupri)\n",
    "\n",
    "\n",
    "display(dd, out)"
   ]
  },
  {
   "cell_type": "code",
   "execution_count": 26,
   "id": "111eb6c3",
   "metadata": {},
   "outputs": [
    {
     "data": {
      "application/vnd.jupyter.widget-view+json": {
       "model_id": "1cba6862f5db47f29de0930f3df2bc67",
       "version_major": 2,
       "version_minor": 0
      },
      "text/plain": [
       "Button(description='Click Me', style=ButtonStyle())"
      ]
     },
     "metadata": {},
     "output_type": "display_data"
    }
   ],
   "source": [
    "boton = w.Button(description=\"Click Me\")\n",
    "# out = w.Output()\n",
    "click = 0\n",
    "def saluda(boton):\n",
    "    global click\n",
    "    click +=1\n",
    "    boton.description = f\"Apretado {click} veces\"\n",
    "    \n",
    "\n",
    "boton.on_click(saluda)\n",
    "\n",
    "\n",
    "display(boton)"
   ]
  },
  {
   "cell_type": "code",
   "execution_count": 27,
   "id": "91a48720",
   "metadata": {},
   "outputs": [],
   "source": [
    "\n",
    "# imag = requests.get('https://pokeapi.co/api/v2/pokemon/bulbasaur/',stream=True)\n",
    "# imag.json()[\"sprites\"]['front_default']\n",
    "# url = imag.json()[\"sprites\"]['front_default']\n",
    "\n",
    "# respuesta_imagen = requests.get(url, stream=True)\n",
    "# imagen = Image.open(BytesIO(respuesta_imagen.content))\n",
    "# imagen.show()"
   ]
  },
  {
   "cell_type": "code",
   "execution_count": 28,
   "id": "847038ec",
   "metadata": {},
   "outputs": [
    {
     "data": {
      "application/vnd.jupyter.widget-view+json": {
       "model_id": "d52c5de4bb664121afd8c7421148fa13",
       "version_major": 2,
       "version_minor": 0
      },
      "text/plain": [
       "VBox(children=(HBox(children=(Dropdown(options=('Bulbasaur', 'Ivysaur', 'Venusaur', 'Charmander', 'Charmeleon'…"
      ]
     },
     "metadata": {},
     "output_type": "display_data"
    },
    {
     "data": {
      "image/png": "[encoded data removed]",
      "text/plain": [
       "<IPython.core.display.Image object>"
      ]
     },
     "metadata": {
      "image/png": {
       "height": 250,
       "width": 250
      }
     },
     "output_type": "display_data"
    },
    {
     "data": {
      "image/png": "[encoded data removed]",
      "text/plain": [
       "<IPython.core.display.Image object>"
      ]
     },
     "metadata": {
      "image/png": {
       "height": 250,
       "width": 250
      }
     },
     "output_type": "display_data"
    },
    {
     "data": {
      "image/png": "[encoded data removed]",
      "text/plain": [
       "<IPython.core.display.Image object>"
      ]
     },
     "metadata": {
      "image/png": {
       "height": 250,
       "width": 250
      }
     },
     "output_type": "display_data"
    },
    {
     "data": {
      "image/png": "[encoded data removed]",
      "text/plain": [
       "<IPython.core.display.Image object>"
      ]
     },
     "metadata": {
      "image/png": {
       "height": 250,
       "width": 250
      }
     },
     "output_type": "display_data"
    },
    {
     "data": {
      "image/png": "[encoded data removed]",
      "text/plain": [
       "<IPython.core.display.Image object>"
      ]
     },
     "metadata": {
      "image/png": {
       "height": 250,
       "width": 250
      }
     },
     "output_type": "display_data"
    },
    {
     "data": {
      "image/png": "[encoded data removed]",
      "text/plain": [
       "<IPython.core.display.Image object>"
      ]
     },
     "metadata": {
      "image/png": {
       "height": 250,
       "width": 250
      }
     },
     "output_type": "display_data"
    }
   ],
   "source": [
    "drop1 = w.Dropdown(options=df.loc[:, \"Name\"].unique())\n",
    "drop2 = w.Dropdown(options=df.loc[:, \"Name\"].unique())\n",
    "\n",
    "out1 = w.Output()\n",
    "out2 = w.Output()\n",
    "\n",
    "\n",
    "def mostrar_pokemon1(change):\n",
    "    if change['type'] == 'change' and change['name'] == 'value':\n",
    "        nombre_pokemon = change['new']\n",
    "        link = requests.get(f'https://pokeapi.co/api/v2/pokemon/{nombre_pokemon}/', stream=True)\n",
    "        link_img = requests.get(link.json()[\"sprites\"]['front_default'], stream=True)\n",
    "        display(IPImage(data=link_img.content,width=250, height=250))\n",
    "        with out1:\n",
    "            clear_output(wait=True)\n",
    "            mostrar_radar_pokemon(nombre_pokemon)\n",
    "\n",
    "def mostrar_pokemon2(change):\n",
    "    if change['type'] == 'change' and change['name'] == 'value':\n",
    "        nombre_pokemon = change['new']\n",
    "        link = requests.get(f'https://pokeapi.co/api/v2/pokemon/{nombre_pokemon}/', stream=True)\n",
    "        link_img = requests.get(link.json()[\"sprites\"]['front_default'], stream=True)\n",
    "        display(IPImage(data=link_img.content,width=250, height=250))\n",
    "        with out2:\n",
    "            clear_output(wait=True)\n",
    "            mostrar_radar_pokemon(nombre_pokemon)\n",
    "\n",
    "\n",
    "\n",
    "drop1.observe(mostrar_pokemon1)\n",
    "drop2.observe(mostrar_pokemon2)\n",
    "\n",
    "\n",
    "caja1 = w.HBox([drop1, drop2],  layout=w.Layout(justify_content='space-between') )\n",
    "caja2 = w.HBox([out1, out2],  layout=w.Layout(justify_content='space-between') )\n",
    "\n",
    "caja_final = w.VBox([caja1, caja2])\n",
    "\n",
    "display(caja_final)"
   ]
  }
 ],
 "metadata": {
  "kernelspec": {
   "display_name": "data_analysis_env",
   "language": "python",
   "name": "python3"
  },
  "language_info": {
   "codemirror_mode": {
    "name": "ipython",
    "version": 3
   },
   "file_extension": ".py",
   "mimetype": "text/x-python",
   "name": "python",
   "nbconvert_exporter": "python",
   "pygments_lexer": "ipython3",
   "version": "3.11.11"
  }
 },
 "nbformat": 4,
 "nbformat_minor": 5
}
