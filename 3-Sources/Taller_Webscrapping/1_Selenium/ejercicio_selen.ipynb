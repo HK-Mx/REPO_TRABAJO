{
 "cells": [
  {
   "cell_type": "markdown",
   "id": "e58c452c",
   "metadata": {},
   "source": [
    "# EJERCICIO SELENIUM\n",
    "\n",
    "### Os acordais de la tienda de teclados?\n",
    "\n",
    "https://extremetechcr.com/tienda/30-teclados\n",
    "\n",
    "\n",
    "Quiero:\n",
    "\n",
    "Todos los teclados (imagen, precio y descripcion) de las 4 primeras paginas.\n",
    "\n",
    "Tendreis que:\n",
    "- 1 montar el selenium\n",
    "- 2 darle a cookies si hay (creo que no)\n",
    "- 3 coger la pagina y a la sopa\n",
    "- 4 obtener todos los elementos\n",
    "- 5 hacer click en el numero de pagina siguiente o en el boton de pagina siguiente\n",
    "- 6 Volver al punto 3\n",
    "- 7 Repetir untill finished (6 PAGINAS)\n",
    "\n",
    "Todo terminadito en un dataframe bonito. Ya tu sabes."
   ]
  },
  {
   "cell_type": "code",
   "execution_count": 45,
   "id": "fb1ddf65",
   "metadata": {},
   "outputs": [],
   "source": [
    "from bs4 import BeautifulSoup as bs\n",
    "from selenium import webdriver\n",
    "from selenium.webdriver.common.by import By\n",
    "from selenium.webdriver.common.keys import Keys\n",
    "\n",
    "import time\n",
    "import pandas as pd\n",
    "import re"
   ]
  },
  {
   "cell_type": "code",
   "execution_count": 54,
   "id": "90841bbc",
   "metadata": {},
   "outputs": [],
   "source": [
    "driver = webdriver.Edge()\n",
    "\n",
    "url = \"https://extremetechcr.com/tienda/30-teclados\"\n",
    "\n",
    "driver.get(url)"
   ]
  },
  {
   "cell_type": "code",
   "execution_count": null,
   "id": "b48a87d8",
   "metadata": {},
   "outputs": [
    {
     "data": {
      "text/html": [
       "<div>\n",
       "<style scoped>\n",
       "    .dataframe tbody tr th:only-of-type {\n",
       "        vertical-align: middle;\n",
       "    }\n",
       "\n",
       "    .dataframe tbody tr th {\n",
       "        vertical-align: top;\n",
       "    }\n",
       "\n",
       "    .dataframe thead th {\n",
       "        text-align: right;\n",
       "    }\n",
       "</style>\n",
       "<table border=\"1\" class=\"dataframe\">\n",
       "  <thead>\n",
       "    <tr style=\"text-align: right;\">\n",
       "      <th></th>\n",
       "      <th>modelo</th>\n",
       "      <th>precio</th>\n",
       "      <th>link img</th>\n",
       "    </tr>\n",
       "  </thead>\n",
       "  <tbody>\n",
       "    <tr>\n",
       "      <th>0</th>\n",
       "      <td>Teclado Argom USB - Ingles - ARG-KB-7424</td>\n",
       "      <td>₡ 2,900</td>\n",
       "      <td>h</td>\n",
       "    </tr>\n",
       "    <tr>\n",
       "      <th>1</th>\n",
       "      <td>Argom - Teclado numérico</td>\n",
       "      <td>₡ 3,000</td>\n",
       "      <td>t</td>\n",
       "    </tr>\n",
       "    <tr>\n",
       "      <th>2</th>\n",
       "      <td>Argom - Teclado</td>\n",
       "      <td>₡ 3,000</td>\n",
       "      <td>t</td>\n",
       "    </tr>\n",
       "    <tr>\n",
       "      <th>3</th>\n",
       "      <td>Teclado UNNO TEKNO Klass USB Español -...</td>\n",
       "      <td>₡ 3,000</td>\n",
       "      <td>p</td>\n",
       "    </tr>\n",
       "    <tr>\n",
       "      <th>4</th>\n",
       "      <td>XTech XTK-160E - Ingles</td>\n",
       "      <td>₡ 3,000</td>\n",
       "      <td>s</td>\n",
       "    </tr>\n",
       "    <tr>\n",
       "      <th>...</th>\n",
       "      <td>...</td>\n",
       "      <td>...</td>\n",
       "      <td>...</td>\n",
       "    </tr>\n",
       "    <tr>\n",
       "      <th>639</th>\n",
       "      <td>NaN</td>\n",
       "      <td>NaN</td>\n",
       "      <td>4</td>\n",
       "    </tr>\n",
       "    <tr>\n",
       "      <th>640</th>\n",
       "      <td>NaN</td>\n",
       "      <td>NaN</td>\n",
       "      <td>.</td>\n",
       "    </tr>\n",
       "    <tr>\n",
       "      <th>641</th>\n",
       "      <td>NaN</td>\n",
       "      <td>NaN</td>\n",
       "      <td>j</td>\n",
       "    </tr>\n",
       "    <tr>\n",
       "      <th>642</th>\n",
       "      <td>NaN</td>\n",
       "      <td>NaN</td>\n",
       "      <td>p</td>\n",
       "    </tr>\n",
       "    <tr>\n",
       "      <th>643</th>\n",
       "      <td>NaN</td>\n",
       "      <td>NaN</td>\n",
       "      <td>g</td>\n",
       "    </tr>\n",
       "  </tbody>\n",
       "</table>\n",
       "<p>644 rows × 3 columns</p>\n",
       "</div>"
      ],
      "text/plain": [
       "                                          modelo     precio link img\n",
       "0      Teclado Argom USB - Ingles - ARG-KB-7424    ₡ 2,900         h\n",
       "1                      Argom - Teclado numérico    ₡ 3,000         t\n",
       "2                               Argom - Teclado    ₡ 3,000         t\n",
       "3     Teclado UNNO TEKNO Klass USB Español -...    ₡ 3,000         p\n",
       "4                       XTech XTK-160E - Ingles    ₡ 3,000         s\n",
       "..                                           ...        ...      ...\n",
       "639                                          NaN        NaN        4\n",
       "640                                          NaN        NaN        .\n",
       "641                                          NaN        NaN        j\n",
       "642                                          NaN        NaN        p\n",
       "643                                          NaN        NaN        g\n",
       "\n",
       "[644 rows x 3 columns]"
      ]
     },
     "execution_count": 55,
     "metadata": {},
     "output_type": "execute_result"
    }
   ],
   "source": [
    "modelo_teclados = []\n",
    "precio_teclados = []\n",
    "imagen_teclados = []\n",
    "\n",
    "for i in range(6):\n",
    "    \n",
    "    sopa = bs(driver.page_source, \"lxml\")\n",
    "    \n",
    "    modelos = sopa.select('a.product-name')\n",
    "    for modelo in modelos:\n",
    "        modelo_teclados.append(modelo.get_text())\n",
    "        \n",
    "    precios = sopa.select('span.price.product-price')\n",
    "    for precio in precios:\n",
    "        precio_teclados.append(precio.get_text())\n",
    "        \n",
    "    links = sopa.select('a.product_img_link')[0][\"href\"]\n",
    "    for link  in links:\n",
    "        imagen_teclados.append(link)\n",
    "    \n",
    "    driver.execute_script(\"window.scrollTo(0, 8000)\")\n",
    "    time.sleep(1)\n",
    "    boton_siguiente_pag = driver.find_element(By.XPATH, '//*[@id=\"pagination_next_bottom\"]/a/i')\n",
    "    boton_siguiente_pag.click()\n",
    "    time.sleep(1)\n",
    "\n",
    "modelo_teclados = pd.Series(modelo_teclados)\n",
    "precio_teclados = pd.Series(precio_teclados)\n",
    "imagen_teclados = pd.Series(imagen_teclados)\n",
    "\n",
    "ejercicio_selen_df = pd.DataFrame({\n",
    "    \"modelo\": modelo_teclados,\n",
    "    \"precio\": precio_teclados,\n",
    "    \"link img\": imagen_teclados\n",
    "})\n",
    "    \n",
    "ejercicio_selen_df\n",
    "    \n"
   ]
  },
  {
   "cell_type": "code",
   "execution_count": 59,
   "id": "83b135e1",
   "metadata": {},
   "outputs": [
    {
     "data": {
      "text/plain": [
       "'https://extremetechcr.com/tienda/perifericos/12317-teclado-argom-usb-ingles-arg-kb-7424.html'"
      ]
     },
     "execution_count": 59,
     "metadata": {},
     "output_type": "execute_result"
    }
   ],
   "source": [
    "\n",
    "sopa.select('a.product_img_link')[0][\"href\"]\n"
   ]
  },
  {
   "cell_type": "markdown",
   "id": "6cc66785",
   "metadata": {},
   "source": []
  },
  {
   "cell_type": "markdown",
   "id": "e165e02a",
   "metadata": {},
   "source": []
  },
  {
   "cell_type": "markdown",
   "id": "e22b1d56",
   "metadata": {},
   "source": []
  },
  {
   "cell_type": "markdown",
   "id": "ef6dbf37",
   "metadata": {},
   "source": []
  },
  {
   "cell_type": "markdown",
   "id": "443f7214",
   "metadata": {},
   "source": []
  },
  {
   "cell_type": "markdown",
   "id": "864a1d96",
   "metadata": {},
   "source": []
  },
  {
   "cell_type": "markdown",
   "id": "568c0a8a",
   "metadata": {},
   "source": []
  },
  {
   "cell_type": "markdown",
   "id": "225418df",
   "metadata": {},
   "source": []
  },
  {
   "cell_type": "markdown",
   "id": "513ec74a",
   "metadata": {},
   "source": []
  },
  {
   "cell_type": "markdown",
   "id": "b83818ec",
   "metadata": {},
   "source": []
  },
  {
   "cell_type": "code",
   "execution_count": null,
   "id": "1f0e90a0",
   "metadata": {},
   "outputs": [],
   "source": [
    "HINT 1\n",
    "\n",
    "Igual lo puedes hacer sin apretar el boton..."
   ]
  },
  {
   "cell_type": "code",
   "execution_count": null,
   "id": "cdd09e77",
   "metadata": {},
   "outputs": [],
   "source": [
    "HINT 2\n",
    "\n",
    "\n",
    "En el propio boton, en sus caracteristicas esta la solucion (ruta...)"
   ]
  },
  {
   "cell_type": "code",
   "execution_count": null,
   "id": "41faa608",
   "metadata": {},
   "outputs": [],
   "source": [
    "SOLUCION\n",
    "\n",
    "\n",
    "No le podemos dar al boton por que nos banea, pero como sabemos que la siguinte pagina es https://extremetechcr.com/tienda/30-teclados#/page-2, ya es simplemente iterar sobre ese numero de pagina e ir obteniendo el html de cada una de ellas..."
   ]
  }
 ],
 "metadata": {
  "kernelspec": {
   "display_name": "data_analysis_env",
   "language": "python",
   "name": "python3"
  },
  "language_info": {
   "codemirror_mode": {
    "name": "ipython",
    "version": 3
   },
   "file_extension": ".py",
   "mimetype": "text/x-python",
   "name": "python",
   "nbconvert_exporter": "python",
   "pygments_lexer": "ipython3",
   "version": "3.11.11"
  }
 },
 "nbformat": 4,
 "nbformat_minor": 5
}
