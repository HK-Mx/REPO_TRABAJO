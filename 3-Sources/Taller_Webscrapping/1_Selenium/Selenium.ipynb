{
 "cells": [
  {
   "cell_type": "markdown",
   "metadata": {},
   "source": [
    "# Web Scraping: Selenium"
   ]
  },
  {
   "cell_type": "markdown",
   "metadata": {},
   "source": [
    "A menudo, los datos están disponibles públicamente para nosotros, pero no en una forma que sea fácilmente utilizable. Ahí es donde entra en juego el web scraping, podemos usar web scraping para obtener nuestros datos deseados en un formato conveniente que luego se puede usar. a continuación, mostraré cómo se puede extraer información de interés de un sitio web usando el paquete Selenium en Python. Selenium nos permite manejar una ventana del navegador e interactuar con el sitio web mediante programación. \n",
    "\n",
    "Selenium también tiene varios métodos que facilitan la extracción de datos.\n",
    "En este Jupyter Notebook vamos a usar Python 3 en Windows.\n",
    "\n",
    "En primer lugar, tendremos que descargar un controlador.\n",
    "\n",
    "Usaremos ChromeDriver para Google Chrome. Para obtener una lista completa de controladores y plataformas compatibles, consulte [Selenium](https://www.selenium.dev/downloads/). Si desea utilizar Google Chrome, diríjase a [chrome](https://chromedriver.chromium.org/) y descargue el controlador que corresponde a su versión actual de Google Chrome.\n",
    "\n",
    "Como saber cual es la version de chrome que utilizo simple utilizamos pegamos el siguiente enlace en la barra de chrome chrome://settings/help\n",
    "\n",
    "Antes de comenzar se preguntaran si ya se BeautifulSoup cual es la diferencia con Selenium.\n",
    "\n",
    "A diferencia BeautifulSoup, Selenium no trabaja con el texto fuente en HTML de la web en cuestión, sino que carga la página en un navegador sin interfaz de usuario. El navegador interpreta entonces el código fuente de la página y crea, a partir de él, un Document Object Model (modelo de objetos de documento o DOM). Esta interfaz estandarizada permite poner a prueba las interacciones de los usuarios. De esta forma se consigue, por ejemplo, simular clics y rellenar formularios automáticamente. Los cambios en la web que resultan de dichas acciones se reflejan en el DOM. La estructura del proceso de web scraping con Selenium es la siguiente:\n",
    "\n",
    "URL → Solicitud HTTP → HTML → Selenium → DOM"
   ]
  },
  {
   "cell_type": "markdown",
   "metadata": {},
   "source": [
    "---\n",
    "---\n",
    "---\n",
    "## La forma que en verdad vamos a trabajar o por lo menos la que mejor nos funciono mejor...\n"
   ]
  },
  {
   "cell_type": "code",
   "execution_count": 2,
   "metadata": {},
   "outputs": [
    {
     "name": "stdout",
     "output_type": "stream",
     "text": [
      "Collecting selenium\n",
      "  Downloading selenium-4.32.0-py3-none-any.whl.metadata (7.5 kB)\n",
      "Requirement already satisfied: urllib3<3,>=1.26 in c:\\users\\maxi\\miniconda3\\envs\\data_analysis_env\\lib\\site-packages (from urllib3[socks]<3,>=1.26->selenium) (2.4.0)\n",
      "Collecting trio~=0.17 (from selenium)\n",
      "  Downloading trio-0.30.0-py3-none-any.whl.metadata (8.5 kB)\n",
      "Collecting trio-websocket~=0.9 (from selenium)\n",
      "  Downloading trio_websocket-0.12.2-py3-none-any.whl.metadata (5.1 kB)\n",
      "Requirement already satisfied: certifi>=2021.10.8 in c:\\users\\maxi\\miniconda3\\envs\\data_analysis_env\\lib\\site-packages (from selenium) (2025.1.31)\n",
      "Requirement already satisfied: typing_extensions~=4.9 in c:\\users\\maxi\\miniconda3\\envs\\data_analysis_env\\lib\\site-packages (from selenium) (4.13.2)\n",
      "Requirement already satisfied: websocket-client~=1.8 in c:\\users\\maxi\\miniconda3\\envs\\data_analysis_env\\lib\\site-packages (from selenium) (1.8.0)\n",
      "Requirement already satisfied: attrs>=23.2.0 in c:\\users\\maxi\\miniconda3\\envs\\data_analysis_env\\lib\\site-packages (from trio~=0.17->selenium) (25.3.0)\n",
      "Collecting sortedcontainers (from trio~=0.17->selenium)\n",
      "  Downloading sortedcontainers-2.4.0-py2.py3-none-any.whl.metadata (10 kB)\n",
      "Requirement already satisfied: idna in c:\\users\\maxi\\miniconda3\\envs\\data_analysis_env\\lib\\site-packages (from trio~=0.17->selenium) (3.10)\n",
      "Collecting outcome (from trio~=0.17->selenium)\n",
      "  Downloading outcome-1.3.0.post0-py2.py3-none-any.whl.metadata (2.6 kB)\n",
      "Requirement already satisfied: sniffio>=1.3.0 in c:\\users\\maxi\\miniconda3\\envs\\data_analysis_env\\lib\\site-packages (from trio~=0.17->selenium) (1.3.1)\n",
      "Requirement already satisfied: cffi>=1.14 in c:\\users\\maxi\\miniconda3\\envs\\data_analysis_env\\lib\\site-packages (from trio~=0.17->selenium) (1.17.1)\n",
      "Collecting wsproto>=0.14 (from trio-websocket~=0.9->selenium)\n",
      "  Downloading wsproto-1.2.0-py3-none-any.whl.metadata (5.6 kB)\n",
      "Collecting pysocks!=1.5.7,<2.0,>=1.5.6 (from urllib3[socks]<3,>=1.26->selenium)\n",
      "  Downloading PySocks-1.7.1-py3-none-any.whl.metadata (13 kB)\n",
      "Requirement already satisfied: pycparser in c:\\users\\maxi\\miniconda3\\envs\\data_analysis_env\\lib\\site-packages (from cffi>=1.14->trio~=0.17->selenium) (2.22)\n",
      "Requirement already satisfied: h11<1,>=0.9.0 in c:\\users\\maxi\\miniconda3\\envs\\data_analysis_env\\lib\\site-packages (from wsproto>=0.14->trio-websocket~=0.9->selenium) (0.14.0)\n",
      "Downloading selenium-4.32.0-py3-none-any.whl (9.4 MB)\n",
      "   ---------------------------------------- 0.0/9.4 MB ? eta -:--:--\n",
      "   ------------------------------ --------- 7.1/9.4 MB 36.3 MB/s eta 0:00:01\n",
      "   ---------------------------------------- 9.4/9.4 MB 36.4 MB/s eta 0:00:00\n",
      "Downloading trio-0.30.0-py3-none-any.whl (499 kB)\n",
      "Downloading trio_websocket-0.12.2-py3-none-any.whl (21 kB)\n",
      "Downloading outcome-1.3.0.post0-py2.py3-none-any.whl (10 kB)\n",
      "Downloading PySocks-1.7.1-py3-none-any.whl (16 kB)\n",
      "Downloading wsproto-1.2.0-py3-none-any.whl (24 kB)\n",
      "Downloading sortedcontainers-2.4.0-py2.py3-none-any.whl (29 kB)\n",
      "Installing collected packages: sortedcontainers, wsproto, pysocks, outcome, trio, trio-websocket, selenium\n",
      "Successfully installed outcome-1.3.0.post0 pysocks-1.7.1 selenium-4.32.0 sortedcontainers-2.4.0 trio-0.30.0 trio-websocket-0.12.2 wsproto-1.2.0\n"
     ]
    }
   ],
   "source": [
    "!pip install selenium"
   ]
  },
  {
   "cell_type": "code",
   "execution_count": 3,
   "metadata": {},
   "outputs": [
    {
     "name": "stdout",
     "output_type": "stream",
     "text": [
      "Collecting webdriver-manager\n",
      "  Downloading webdriver_manager-4.0.2-py2.py3-none-any.whl.metadata (12 kB)\n",
      "Requirement already satisfied: requests in c:\\users\\maxi\\miniconda3\\envs\\data_analysis_env\\lib\\site-packages (from webdriver-manager) (2.32.3)\n",
      "Collecting python-dotenv (from webdriver-manager)\n",
      "  Downloading python_dotenv-1.1.0-py3-none-any.whl.metadata (24 kB)\n",
      "Requirement already satisfied: packaging in c:\\users\\maxi\\miniconda3\\envs\\data_analysis_env\\lib\\site-packages (from webdriver-manager) (24.2)\n",
      "Requirement already satisfied: charset-normalizer<4,>=2 in c:\\users\\maxi\\miniconda3\\envs\\data_analysis_env\\lib\\site-packages (from requests->webdriver-manager) (3.4.1)\n",
      "Requirement already satisfied: idna<4,>=2.5 in c:\\users\\maxi\\miniconda3\\envs\\data_analysis_env\\lib\\site-packages (from requests->webdriver-manager) (3.10)\n",
      "Requirement already satisfied: urllib3<3,>=1.21.1 in c:\\users\\maxi\\miniconda3\\envs\\data_analysis_env\\lib\\site-packages (from requests->webdriver-manager) (2.4.0)\n",
      "Requirement already satisfied: certifi>=2017.4.17 in c:\\users\\maxi\\miniconda3\\envs\\data_analysis_env\\lib\\site-packages (from requests->webdriver-manager) (2025.1.31)\n",
      "Downloading webdriver_manager-4.0.2-py2.py3-none-any.whl (27 kB)\n",
      "Downloading python_dotenv-1.1.0-py3-none-any.whl (20 kB)\n",
      "Installing collected packages: python-dotenv, webdriver-manager\n",
      "Successfully installed python-dotenv-1.1.0 webdriver-manager-4.0.2\n"
     ]
    }
   ],
   "source": [
    "!pip install webdriver-manager "
   ]
  },
  {
   "cell_type": "code",
   "execution_count": 4,
   "metadata": {},
   "outputs": [],
   "source": [
    "from bs4 import BeautifulSoup as bs\n",
    "from selenium import webdriver\n",
    "from selenium.webdriver.common.by import By\n",
    "from selenium.webdriver.common.keys import Keys\n",
    "\n",
    "import time\n",
    "import pandas as pd"
   ]
  },
  {
   "cell_type": "code",
   "execution_count": 8,
   "metadata": {},
   "outputs": [],
   "source": [
    "driver = webdriver.Edge()\n",
    "\n",
    "url = \"https://boardgamegeek.com/\"\n",
    "\n",
    "driver.get(url)"
   ]
  },
  {
   "cell_type": "code",
   "execution_count": null,
   "metadata": {},
   "outputs": [],
   "source": [
    "# # Cookies = driver.find_element_by_css_selector(\"a.btn.btn-sm\")\n",
    "# # Detalle a comentar de las diferentes formas de hacerlo\n",
    "# # https://stackoverflow.com/questions/7475449/webdriver-classname-with-space-using-java\n",
    "# # https://selenium-python.readthedocs.io/locating-elements.html\n",
    "# # https://saucelabs.com/resources/articles/selenium-tips-css-selectors\n",
    "Consentimiento = driver.find_element(By.XPATH, \"/html/body/div[4]/div[2]/div[1]/div[2]/div[2]/button[2]/p\")\n",
    "# # \n",
    "# Consentimiento_your_privacy = driver.find_element(By.XPATH, '//*[@id=\"c-p-bn\"]')"
   ]
  },
  {
   "cell_type": "code",
   "execution_count": 13,
   "metadata": {},
   "outputs": [],
   "source": [
    "Consentimiento_your_privacy.click()"
   ]
  },
  {
   "cell_type": "code",
   "execution_count": 14,
   "metadata": {},
   "outputs": [
    {
     "ename": "NoSuchElementException",
     "evalue": "Message: no such element: Unable to locate element: {\"method\":\"xpath\",\"selector\":\"/html/body/div[3]/div/div[1]/div/div[2]/button[2]\"}\n  (Session info: MicrosoftEdge=136.0.3240.64); For documentation on this error, please visit: https://www.selenium.dev/documentation/webdriver/troubleshooting/errors#no-such-element-exception\nStacktrace:\n\tGetHandleVerifier [0x00007FF7048FFCA5+25029]\n\t(No symbol) [0x00007FF704854CB0]\n\tMicrosoft::Applications::Events::EventProperty::to_string [0x00007FF704B5ADAA+1947706]\n\t(No symbol) [0x00007FF704667D88]\n\t(No symbol) [0x00007FF70466804B]\n\t(No symbol) [0x00007FF7046A8CA7]\n\t(No symbol) [0x00007FF7046890CF]\n\t(No symbol) [0x00007FF70465E15D]\n\t(No symbol) [0x00007FF7046A6698]\n\t(No symbol) [0x00007FF704688DF3]\n\t(No symbol) [0x00007FF70465D6A6]\n\t(No symbol) [0x00007FF70465CBB3]\n\t(No symbol) [0x00007FF70465D4D3]\n\t(No symbol) [0x00007FF704765D0D]\n\t(No symbol) [0x00007FF7047738AF]\n\t(No symbol) [0x00007FF70476C29F]\n\tMicrosoft::Applications::Events::EventProperty::to_string [0x00007FF7049C4D5A+284650]\n\t(No symbol) [0x00007FF704862641]\n\t(No symbol) [0x00007FF70485B0E4]\n\t(No symbol) [0x00007FF70485B233]\n\t(No symbol) [0x00007FF70484CE76]\n\tBaseThreadInitThunk [0x00007FFEB9A9E8D7+23]\n\tRtlUserThreadStart [0x00007FFEBAD9C5DC+44]\n",
     "output_type": "error",
     "traceback": [
      "\u001b[31m---------------------------------------------------------------------------\u001b[39m",
      "\u001b[31mNoSuchElementException\u001b[39m                    Traceback (most recent call last)",
      "\u001b[36mCell\u001b[39m\u001b[36m \u001b[39m\u001b[32mIn[14]\u001b[39m\u001b[32m, line 1\u001b[39m\n\u001b[32m----> \u001b[39m\u001b[32m1\u001b[39m cookies = \u001b[43mdriver\u001b[49m\u001b[43m.\u001b[49m\u001b[43mfind_element\u001b[49m\u001b[43m(\u001b[49m\u001b[43mBy\u001b[49m\u001b[43m.\u001b[49m\u001b[43mXPATH\u001b[49m\u001b[43m,\u001b[49m\u001b[43m \u001b[49m\u001b[33;43m\"\u001b[39;49m\u001b[33;43m/html/body/div[3]/div/div[1]/div/div[2]/button[2]\u001b[39;49m\u001b[33;43m\"\u001b[39;49m\u001b[43m)\u001b[49m\n",
      "\u001b[36mFile \u001b[39m\u001b[32mc:\\Users\\maxi\\miniconda3\\envs\\data_analysis_env\\Lib\\site-packages\\selenium\\webdriver\\remote\\webdriver.py:917\u001b[39m, in \u001b[36mWebDriver.find_element\u001b[39m\u001b[34m(self, by, value)\u001b[39m\n\u001b[32m    914\u001b[39m         \u001b[38;5;28;01mraise\u001b[39;00m NoSuchElementException(\u001b[33mf\u001b[39m\u001b[33m\"\u001b[39m\u001b[33mCannot locate relative element with: \u001b[39m\u001b[38;5;132;01m{\u001b[39;00mby.root\u001b[38;5;132;01m}\u001b[39;00m\u001b[33m\"\u001b[39m)\n\u001b[32m    915\u001b[39m     \u001b[38;5;28;01mreturn\u001b[39;00m elements[\u001b[32m0\u001b[39m]\n\u001b[32m--> \u001b[39m\u001b[32m917\u001b[39m \u001b[38;5;28;01mreturn\u001b[39;00m \u001b[38;5;28;43mself\u001b[39;49m\u001b[43m.\u001b[49m\u001b[43mexecute\u001b[49m\u001b[43m(\u001b[49m\u001b[43mCommand\u001b[49m\u001b[43m.\u001b[49m\u001b[43mFIND_ELEMENT\u001b[49m\u001b[43m,\u001b[49m\u001b[43m \u001b[49m\u001b[43m{\u001b[49m\u001b[33;43m\"\u001b[39;49m\u001b[33;43musing\u001b[39;49m\u001b[33;43m\"\u001b[39;49m\u001b[43m:\u001b[49m\u001b[43m \u001b[49m\u001b[43mby\u001b[49m\u001b[43m,\u001b[49m\u001b[43m \u001b[49m\u001b[33;43m\"\u001b[39;49m\u001b[33;43mvalue\u001b[39;49m\u001b[33;43m\"\u001b[39;49m\u001b[43m:\u001b[49m\u001b[43m \u001b[49m\u001b[43mvalue\u001b[49m\u001b[43m}\u001b[49m\u001b[43m)\u001b[49m[\u001b[33m\"\u001b[39m\u001b[33mvalue\u001b[39m\u001b[33m\"\u001b[39m]\n",
      "\u001b[36mFile \u001b[39m\u001b[32mc:\\Users\\maxi\\miniconda3\\envs\\data_analysis_env\\Lib\\site-packages\\selenium\\webdriver\\remote\\webdriver.py:448\u001b[39m, in \u001b[36mWebDriver.execute\u001b[39m\u001b[34m(self, driver_command, params)\u001b[39m\n\u001b[32m    446\u001b[39m response = \u001b[38;5;28mself\u001b[39m.command_executor.execute(driver_command, params)\n\u001b[32m    447\u001b[39m \u001b[38;5;28;01mif\u001b[39;00m response:\n\u001b[32m--> \u001b[39m\u001b[32m448\u001b[39m     \u001b[38;5;28;43mself\u001b[39;49m\u001b[43m.\u001b[49m\u001b[43merror_handler\u001b[49m\u001b[43m.\u001b[49m\u001b[43mcheck_response\u001b[49m\u001b[43m(\u001b[49m\u001b[43mresponse\u001b[49m\u001b[43m)\u001b[49m\n\u001b[32m    449\u001b[39m     response[\u001b[33m\"\u001b[39m\u001b[33mvalue\u001b[39m\u001b[33m\"\u001b[39m] = \u001b[38;5;28mself\u001b[39m._unwrap_value(response.get(\u001b[33m\"\u001b[39m\u001b[33mvalue\u001b[39m\u001b[33m\"\u001b[39m, \u001b[38;5;28;01mNone\u001b[39;00m))\n\u001b[32m    450\u001b[39m     \u001b[38;5;28;01mreturn\u001b[39;00m response\n",
      "\u001b[36mFile \u001b[39m\u001b[32mc:\\Users\\maxi\\miniconda3\\envs\\data_analysis_env\\Lib\\site-packages\\selenium\\webdriver\\remote\\errorhandler.py:232\u001b[39m, in \u001b[36mErrorHandler.check_response\u001b[39m\u001b[34m(self, response)\u001b[39m\n\u001b[32m    230\u001b[39m         alert_text = value[\u001b[33m\"\u001b[39m\u001b[33malert\u001b[39m\u001b[33m\"\u001b[39m].get(\u001b[33m\"\u001b[39m\u001b[33mtext\u001b[39m\u001b[33m\"\u001b[39m)\n\u001b[32m    231\u001b[39m     \u001b[38;5;28;01mraise\u001b[39;00m exception_class(message, screen, stacktrace, alert_text)  \u001b[38;5;66;03m# type: ignore[call-arg]  # mypy is not smart enough here\u001b[39;00m\n\u001b[32m--> \u001b[39m\u001b[32m232\u001b[39m \u001b[38;5;28;01mraise\u001b[39;00m exception_class(message, screen, stacktrace)\n",
      "\u001b[31mNoSuchElementException\u001b[39m: Message: no such element: Unable to locate element: {\"method\":\"xpath\",\"selector\":\"/html/body/div[3]/div/div[1]/div/div[2]/button[2]\"}\n  (Session info: MicrosoftEdge=136.0.3240.64); For documentation on this error, please visit: https://www.selenium.dev/documentation/webdriver/troubleshooting/errors#no-such-element-exception\nStacktrace:\n\tGetHandleVerifier [0x00007FF7048FFCA5+25029]\n\t(No symbol) [0x00007FF704854CB0]\n\tMicrosoft::Applications::Events::EventProperty::to_string [0x00007FF704B5ADAA+1947706]\n\t(No symbol) [0x00007FF704667D88]\n\t(No symbol) [0x00007FF70466804B]\n\t(No symbol) [0x00007FF7046A8CA7]\n\t(No symbol) [0x00007FF7046890CF]\n\t(No symbol) [0x00007FF70465E15D]\n\t(No symbol) [0x00007FF7046A6698]\n\t(No symbol) [0x00007FF704688DF3]\n\t(No symbol) [0x00007FF70465D6A6]\n\t(No symbol) [0x00007FF70465CBB3]\n\t(No symbol) [0x00007FF70465D4D3]\n\t(No symbol) [0x00007FF704765D0D]\n\t(No symbol) [0x00007FF7047738AF]\n\t(No symbol) [0x00007FF70476C29F]\n\tMicrosoft::Applications::Events::EventProperty::to_string [0x00007FF7049C4D5A+284650]\n\t(No symbol) [0x00007FF704862641]\n\t(No symbol) [0x00007FF70485B0E4]\n\t(No symbol) [0x00007FF70485B233]\n\t(No symbol) [0x00007FF70484CE76]\n\tBaseThreadInitThunk [0x00007FFEB9A9E8D7+23]\n\tRtlUserThreadStart [0x00007FFEBAD9C5DC+44]\n"
     ]
    }
   ],
   "source": [
    "cookies = driver.find_element(By.XPATH, \"/html/body/div[3]/div/div[1]/div/div[2]/button[2]\")"
   ]
  },
  {
   "cell_type": "code",
   "execution_count": 15,
   "metadata": {},
   "outputs": [
    {
     "ename": "NameError",
     "evalue": "name 'cookies' is not defined",
     "output_type": "error",
     "traceback": [
      "\u001b[31m---------------------------------------------------------------------------\u001b[39m",
      "\u001b[31mNameError\u001b[39m                                 Traceback (most recent call last)",
      "\u001b[36mCell\u001b[39m\u001b[36m \u001b[39m\u001b[32mIn[15]\u001b[39m\u001b[32m, line 1\u001b[39m\n\u001b[32m----> \u001b[39m\u001b[32m1\u001b[39m \u001b[43mcookies\u001b[49m.click()\n",
      "\u001b[31mNameError\u001b[39m: name 'cookies' is not defined"
     ]
    }
   ],
   "source": [
    "cookies.click()"
   ]
  },
  {
   "cell_type": "code",
   "execution_count": 16,
   "metadata": {},
   "outputs": [],
   "source": [
    "pagina = driver.find_element(By.XPATH, '/html/body/gg-app/div/main/div/div/gg-home/div/gg-home-game-explorer-row-hotness/gg-home-game-explorer-row/section/header/h2/a')"
   ]
  },
  {
   "cell_type": "code",
   "execution_count": 17,
   "metadata": {},
   "outputs": [],
   "source": [
    "pagina.click()"
   ]
  },
  {
   "cell_type": "code",
   "execution_count": 18,
   "metadata": {},
   "outputs": [],
   "source": [
    "soup = bs(driver.page_source,\"lxml\")"
   ]
  },
  {
   "cell_type": "code",
   "execution_count": null,
   "metadata": {},
   "outputs": [],
   "source": []
  },
  {
   "cell_type": "code",
   "execution_count": 20,
   "metadata": {},
   "outputs": [
    {
     "data": {
      "text/plain": [
       "[' 7 Wonders Dice ',\n",
       " ' 7 Dice Wonders ',\n",
       " ' Toy Battle ',\n",
       " ' 52 Realms: Adventures ',\n",
       " ' SETI: Search for Extraterrestrial Intelligence ',\n",
       " ' Deep Regrets ',\n",
       " ' Lightning Train ',\n",
       " ' Arcs ',\n",
       " ' The Lord of the Rings: Fate of the Fellowship ',\n",
       " ' 7 Empires ',\n",
       " ' Flip 7 ',\n",
       " ' Harmonies ',\n",
       " ' Galactic Cruise ',\n",
       " ' Castle Combo ',\n",
       " ' Ark Nova ',\n",
       " ' Slay the Spire: The Board Game ',\n",
       " ' Wondrous Creatures ',\n",
       " ' Spirit Island ',\n",
       " ' Corps of Discovery: A Game Set in the World of Manifest Destiny ',\n",
       " ' Nippon: Zaibatsu ',\n",
       " ' Brass: Birmingham ',\n",
       " ' The Elder Scrolls: Betrayal of the Second Era ',\n",
       " ' Casus Belli ',\n",
       " ' Roll Through the Ages: The Bronze Age ',\n",
       " ' The White Castle ',\n",
       " ' Endeavor: Deep Sea ',\n",
       " ' Heat: Pedal to the Metal ',\n",
       " ' Terraforming Mars ',\n",
       " ' Lost Ruins of Arnak ',\n",
       " ' Root ',\n",
       " ' Civolution ',\n",
       " ' Starship Interstellar ',\n",
       " ' A Feast for Odin ',\n",
       " ' The Lord of the Rings: Duel for Middle-earth ',\n",
       " ' Dédale ',\n",
       " ' Sky Team ',\n",
       " ' Cyclades: Legendary Edition ',\n",
       " ' Dune: Imperium – Uprising ',\n",
       " ' Bomb Busters ',\n",
       " ' The Fellowship of the Ring: Trick-Taking Game ',\n",
       " ' Unconscious Mind ',\n",
       " ' Wingspan ',\n",
       " ' Forest Shuffle ',\n",
       " ' Arkham Horror: The Card Game ',\n",
       " ' Dune: Imperium ',\n",
       " ' Quacks ',\n",
       " ' Earth ',\n",
       " ' Marvel Champions: The Card Game ',\n",
       " ' Scythe ',\n",
       " ' Everdell ']"
      ]
     },
     "execution_count": 20,
     "metadata": {},
     "output_type": "execute_result"
    }
   ],
   "source": [
    "titulos = soup.select('div.global-body-content-container.container-fluid h3 a')\n",
    "lista = []\n",
    "for titulo in titulos:\n",
    "    lista.append(titulo.get_text())\n",
    "lista"
   ]
  },
  {
   "cell_type": "code",
   "execution_count": 21,
   "metadata": {},
   "outputs": [],
   "source": [
    "#driver.back()"
   ]
  },
  {
   "cell_type": "code",
   "execution_count": 22,
   "metadata": {},
   "outputs": [
    {
     "ename": "ElementNotInteractableException",
     "evalue": "Message: element not interactable\n  (Session info: MicrosoftEdge=136.0.3240.64)\nStacktrace:\n\tGetHandleVerifier [0x00007FF7048FFCA5+25029]\n\t(No symbol) [0x00007FF704854CB0]\n\t(No symbol) [0x00007FF70461B940]\n\t(No symbol) [0x00007FF704669215]\n\t(No symbol) [0x00007FF70465E8CA]\n\t(No symbol) [0x00007FF70468908A]\n\t(No symbol) [0x00007FF70465E15D]\n\t(No symbol) [0x00007FF70465E01D]\n\t(No symbol) [0x00007FF704689350]\n\t(No symbol) [0x00007FF70465E15D]\n\t(No symbol) [0x00007FF7046A6698]\n\t(No symbol) [0x00007FF704688DF3]\n\t(No symbol) [0x00007FF70465D6A6]\n\t(No symbol) [0x00007FF70465CBB3]\n\t(No symbol) [0x00007FF70465D4D3]\n\t(No symbol) [0x00007FF704765D0D]\n\t(No symbol) [0x00007FF7047738AF]\n\t(No symbol) [0x00007FF70476C29F]\n\tMicrosoft::Applications::Events::EventProperty::to_string [0x00007FF7049C4D5A+284650]\n\t(No symbol) [0x00007FF704862641]\n\t(No symbol) [0x00007FF70485B0E4]\n\t(No symbol) [0x00007FF70485B233]\n\t(No symbol) [0x00007FF70484CE76]\n\tBaseThreadInitThunk [0x00007FFEB9A9E8D7+23]\n\tRtlUserThreadStart [0x00007FFEBAD9C5DC+44]\n",
     "output_type": "error",
     "traceback": [
      "\u001b[31m---------------------------------------------------------------------------\u001b[39m",
      "\u001b[31mElementNotInteractableException\u001b[39m           Traceback (most recent call last)",
      "\u001b[36mCell\u001b[39m\u001b[36m \u001b[39m\u001b[32mIn[22]\u001b[39m\u001b[32m, line 2\u001b[39m\n\u001b[32m      1\u001b[39m browse = driver.find_element(By.XPATH, \u001b[33m'\u001b[39m\u001b[33m/html/body/gg-app/div/gg-header/header/nav/div/div[1]/div/div[1]/ul/li[1]/button\u001b[39m\u001b[33m'\u001b[39m)\n\u001b[32m----> \u001b[39m\u001b[32m2\u001b[39m \u001b[43mbrowse\u001b[49m\u001b[43m.\u001b[49m\u001b[43mclick\u001b[49m\u001b[43m(\u001b[49m\u001b[43m)\u001b[49m\n",
      "\u001b[36mFile \u001b[39m\u001b[32mc:\\Users\\maxi\\miniconda3\\envs\\data_analysis_env\\Lib\\site-packages\\selenium\\webdriver\\remote\\webelement.py:119\u001b[39m, in \u001b[36mWebElement.click\u001b[39m\u001b[34m(self)\u001b[39m\n\u001b[32m    111\u001b[39m \u001b[38;5;28;01mdef\u001b[39;00m\u001b[38;5;250m \u001b[39m\u001b[34mclick\u001b[39m(\u001b[38;5;28mself\u001b[39m) -> \u001b[38;5;28;01mNone\u001b[39;00m:\n\u001b[32m    112\u001b[39m \u001b[38;5;250m    \u001b[39m\u001b[33;03m\"\"\"Clicks the element.\u001b[39;00m\n\u001b[32m    113\u001b[39m \n\u001b[32m    114\u001b[39m \u001b[33;03m    Example:\u001b[39;00m\n\u001b[32m   (...)\u001b[39m\u001b[32m    117\u001b[39m \u001b[33;03m    >>> element.click()\u001b[39;00m\n\u001b[32m    118\u001b[39m \u001b[33;03m    \"\"\"\u001b[39;00m\n\u001b[32m--> \u001b[39m\u001b[32m119\u001b[39m     \u001b[38;5;28;43mself\u001b[39;49m\u001b[43m.\u001b[49m\u001b[43m_execute\u001b[49m\u001b[43m(\u001b[49m\u001b[43mCommand\u001b[49m\u001b[43m.\u001b[49m\u001b[43mCLICK_ELEMENT\u001b[49m\u001b[43m)\u001b[49m\n",
      "\u001b[36mFile \u001b[39m\u001b[32mc:\\Users\\maxi\\miniconda3\\envs\\data_analysis_env\\Lib\\site-packages\\selenium\\webdriver\\remote\\webelement.py:572\u001b[39m, in \u001b[36mWebElement._execute\u001b[39m\u001b[34m(self, command, params)\u001b[39m\n\u001b[32m    570\u001b[39m     params = {}\n\u001b[32m    571\u001b[39m params[\u001b[33m\"\u001b[39m\u001b[33mid\u001b[39m\u001b[33m\"\u001b[39m] = \u001b[38;5;28mself\u001b[39m._id\n\u001b[32m--> \u001b[39m\u001b[32m572\u001b[39m \u001b[38;5;28;01mreturn\u001b[39;00m \u001b[38;5;28;43mself\u001b[39;49m\u001b[43m.\u001b[49m\u001b[43m_parent\u001b[49m\u001b[43m.\u001b[49m\u001b[43mexecute\u001b[49m\u001b[43m(\u001b[49m\u001b[43mcommand\u001b[49m\u001b[43m,\u001b[49m\u001b[43m \u001b[49m\u001b[43mparams\u001b[49m\u001b[43m)\u001b[49m\n",
      "\u001b[36mFile \u001b[39m\u001b[32mc:\\Users\\maxi\\miniconda3\\envs\\data_analysis_env\\Lib\\site-packages\\selenium\\webdriver\\remote\\webdriver.py:448\u001b[39m, in \u001b[36mWebDriver.execute\u001b[39m\u001b[34m(self, driver_command, params)\u001b[39m\n\u001b[32m    446\u001b[39m response = \u001b[38;5;28mself\u001b[39m.command_executor.execute(driver_command, params)\n\u001b[32m    447\u001b[39m \u001b[38;5;28;01mif\u001b[39;00m response:\n\u001b[32m--> \u001b[39m\u001b[32m448\u001b[39m     \u001b[38;5;28;43mself\u001b[39;49m\u001b[43m.\u001b[49m\u001b[43merror_handler\u001b[49m\u001b[43m.\u001b[49m\u001b[43mcheck_response\u001b[49m\u001b[43m(\u001b[49m\u001b[43mresponse\u001b[49m\u001b[43m)\u001b[49m\n\u001b[32m    449\u001b[39m     response[\u001b[33m\"\u001b[39m\u001b[33mvalue\u001b[39m\u001b[33m\"\u001b[39m] = \u001b[38;5;28mself\u001b[39m._unwrap_value(response.get(\u001b[33m\"\u001b[39m\u001b[33mvalue\u001b[39m\u001b[33m\"\u001b[39m, \u001b[38;5;28;01mNone\u001b[39;00m))\n\u001b[32m    450\u001b[39m     \u001b[38;5;28;01mreturn\u001b[39;00m response\n",
      "\u001b[36mFile \u001b[39m\u001b[32mc:\\Users\\maxi\\miniconda3\\envs\\data_analysis_env\\Lib\\site-packages\\selenium\\webdriver\\remote\\errorhandler.py:232\u001b[39m, in \u001b[36mErrorHandler.check_response\u001b[39m\u001b[34m(self, response)\u001b[39m\n\u001b[32m    230\u001b[39m         alert_text = value[\u001b[33m\"\u001b[39m\u001b[33malert\u001b[39m\u001b[33m\"\u001b[39m].get(\u001b[33m\"\u001b[39m\u001b[33mtext\u001b[39m\u001b[33m\"\u001b[39m)\n\u001b[32m    231\u001b[39m     \u001b[38;5;28;01mraise\u001b[39;00m exception_class(message, screen, stacktrace, alert_text)  \u001b[38;5;66;03m# type: ignore[call-arg]  # mypy is not smart enough here\u001b[39;00m\n\u001b[32m--> \u001b[39m\u001b[32m232\u001b[39m \u001b[38;5;28;01mraise\u001b[39;00m exception_class(message, screen, stacktrace)\n",
      "\u001b[31mElementNotInteractableException\u001b[39m: Message: element not interactable\n  (Session info: MicrosoftEdge=136.0.3240.64)\nStacktrace:\n\tGetHandleVerifier [0x00007FF7048FFCA5+25029]\n\t(No symbol) [0x00007FF704854CB0]\n\t(No symbol) [0x00007FF70461B940]\n\t(No symbol) [0x00007FF704669215]\n\t(No symbol) [0x00007FF70465E8CA]\n\t(No symbol) [0x00007FF70468908A]\n\t(No symbol) [0x00007FF70465E15D]\n\t(No symbol) [0x00007FF70465E01D]\n\t(No symbol) [0x00007FF704689350]\n\t(No symbol) [0x00007FF70465E15D]\n\t(No symbol) [0x00007FF7046A6698]\n\t(No symbol) [0x00007FF704688DF3]\n\t(No symbol) [0x00007FF70465D6A6]\n\t(No symbol) [0x00007FF70465CBB3]\n\t(No symbol) [0x00007FF70465D4D3]\n\t(No symbol) [0x00007FF704765D0D]\n\t(No symbol) [0x00007FF7047738AF]\n\t(No symbol) [0x00007FF70476C29F]\n\tMicrosoft::Applications::Events::EventProperty::to_string [0x00007FF7049C4D5A+284650]\n\t(No symbol) [0x00007FF704862641]\n\t(No symbol) [0x00007FF70485B0E4]\n\t(No symbol) [0x00007FF70485B233]\n\t(No symbol) [0x00007FF70484CE76]\n\tBaseThreadInitThunk [0x00007FFEB9A9E8D7+23]\n\tRtlUserThreadStart [0x00007FFEBAD9C5DC+44]\n"
     ]
    }
   ],
   "source": [
    "\n",
    "browse = driver.find_element(By.XPATH, '/html/body/gg-app/div/gg-header/header/nav/div/div[1]/div/div[1]/ul/li[1]/button')\n",
    "browse.click()"
   ]
  },
  {
   "cell_type": "code",
   "execution_count": 23,
   "metadata": {},
   "outputs": [
    {
     "ename": "ElementNotInteractableException",
     "evalue": "Message: element not interactable\n  (Session info: MicrosoftEdge=136.0.3240.64)\nStacktrace:\n\tGetHandleVerifier [0x00007FF7048FFCA5+25029]\n\t(No symbol) [0x00007FF704854CB0]\n\t(No symbol) [0x00007FF70461B940]\n\t(No symbol) [0x00007FF704669215]\n\t(No symbol) [0x00007FF70465E8CA]\n\t(No symbol) [0x00007FF70468908A]\n\t(No symbol) [0x00007FF70465E15D]\n\t(No symbol) [0x00007FF70465E01D]\n\t(No symbol) [0x00007FF704689350]\n\t(No symbol) [0x00007FF70465E15D]\n\t(No symbol) [0x00007FF7046A6698]\n\t(No symbol) [0x00007FF704688DF3]\n\t(No symbol) [0x00007FF70465D6A6]\n\t(No symbol) [0x00007FF70465CBB3]\n\t(No symbol) [0x00007FF70465D4D3]\n\t(No symbol) [0x00007FF704765D0D]\n\t(No symbol) [0x00007FF7047738AF]\n\t(No symbol) [0x00007FF70476C29F]\n\tMicrosoft::Applications::Events::EventProperty::to_string [0x00007FF7049C4D5A+284650]\n\t(No symbol) [0x00007FF704862641]\n\t(No symbol) [0x00007FF70485B0E4]\n\t(No symbol) [0x00007FF70485B233]\n\t(No symbol) [0x00007FF70484CE76]\n\tBaseThreadInitThunk [0x00007FFEB9A9E8D7+23]\n\tRtlUserThreadStart [0x00007FFEBAD9C5DC+44]\n",
     "output_type": "error",
     "traceback": [
      "\u001b[31m---------------------------------------------------------------------------\u001b[39m",
      "\u001b[31mElementNotInteractableException\u001b[39m           Traceback (most recent call last)",
      "\u001b[36mCell\u001b[39m\u001b[36m \u001b[39m\u001b[32mIn[23]\u001b[39m\u001b[32m, line 2\u001b[39m\n\u001b[32m      1\u001b[39m all_games = driver.find_element(By.XPATH, \u001b[33m'\u001b[39m\u001b[33m/html/body/gg-app/div/gg-header/header/nav/div/div[1]/div/div[1]/ul/li[1]/div/div/div/div[1]/span[1]/a\u001b[39m\u001b[33m'\u001b[39m)\n\u001b[32m----> \u001b[39m\u001b[32m2\u001b[39m \u001b[43mall_games\u001b[49m\u001b[43m.\u001b[49m\u001b[43mclick\u001b[49m\u001b[43m(\u001b[49m\u001b[43m)\u001b[49m\n",
      "\u001b[36mFile \u001b[39m\u001b[32mc:\\Users\\maxi\\miniconda3\\envs\\data_analysis_env\\Lib\\site-packages\\selenium\\webdriver\\remote\\webelement.py:119\u001b[39m, in \u001b[36mWebElement.click\u001b[39m\u001b[34m(self)\u001b[39m\n\u001b[32m    111\u001b[39m \u001b[38;5;28;01mdef\u001b[39;00m\u001b[38;5;250m \u001b[39m\u001b[34mclick\u001b[39m(\u001b[38;5;28mself\u001b[39m) -> \u001b[38;5;28;01mNone\u001b[39;00m:\n\u001b[32m    112\u001b[39m \u001b[38;5;250m    \u001b[39m\u001b[33;03m\"\"\"Clicks the element.\u001b[39;00m\n\u001b[32m    113\u001b[39m \n\u001b[32m    114\u001b[39m \u001b[33;03m    Example:\u001b[39;00m\n\u001b[32m   (...)\u001b[39m\u001b[32m    117\u001b[39m \u001b[33;03m    >>> element.click()\u001b[39;00m\n\u001b[32m    118\u001b[39m \u001b[33;03m    \"\"\"\u001b[39;00m\n\u001b[32m--> \u001b[39m\u001b[32m119\u001b[39m     \u001b[38;5;28;43mself\u001b[39;49m\u001b[43m.\u001b[49m\u001b[43m_execute\u001b[49m\u001b[43m(\u001b[49m\u001b[43mCommand\u001b[49m\u001b[43m.\u001b[49m\u001b[43mCLICK_ELEMENT\u001b[49m\u001b[43m)\u001b[49m\n",
      "\u001b[36mFile \u001b[39m\u001b[32mc:\\Users\\maxi\\miniconda3\\envs\\data_analysis_env\\Lib\\site-packages\\selenium\\webdriver\\remote\\webelement.py:572\u001b[39m, in \u001b[36mWebElement._execute\u001b[39m\u001b[34m(self, command, params)\u001b[39m\n\u001b[32m    570\u001b[39m     params = {}\n\u001b[32m    571\u001b[39m params[\u001b[33m\"\u001b[39m\u001b[33mid\u001b[39m\u001b[33m\"\u001b[39m] = \u001b[38;5;28mself\u001b[39m._id\n\u001b[32m--> \u001b[39m\u001b[32m572\u001b[39m \u001b[38;5;28;01mreturn\u001b[39;00m \u001b[38;5;28;43mself\u001b[39;49m\u001b[43m.\u001b[49m\u001b[43m_parent\u001b[49m\u001b[43m.\u001b[49m\u001b[43mexecute\u001b[49m\u001b[43m(\u001b[49m\u001b[43mcommand\u001b[49m\u001b[43m,\u001b[49m\u001b[43m \u001b[49m\u001b[43mparams\u001b[49m\u001b[43m)\u001b[49m\n",
      "\u001b[36mFile \u001b[39m\u001b[32mc:\\Users\\maxi\\miniconda3\\envs\\data_analysis_env\\Lib\\site-packages\\selenium\\webdriver\\remote\\webdriver.py:448\u001b[39m, in \u001b[36mWebDriver.execute\u001b[39m\u001b[34m(self, driver_command, params)\u001b[39m\n\u001b[32m    446\u001b[39m response = \u001b[38;5;28mself\u001b[39m.command_executor.execute(driver_command, params)\n\u001b[32m    447\u001b[39m \u001b[38;5;28;01mif\u001b[39;00m response:\n\u001b[32m--> \u001b[39m\u001b[32m448\u001b[39m     \u001b[38;5;28;43mself\u001b[39;49m\u001b[43m.\u001b[49m\u001b[43merror_handler\u001b[49m\u001b[43m.\u001b[49m\u001b[43mcheck_response\u001b[49m\u001b[43m(\u001b[49m\u001b[43mresponse\u001b[49m\u001b[43m)\u001b[49m\n\u001b[32m    449\u001b[39m     response[\u001b[33m\"\u001b[39m\u001b[33mvalue\u001b[39m\u001b[33m\"\u001b[39m] = \u001b[38;5;28mself\u001b[39m._unwrap_value(response.get(\u001b[33m\"\u001b[39m\u001b[33mvalue\u001b[39m\u001b[33m\"\u001b[39m, \u001b[38;5;28;01mNone\u001b[39;00m))\n\u001b[32m    450\u001b[39m     \u001b[38;5;28;01mreturn\u001b[39;00m response\n",
      "\u001b[36mFile \u001b[39m\u001b[32mc:\\Users\\maxi\\miniconda3\\envs\\data_analysis_env\\Lib\\site-packages\\selenium\\webdriver\\remote\\errorhandler.py:232\u001b[39m, in \u001b[36mErrorHandler.check_response\u001b[39m\u001b[34m(self, response)\u001b[39m\n\u001b[32m    230\u001b[39m         alert_text = value[\u001b[33m\"\u001b[39m\u001b[33malert\u001b[39m\u001b[33m\"\u001b[39m].get(\u001b[33m\"\u001b[39m\u001b[33mtext\u001b[39m\u001b[33m\"\u001b[39m)\n\u001b[32m    231\u001b[39m     \u001b[38;5;28;01mraise\u001b[39;00m exception_class(message, screen, stacktrace, alert_text)  \u001b[38;5;66;03m# type: ignore[call-arg]  # mypy is not smart enough here\u001b[39;00m\n\u001b[32m--> \u001b[39m\u001b[32m232\u001b[39m \u001b[38;5;28;01mraise\u001b[39;00m exception_class(message, screen, stacktrace)\n",
      "\u001b[31mElementNotInteractableException\u001b[39m: Message: element not interactable\n  (Session info: MicrosoftEdge=136.0.3240.64)\nStacktrace:\n\tGetHandleVerifier [0x00007FF7048FFCA5+25029]\n\t(No symbol) [0x00007FF704854CB0]\n\t(No symbol) [0x00007FF70461B940]\n\t(No symbol) [0x00007FF704669215]\n\t(No symbol) [0x00007FF70465E8CA]\n\t(No symbol) [0x00007FF70468908A]\n\t(No symbol) [0x00007FF70465E15D]\n\t(No symbol) [0x00007FF70465E01D]\n\t(No symbol) [0x00007FF704689350]\n\t(No symbol) [0x00007FF70465E15D]\n\t(No symbol) [0x00007FF7046A6698]\n\t(No symbol) [0x00007FF704688DF3]\n\t(No symbol) [0x00007FF70465D6A6]\n\t(No symbol) [0x00007FF70465CBB3]\n\t(No symbol) [0x00007FF70465D4D3]\n\t(No symbol) [0x00007FF704765D0D]\n\t(No symbol) [0x00007FF7047738AF]\n\t(No symbol) [0x00007FF70476C29F]\n\tMicrosoft::Applications::Events::EventProperty::to_string [0x00007FF7049C4D5A+284650]\n\t(No symbol) [0x00007FF704862641]\n\t(No symbol) [0x00007FF70485B0E4]\n\t(No symbol) [0x00007FF70485B233]\n\t(No symbol) [0x00007FF70484CE76]\n\tBaseThreadInitThunk [0x00007FFEB9A9E8D7+23]\n\tRtlUserThreadStart [0x00007FFEBAD9C5DC+44]\n"
     ]
    }
   ],
   "source": [
    "all_games = driver.find_element(By.XPATH, '/html/body/gg-app/div/gg-header/header/nav/div/div[1]/div/div[1]/ul/li[1]/div/div/div/div[1]/span[1]/a')\n",
    "all_games.click()"
   ]
  },
  {
   "cell_type": "code",
   "execution_count": 24,
   "metadata": {},
   "outputs": [],
   "source": [
    "driver.close()"
   ]
  },
  {
   "cell_type": "markdown",
   "metadata": {},
   "source": [
    "# Ahora algo más visual"
   ]
  },
  {
   "cell_type": "code",
   "execution_count": 36,
   "metadata": {},
   "outputs": [],
   "source": [
    "driver = webdriver.Edge()\n",
    "\n",
    "url = 'https://www.filmaffinity.com/es/main.html'\n",
    "\n",
    "driver.get(url)"
   ]
  },
  {
   "cell_type": "markdown",
   "metadata": {},
   "source": [
    "La página de Filmaffinity se ha abierto pero nos vuelven a molestar las cookies"
   ]
  },
  {
   "cell_type": "code",
   "execution_count": 31,
   "metadata": {},
   "outputs": [
    {
     "ename": "NoSuchElementException",
     "evalue": "Message: no such element: Unable to locate element: {\"method\":\"xpath\",\"selector\":\"/html/body/div[1]/div/div/div/div[2]/div/button[2]\"}\n  (Session info: MicrosoftEdge=136.0.3240.64); For documentation on this error, please visit: https://www.selenium.dev/documentation/webdriver/troubleshooting/errors#no-such-element-exception\nStacktrace:\n\tGetHandleVerifier [0x00007FF7048FFCA5+25029]\n\t(No symbol) [0x00007FF704854CB0]\n\tMicrosoft::Applications::Events::EventProperty::to_string [0x00007FF704B5ADAA+1947706]\n\t(No symbol) [0x00007FF704667D88]\n\t(No symbol) [0x00007FF70466804B]\n\t(No symbol) [0x00007FF7046A8CA7]\n\t(No symbol) [0x00007FF7046890CF]\n\t(No symbol) [0x00007FF70465E15D]\n\t(No symbol) [0x00007FF7046A6698]\n\t(No symbol) [0x00007FF704688DF3]\n\t(No symbol) [0x00007FF70465D6A6]\n\t(No symbol) [0x00007FF70465CBB3]\n\t(No symbol) [0x00007FF70465D4D3]\n\t(No symbol) [0x00007FF704765D0D]\n\t(No symbol) [0x00007FF7047738AF]\n\t(No symbol) [0x00007FF70476C29F]\n\tMicrosoft::Applications::Events::EventProperty::to_string [0x00007FF7049C4D5A+284650]\n\t(No symbol) [0x00007FF704862641]\n\t(No symbol) [0x00007FF70485B0E4]\n\t(No symbol) [0x00007FF70485B233]\n\t(No symbol) [0x00007FF70484CE76]\n\tBaseThreadInitThunk [0x00007FFEB9A9E8D7+23]\n\tRtlUserThreadStart [0x00007FFEBAD9C5DC+44]\n",
     "output_type": "error",
     "traceback": [
      "\u001b[31m---------------------------------------------------------------------------\u001b[39m",
      "\u001b[31mNoSuchElementException\u001b[39m                    Traceback (most recent call last)",
      "\u001b[36mCell\u001b[39m\u001b[36m \u001b[39m\u001b[32mIn[31]\u001b[39m\u001b[32m, line 1\u001b[39m\n\u001b[32m----> \u001b[39m\u001b[32m1\u001b[39m element_by_xpath = \u001b[43mdriver\u001b[49m\u001b[43m.\u001b[49m\u001b[43mfind_element\u001b[49m\u001b[43m(\u001b[49m\u001b[43mBy\u001b[49m\u001b[43m.\u001b[49m\u001b[43mXPATH\u001b[49m\u001b[43m,\u001b[49m\u001b[43m \u001b[49m\u001b[33;43m'\u001b[39;49m\u001b[33;43m/html/body/div[1]/div/div/div/div[2]/div/button[2]\u001b[39;49m\u001b[33;43m'\u001b[39;49m\u001b[43m)\u001b[49m\n",
      "\u001b[36mFile \u001b[39m\u001b[32mc:\\Users\\maxi\\miniconda3\\envs\\data_analysis_env\\Lib\\site-packages\\selenium\\webdriver\\remote\\webdriver.py:917\u001b[39m, in \u001b[36mWebDriver.find_element\u001b[39m\u001b[34m(self, by, value)\u001b[39m\n\u001b[32m    914\u001b[39m         \u001b[38;5;28;01mraise\u001b[39;00m NoSuchElementException(\u001b[33mf\u001b[39m\u001b[33m\"\u001b[39m\u001b[33mCannot locate relative element with: \u001b[39m\u001b[38;5;132;01m{\u001b[39;00mby.root\u001b[38;5;132;01m}\u001b[39;00m\u001b[33m\"\u001b[39m)\n\u001b[32m    915\u001b[39m     \u001b[38;5;28;01mreturn\u001b[39;00m elements[\u001b[32m0\u001b[39m]\n\u001b[32m--> \u001b[39m\u001b[32m917\u001b[39m \u001b[38;5;28;01mreturn\u001b[39;00m \u001b[38;5;28;43mself\u001b[39;49m\u001b[43m.\u001b[49m\u001b[43mexecute\u001b[49m\u001b[43m(\u001b[49m\u001b[43mCommand\u001b[49m\u001b[43m.\u001b[49m\u001b[43mFIND_ELEMENT\u001b[49m\u001b[43m,\u001b[49m\u001b[43m \u001b[49m\u001b[43m{\u001b[49m\u001b[33;43m\"\u001b[39;49m\u001b[33;43musing\u001b[39;49m\u001b[33;43m\"\u001b[39;49m\u001b[43m:\u001b[49m\u001b[43m \u001b[49m\u001b[43mby\u001b[49m\u001b[43m,\u001b[49m\u001b[43m \u001b[49m\u001b[33;43m\"\u001b[39;49m\u001b[33;43mvalue\u001b[39;49m\u001b[33;43m\"\u001b[39;49m\u001b[43m:\u001b[49m\u001b[43m \u001b[49m\u001b[43mvalue\u001b[49m\u001b[43m}\u001b[49m\u001b[43m)\u001b[49m[\u001b[33m\"\u001b[39m\u001b[33mvalue\u001b[39m\u001b[33m\"\u001b[39m]\n",
      "\u001b[36mFile \u001b[39m\u001b[32mc:\\Users\\maxi\\miniconda3\\envs\\data_analysis_env\\Lib\\site-packages\\selenium\\webdriver\\remote\\webdriver.py:448\u001b[39m, in \u001b[36mWebDriver.execute\u001b[39m\u001b[34m(self, driver_command, params)\u001b[39m\n\u001b[32m    446\u001b[39m response = \u001b[38;5;28mself\u001b[39m.command_executor.execute(driver_command, params)\n\u001b[32m    447\u001b[39m \u001b[38;5;28;01mif\u001b[39;00m response:\n\u001b[32m--> \u001b[39m\u001b[32m448\u001b[39m     \u001b[38;5;28;43mself\u001b[39;49m\u001b[43m.\u001b[49m\u001b[43merror_handler\u001b[49m\u001b[43m.\u001b[49m\u001b[43mcheck_response\u001b[49m\u001b[43m(\u001b[49m\u001b[43mresponse\u001b[49m\u001b[43m)\u001b[49m\n\u001b[32m    449\u001b[39m     response[\u001b[33m\"\u001b[39m\u001b[33mvalue\u001b[39m\u001b[33m\"\u001b[39m] = \u001b[38;5;28mself\u001b[39m._unwrap_value(response.get(\u001b[33m\"\u001b[39m\u001b[33mvalue\u001b[39m\u001b[33m\"\u001b[39m, \u001b[38;5;28;01mNone\u001b[39;00m))\n\u001b[32m    450\u001b[39m     \u001b[38;5;28;01mreturn\u001b[39;00m response\n",
      "\u001b[36mFile \u001b[39m\u001b[32mc:\\Users\\maxi\\miniconda3\\envs\\data_analysis_env\\Lib\\site-packages\\selenium\\webdriver\\remote\\errorhandler.py:232\u001b[39m, in \u001b[36mErrorHandler.check_response\u001b[39m\u001b[34m(self, response)\u001b[39m\n\u001b[32m    230\u001b[39m         alert_text = value[\u001b[33m\"\u001b[39m\u001b[33malert\u001b[39m\u001b[33m\"\u001b[39m].get(\u001b[33m\"\u001b[39m\u001b[33mtext\u001b[39m\u001b[33m\"\u001b[39m)\n\u001b[32m    231\u001b[39m     \u001b[38;5;28;01mraise\u001b[39;00m exception_class(message, screen, stacktrace, alert_text)  \u001b[38;5;66;03m# type: ignore[call-arg]  # mypy is not smart enough here\u001b[39;00m\n\u001b[32m--> \u001b[39m\u001b[32m232\u001b[39m \u001b[38;5;28;01mraise\u001b[39;00m exception_class(message, screen, stacktrace)\n",
      "\u001b[31mNoSuchElementException\u001b[39m: Message: no such element: Unable to locate element: {\"method\":\"xpath\",\"selector\":\"/html/body/div[1]/div/div/div/div[2]/div/button[2]\"}\n  (Session info: MicrosoftEdge=136.0.3240.64); For documentation on this error, please visit: https://www.selenium.dev/documentation/webdriver/troubleshooting/errors#no-such-element-exception\nStacktrace:\n\tGetHandleVerifier [0x00007FF7048FFCA5+25029]\n\t(No symbol) [0x00007FF704854CB0]\n\tMicrosoft::Applications::Events::EventProperty::to_string [0x00007FF704B5ADAA+1947706]\n\t(No symbol) [0x00007FF704667D88]\n\t(No symbol) [0x00007FF70466804B]\n\t(No symbol) [0x00007FF7046A8CA7]\n\t(No symbol) [0x00007FF7046890CF]\n\t(No symbol) [0x00007FF70465E15D]\n\t(No symbol) [0x00007FF7046A6698]\n\t(No symbol) [0x00007FF704688DF3]\n\t(No symbol) [0x00007FF70465D6A6]\n\t(No symbol) [0x00007FF70465CBB3]\n\t(No symbol) [0x00007FF70465D4D3]\n\t(No symbol) [0x00007FF704765D0D]\n\t(No symbol) [0x00007FF7047738AF]\n\t(No symbol) [0x00007FF70476C29F]\n\tMicrosoft::Applications::Events::EventProperty::to_string [0x00007FF7049C4D5A+284650]\n\t(No symbol) [0x00007FF704862641]\n\t(No symbol) [0x00007FF70485B0E4]\n\t(No symbol) [0x00007FF70485B233]\n\t(No symbol) [0x00007FF70484CE76]\n\tBaseThreadInitThunk [0x00007FFEB9A9E8D7+23]\n\tRtlUserThreadStart [0x00007FFEBAD9C5DC+44]\n"
     ]
    }
   ],
   "source": [
    "element_by_xpath = driver.find_element(By.XPATH, '/html/body/div[1]/div/div/div/div[2]/div/button[2]')"
   ]
  },
  {
   "cell_type": "markdown",
   "metadata": {},
   "source": [
    "Una vez tenemos los elementos podemos hacer varias cosas con ellos\n",
    "\n",
    "vamos a ver..."
   ]
  },
  {
   "cell_type": "code",
   "execution_count": 32,
   "metadata": {},
   "outputs": [
    {
     "ename": "NameError",
     "evalue": "name 'element_by_xpath' is not defined",
     "output_type": "error",
     "traceback": [
      "\u001b[31m---------------------------------------------------------------------------\u001b[39m",
      "\u001b[31mNameError\u001b[39m                                 Traceback (most recent call last)",
      "\u001b[36mCell\u001b[39m\u001b[36m \u001b[39m\u001b[32mIn[32]\u001b[39m\u001b[32m, line 1\u001b[39m\n\u001b[32m----> \u001b[39m\u001b[32m1\u001b[39m \u001b[38;5;28mdir\u001b[39m(\u001b[43melement_by_xpath\u001b[49m)\n",
      "\u001b[31mNameError\u001b[39m: name 'element_by_xpath' is not defined"
     ]
    }
   ],
   "source": [
    "dir(element_by_xpath)"
   ]
  },
  {
   "cell_type": "markdown",
   "metadata": {},
   "source": [
    "Podemos evaluar que tipo de elemento es (tag)"
   ]
  },
  {
   "cell_type": "code",
   "execution_count": 33,
   "metadata": {},
   "outputs": [
    {
     "ename": "NameError",
     "evalue": "name 'element_by_xpath' is not defined",
     "output_type": "error",
     "traceback": [
      "\u001b[31m---------------------------------------------------------------------------\u001b[39m",
      "\u001b[31mNameError\u001b[39m                                 Traceback (most recent call last)",
      "\u001b[36mCell\u001b[39m\u001b[36m \u001b[39m\u001b[32mIn[33]\u001b[39m\u001b[32m, line 1\u001b[39m\n\u001b[32m----> \u001b[39m\u001b[32m1\u001b[39m \u001b[43melement_by_xpath\u001b[49m.tag_name\n",
      "\u001b[31mNameError\u001b[39m: name 'element_by_xpath' is not defined"
     ]
    }
   ],
   "source": [
    "element_by_xpath.tag_name"
   ]
  },
  {
   "cell_type": "markdown",
   "metadata": {},
   "source": [
    "Podemos sacar el valor que tiene (el texto)"
   ]
  },
  {
   "cell_type": "code",
   "execution_count": 34,
   "metadata": {},
   "outputs": [
    {
     "ename": "NameError",
     "evalue": "name 'element_by_xpath' is not defined",
     "output_type": "error",
     "traceback": [
      "\u001b[31m---------------------------------------------------------------------------\u001b[39m",
      "\u001b[31mNameError\u001b[39m                                 Traceback (most recent call last)",
      "\u001b[36mCell\u001b[39m\u001b[36m \u001b[39m\u001b[32mIn[34]\u001b[39m\u001b[32m, line 1\u001b[39m\n\u001b[32m----> \u001b[39m\u001b[32m1\u001b[39m \u001b[43melement_by_xpath\u001b[49m.text\n",
      "\u001b[31mNameError\u001b[39m: name 'element_by_xpath' is not defined"
     ]
    }
   ],
   "source": [
    "element_by_xpath.text"
   ]
  },
  {
   "cell_type": "code",
   "execution_count": 35,
   "metadata": {},
   "outputs": [
    {
     "ename": "NameError",
     "evalue": "name 'element_by_xpath' is not defined",
     "output_type": "error",
     "traceback": [
      "\u001b[31m---------------------------------------------------------------------------\u001b[39m",
      "\u001b[31mNameError\u001b[39m                                 Traceback (most recent call last)",
      "\u001b[36mCell\u001b[39m\u001b[36m \u001b[39m\u001b[32mIn[35]\u001b[39m\u001b[32m, line 1\u001b[39m\n\u001b[32m----> \u001b[39m\u001b[32m1\u001b[39m \u001b[43melement_by_xpath\u001b[49m.screenshot(\u001b[33m'\u001b[39m\u001b[33mmi_imagen.png\u001b[39m\u001b[33m'\u001b[39m)\n",
      "\u001b[31mNameError\u001b[39m: name 'element_by_xpath' is not defined"
     ]
    }
   ],
   "source": [
    "element_by_xpath.screenshot('mi_imagen.png')"
   ]
  },
  {
   "cell_type": "markdown",
   "metadata": {},
   "source": [
    "Bueno vamos a seguir"
   ]
  },
  {
   "cell_type": "code",
   "execution_count": 61,
   "metadata": {},
   "outputs": [],
   "source": [
    "element_by_xpath.click()"
   ]
  },
  {
   "cell_type": "markdown",
   "metadata": {},
   "source": [
    "Vamos a buscar una pelicula por su nombre"
   ]
  },
  {
   "cell_type": "code",
   "execution_count": 48,
   "metadata": {},
   "outputs": [],
   "source": [
    "buscador = driver.find_element(By.XPATH, '/html/body/header/div[1]/div/div[2]/div/form/div/input')"
   ]
  },
  {
   "cell_type": "code",
   "execution_count": 49,
   "metadata": {},
   "outputs": [],
   "source": [
    "buscador.send_keys('titanicas')"
   ]
  },
  {
   "cell_type": "markdown",
   "metadata": {},
   "source": [
    "Está mal escrito limpiamos"
   ]
  },
  {
   "cell_type": "code",
   "execution_count": 50,
   "metadata": {},
   "outputs": [],
   "source": [
    "buscador.clear()"
   ]
  },
  {
   "cell_type": "code",
   "execution_count": 51,
   "metadata": {},
   "outputs": [],
   "source": [
    "buscador.send_keys('titanic')"
   ]
  },
  {
   "cell_type": "code",
   "execution_count": 54,
   "metadata": {},
   "outputs": [],
   "source": [
    "buscador.send_keys(Keys.ENTER)"
   ]
  },
  {
   "cell_type": "code",
   "execution_count": 53,
   "metadata": {},
   "outputs": [],
   "source": [
    "driver.back()"
   ]
  },
  {
   "cell_type": "code",
   "execution_count": 55,
   "metadata": {},
   "outputs": [],
   "source": [
    "for i in range(20):\n",
    "\n",
    "    driver.execute_script(\"window.scrollBy(0, 250)\")\n",
    "\n",
    "    time.sleep(1)"
   ]
  },
  {
   "cell_type": "markdown",
   "metadata": {},
   "source": [
    "Control de ventanas"
   ]
  },
  {
   "cell_type": "code",
   "execution_count": 69,
   "metadata": {},
   "outputs": [],
   "source": [
    "driver.execute_script('window.open(\"\");')"
   ]
  },
  {
   "cell_type": "code",
   "execution_count": 70,
   "metadata": {},
   "outputs": [],
   "source": [
    "driver.switch_to.window(driver.window_handles[0])"
   ]
  },
  {
   "cell_type": "code",
   "execution_count": 71,
   "metadata": {},
   "outputs": [],
   "source": [
    "driver.close()"
   ]
  },
  {
   "cell_type": "code",
   "execution_count": 72,
   "metadata": {},
   "outputs": [],
   "source": [
    "driver.switch_to.window(driver.window_handles[-1])"
   ]
  },
  {
   "cell_type": "code",
   "execution_count": 73,
   "metadata": {},
   "outputs": [],
   "source": [
    "driver.close()"
   ]
  },
  {
   "cell_type": "code",
   "execution_count": null,
   "metadata": {},
   "outputs": [],
   "source": []
  },
  {
   "cell_type": "markdown",
   "metadata": {},
   "source": []
  },
  {
   "cell_type": "code",
   "execution_count": 71,
   "metadata": {},
   "outputs": [],
   "source": [
    "driver = webdriver.Edge()\n",
    "\n",
    "url = \"https://lanzadera.es/proyectos/\"\n",
    "\n",
    "driver.get(url)\n"
   ]
  },
  {
   "cell_type": "code",
   "execution_count": 72,
   "metadata": {},
   "outputs": [],
   "source": [
    "Consentimiento = driver.find_element(By.XPATH, '//*[@id=\"seifti_cookie_bot\"]/div[3]/button[1]')"
   ]
  },
  {
   "cell_type": "code",
   "execution_count": 73,
   "metadata": {},
   "outputs": [],
   "source": [
    "Consentimiento.click()"
   ]
  },
  {
   "cell_type": "code",
   "execution_count": 74,
   "metadata": {},
   "outputs": [
    {
     "ename": "AttributeError",
     "evalue": "module 'time' has no attribute 'Sleep'",
     "output_type": "error",
     "traceback": [
      "\u001b[31m---------------------------------------------------------------------------\u001b[39m",
      "\u001b[31mAttributeError\u001b[39m                            Traceback (most recent call last)",
      "\u001b[36mCell\u001b[39m\u001b[36m \u001b[39m\u001b[32mIn[74]\u001b[39m\u001b[32m, line 9\u001b[39m\n\u001b[32m      7\u001b[39m \u001b[38;5;28;01mfor\u001b[39;00m i \u001b[38;5;129;01min\u001b[39;00m \u001b[38;5;28mrange\u001b[39m(\u001b[32m20\u001b[39m):\n\u001b[32m      8\u001b[39m     driver.execute_script(\u001b[33m\"\u001b[39m\u001b[33mwindow.scrollBy(0, document.body.scrollHeight);\u001b[39m\u001b[33m\"\u001b[39m)\n\u001b[32m----> \u001b[39m\u001b[32m9\u001b[39m     \u001b[43mtime\u001b[49m\u001b[43m.\u001b[49m\u001b[43mSleep\u001b[49m(\u001b[32m1\u001b[39m)\n\u001b[32m     10\u001b[39m     driver.execute_script()\n",
      "\u001b[31mAttributeError\u001b[39m: module 'time' has no attribute 'Sleep'"
     ]
    }
   ],
   "source": [
    "# for i in range(40):\n",
    "\n",
    "#     driver.execute_script(\"window.scrollBy(0, 600)\")\n",
    "\n",
    "\n",
    "#     time.sleep(1)\n",
    "for i in range(20):\n",
    "    driver.execute_script(\"window.scrollBy(0, document.body.scrollHeight);\")\n",
    "    time.Sleep(1)\n",
    "    driver.execute_script()"
   ]
  },
  {
   "cell_type": "code",
   "execution_count": 75,
   "metadata": {},
   "outputs": [],
   "source": [
    "sopa = bs(driver.page_source, \"lxml\")"
   ]
  },
  {
   "cell_type": "code",
   "execution_count": 76,
   "metadata": {},
   "outputs": [],
   "source": [
    "elems = sopa.select(\"div.elementor-53490\")"
   ]
  },
  {
   "cell_type": "code",
   "execution_count": 77,
   "metadata": {},
   "outputs": [
    {
     "data": {
      "text/plain": [
       "48"
      ]
     },
     "execution_count": 77,
     "metadata": {},
     "output_type": "execute_result"
    }
   ],
   "source": [
    "len(elems)"
   ]
  },
  {
   "cell_type": "code",
   "execution_count": null,
   "metadata": {},
   "outputs": [],
   "source": []
  }
 ],
 "metadata": {
  "kernelspec": {
   "display_name": "data_analysis_env",
   "language": "python",
   "name": "python3"
  },
  "language_info": {
   "codemirror_mode": {
    "name": "ipython",
    "version": 3
   },
   "file_extension": ".py",
   "mimetype": "text/x-python",
   "name": "python",
   "nbconvert_exporter": "python",
   "pygments_lexer": "ipython3",
   "version": "3.11.11"
  }
 },
 "nbformat": 4,
 "nbformat_minor": 2
}
