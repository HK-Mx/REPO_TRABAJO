{
 "cells": [
  {
   "cell_type": "markdown",
   "id": "96a7fae6",
   "metadata": {
    "papermill": {
     "duration": 0.044733,
     "end_time": "2021-08-31T23:19:59.938796",
     "exception": false,
     "start_time": "2021-08-31T23:19:59.894063",
     "status": "completed"
    },
    "tags": []
   },
   "source": [
    "We will perform sentiment analysis with IMDb. The workflow is as follows:\n",
    "1. EDA & cleaning\n",
    "2. Baseline linear model\n",
    "3. LSTM model"
   ]
  },
  {
   "cell_type": "code",
   "execution_count": 2,
   "id": "cd27aaf9",
   "metadata": {},
   "outputs": [
    {
     "name": "stdout",
     "output_type": "stream",
     "text": [
      "Collecting tensorflow\n",
      "  Using cached tensorflow-2.19.0-cp311-cp311-win_amd64.whl.metadata (4.1 kB)\n",
      "Collecting absl-py>=1.0.0 (from tensorflow)\n",
      "  Using cached absl_py-2.3.0-py3-none-any.whl.metadata (2.4 kB)\n",
      "Collecting astunparse>=1.6.0 (from tensorflow)\n",
      "  Using cached astunparse-1.6.3-py2.py3-none-any.whl.metadata (4.4 kB)\n",
      "Collecting flatbuffers>=24.3.25 (from tensorflow)\n",
      "  Using cached flatbuffers-25.2.10-py2.py3-none-any.whl.metadata (875 bytes)\n",
      "Collecting gast!=0.5.0,!=0.5.1,!=0.5.2,>=0.2.1 (from tensorflow)\n",
      "  Using cached gast-0.6.0-py3-none-any.whl.metadata (1.3 kB)\n",
      "Collecting google-pasta>=0.1.1 (from tensorflow)\n",
      "  Using cached google_pasta-0.2.0-py3-none-any.whl.metadata (814 bytes)\n",
      "Collecting libclang>=13.0.0 (from tensorflow)\n",
      "  Using cached libclang-18.1.1-py2.py3-none-win_amd64.whl.metadata (5.3 kB)\n",
      "Collecting opt-einsum>=2.3.2 (from tensorflow)\n",
      "  Using cached opt_einsum-3.4.0-py3-none-any.whl.metadata (6.3 kB)\n",
      "Requirement already satisfied: packaging in c:\\users\\maxi\\miniconda3\\envs\\streamlit_env\\lib\\site-packages (from tensorflow) (24.2)\n",
      "Collecting protobuf!=4.21.0,!=4.21.1,!=4.21.2,!=4.21.3,!=4.21.4,!=4.21.5,<6.0.0dev,>=3.20.3 (from tensorflow)\n",
      "  Using cached protobuf-5.29.5-cp310-abi3-win_amd64.whl.metadata (592 bytes)\n",
      "Requirement already satisfied: requests<3,>=2.21.0 in c:\\users\\maxi\\miniconda3\\envs\\streamlit_env\\lib\\site-packages (from tensorflow) (2.32.3)\n",
      "Requirement already satisfied: setuptools in c:\\users\\maxi\\miniconda3\\envs\\streamlit_env\\lib\\site-packages (from tensorflow) (78.1.1)\n",
      "Requirement already satisfied: six>=1.12.0 in c:\\users\\maxi\\miniconda3\\envs\\streamlit_env\\lib\\site-packages (from tensorflow) (1.17.0)\n",
      "Collecting termcolor>=1.1.0 (from tensorflow)\n",
      "  Using cached termcolor-3.1.0-py3-none-any.whl.metadata (6.4 kB)\n",
      "Requirement already satisfied: typing-extensions>=3.6.6 in c:\\users\\maxi\\miniconda3\\envs\\streamlit_env\\lib\\site-packages (from tensorflow) (4.14.0)\n",
      "Collecting wrapt>=1.11.0 (from tensorflow)\n",
      "  Using cached wrapt-1.17.2-cp311-cp311-win_amd64.whl.metadata (6.5 kB)\n",
      "Collecting grpcio<2.0,>=1.24.3 (from tensorflow)\n",
      "  Using cached grpcio-1.73.0-cp311-cp311-win_amd64.whl.metadata (4.0 kB)\n",
      "Collecting tensorboard~=2.19.0 (from tensorflow)\n",
      "  Using cached tensorboard-2.19.0-py3-none-any.whl.metadata (1.8 kB)\n",
      "Collecting keras>=3.5.0 (from tensorflow)\n",
      "  Using cached keras-3.10.0-py3-none-any.whl.metadata (6.0 kB)\n",
      "Collecting numpy<2.2.0,>=1.26.0 (from tensorflow)\n",
      "  Using cached numpy-2.1.3-cp311-cp311-win_amd64.whl.metadata (60 kB)\n",
      "Collecting h5py>=3.11.0 (from tensorflow)\n",
      "  Using cached h5py-3.14.0-cp311-cp311-win_amd64.whl.metadata (2.7 kB)\n",
      "Collecting ml-dtypes<1.0.0,>=0.5.1 (from tensorflow)\n",
      "  Using cached ml_dtypes-0.5.1-cp311-cp311-win_amd64.whl.metadata (22 kB)\n",
      "Collecting tensorflow-io-gcs-filesystem>=0.23.1 (from tensorflow)\n",
      "  Using cached tensorflow_io_gcs_filesystem-0.31.0-cp311-cp311-win_amd64.whl.metadata (14 kB)\n",
      "Requirement already satisfied: charset-normalizer<4,>=2 in c:\\users\\maxi\\miniconda3\\envs\\streamlit_env\\lib\\site-packages (from requests<3,>=2.21.0->tensorflow) (3.4.2)\n",
      "Requirement already satisfied: idna<4,>=2.5 in c:\\users\\maxi\\miniconda3\\envs\\streamlit_env\\lib\\site-packages (from requests<3,>=2.21.0->tensorflow) (3.10)\n",
      "Requirement already satisfied: urllib3<3,>=1.21.1 in c:\\users\\maxi\\miniconda3\\envs\\streamlit_env\\lib\\site-packages (from requests<3,>=2.21.0->tensorflow) (2.4.0)\n",
      "Requirement already satisfied: certifi>=2017.4.17 in c:\\users\\maxi\\miniconda3\\envs\\streamlit_env\\lib\\site-packages (from requests<3,>=2.21.0->tensorflow) (2025.4.26)\n",
      "Collecting markdown>=2.6.8 (from tensorboard~=2.19.0->tensorflow)\n",
      "  Downloading markdown-3.8.1-py3-none-any.whl.metadata (5.1 kB)\n",
      "Collecting tensorboard-data-server<0.8.0,>=0.7.0 (from tensorboard~=2.19.0->tensorflow)\n",
      "  Using cached tensorboard_data_server-0.7.2-py3-none-any.whl.metadata (1.1 kB)\n",
      "Collecting werkzeug>=1.0.1 (from tensorboard~=2.19.0->tensorflow)\n",
      "  Using cached werkzeug-3.1.3-py3-none-any.whl.metadata (3.7 kB)\n",
      "Requirement already satisfied: wheel<1.0,>=0.23.0 in c:\\users\\maxi\\miniconda3\\envs\\streamlit_env\\lib\\site-packages (from astunparse>=1.6.0->tensorflow) (0.45.1)\n",
      "Collecting rich (from keras>=3.5.0->tensorflow)\n",
      "  Using cached rich-14.0.0-py3-none-any.whl.metadata (18 kB)\n",
      "Collecting namex (from keras>=3.5.0->tensorflow)\n",
      "  Using cached namex-0.1.0-py3-none-any.whl.metadata (322 bytes)\n",
      "Collecting optree (from keras>=3.5.0->tensorflow)\n",
      "  Using cached optree-0.16.0-cp311-cp311-win_amd64.whl.metadata (31 kB)\n",
      "Requirement already satisfied: MarkupSafe>=2.1.1 in c:\\users\\maxi\\miniconda3\\envs\\streamlit_env\\lib\\site-packages (from werkzeug>=1.0.1->tensorboard~=2.19.0->tensorflow) (3.0.2)\n",
      "Collecting markdown-it-py>=2.2.0 (from rich->keras>=3.5.0->tensorflow)\n",
      "  Using cached markdown_it_py-3.0.0-py3-none-any.whl.metadata (6.9 kB)\n",
      "Requirement already satisfied: pygments<3.0.0,>=2.13.0 in c:\\users\\maxi\\miniconda3\\envs\\streamlit_env\\lib\\site-packages (from rich->keras>=3.5.0->tensorflow) (2.19.1)\n",
      "Collecting mdurl~=0.1 (from markdown-it-py>=2.2.0->rich->keras>=3.5.0->tensorflow)\n",
      "  Using cached mdurl-0.1.2-py3-none-any.whl.metadata (1.6 kB)\n",
      "Using cached tensorflow-2.19.0-cp311-cp311-win_amd64.whl (375.9 MB)\n",
      "Using cached grpcio-1.73.0-cp311-cp311-win_amd64.whl (4.3 MB)\n",
      "Using cached ml_dtypes-0.5.1-cp311-cp311-win_amd64.whl (209 kB)\n",
      "Using cached numpy-2.1.3-cp311-cp311-win_amd64.whl (12.9 MB)\n",
      "Using cached protobuf-5.29.5-cp310-abi3-win_amd64.whl (434 kB)\n",
      "Using cached tensorboard-2.19.0-py3-none-any.whl (5.5 MB)\n",
      "Using cached tensorboard_data_server-0.7.2-py3-none-any.whl (2.4 kB)\n",
      "Using cached absl_py-2.3.0-py3-none-any.whl (135 kB)\n",
      "Using cached astunparse-1.6.3-py2.py3-none-any.whl (12 kB)\n",
      "Using cached flatbuffers-25.2.10-py2.py3-none-any.whl (30 kB)\n",
      "Using cached gast-0.6.0-py3-none-any.whl (21 kB)\n",
      "Using cached google_pasta-0.2.0-py3-none-any.whl (57 kB)\n",
      "Using cached h5py-3.14.0-cp311-cp311-win_amd64.whl (2.9 MB)\n",
      "Using cached keras-3.10.0-py3-none-any.whl (1.4 MB)\n",
      "Using cached libclang-18.1.1-py2.py3-none-win_amd64.whl (26.4 MB)\n",
      "Downloading markdown-3.8.1-py3-none-any.whl (106 kB)\n",
      "Using cached opt_einsum-3.4.0-py3-none-any.whl (71 kB)\n",
      "Using cached tensorflow_io_gcs_filesystem-0.31.0-cp311-cp311-win_amd64.whl (1.5 MB)\n",
      "Using cached termcolor-3.1.0-py3-none-any.whl (7.7 kB)\n",
      "Using cached werkzeug-3.1.3-py3-none-any.whl (224 kB)\n",
      "Using cached wrapt-1.17.2-cp311-cp311-win_amd64.whl (38 kB)\n",
      "Using cached namex-0.1.0-py3-none-any.whl (5.9 kB)\n",
      "Using cached optree-0.16.0-cp311-cp311-win_amd64.whl (314 kB)\n",
      "Using cached rich-14.0.0-py3-none-any.whl (243 kB)\n",
      "Using cached markdown_it_py-3.0.0-py3-none-any.whl (87 kB)\n",
      "Using cached mdurl-0.1.2-py3-none-any.whl (10.0 kB)\n",
      "Installing collected packages: namex, libclang, flatbuffers, wrapt, werkzeug, termcolor, tensorflow-io-gcs-filesystem, tensorboard-data-server, protobuf, optree, opt-einsum, numpy, mdurl, markdown, grpcio, google-pasta, gast, astunparse, absl-py, tensorboard, ml-dtypes, markdown-it-py, h5py, rich, keras, tensorflow\n",
      "\n",
      "   - --------------------------------------  1/26 [libclang]\n",
      "   - --------------------------------------  1/26 [libclang]\n",
      "   ------ ---------------------------------  4/26 [werkzeug]\n",
      "   ------ ---------------------------------  4/26 [werkzeug]\n",
      "  Attempting uninstall: protobuf\n",
      "   ------ ---------------------------------  4/26 [werkzeug]\n",
      "    Found existing installation: protobuf 6.31.1\n",
      "   ------ ---------------------------------  4/26 [werkzeug]\n",
      "    Uninstalling protobuf-6.31.1:\n",
      "   ------ ---------------------------------  4/26 [werkzeug]\n",
      "      Successfully uninstalled protobuf-6.31.1\n",
      "   ------ ---------------------------------  4/26 [werkzeug]\n",
      "   ------------ ---------------------------  8/26 [protobuf]\n",
      "   ------------ ---------------------------  8/26 [protobuf]\n",
      "   ------------- --------------------------  9/26 [optree]\n",
      "  Attempting uninstall: numpy\n",
      "   ------------- --------------------------  9/26 [optree]\n",
      "   ---------------- ----------------------- 11/26 [numpy]\n",
      "    Found existing installation: numpy 2.2.6\n",
      "   ---------------- ----------------------- 11/26 [numpy]\n",
      "   ---------------- ----------------------- 11/26 [numpy]\n",
      "    Uninstalling numpy-2.2.6:\n",
      "   ---------------- ----------------------- 11/26 [numpy]\n",
      "   ---------------- ----------------------- 11/26 [numpy]\n",
      "   ---------------- ----------------------- 11/26 [numpy]\n",
      "   ---------------- ----------------------- 11/26 [numpy]\n",
      "   ---------------- ----------------------- 11/26 [numpy]\n",
      "   ---------------- ----------------------- 11/26 [numpy]\n",
      "   ---------------- ----------------------- 11/26 [numpy]\n",
      "      Successfully uninstalled numpy-2.2.6\n",
      "   ---------------- ----------------------- 11/26 [numpy]\n",
      "   ---------------- ----------------------- 11/26 [numpy]\n",
      "   ---------------- ----------------------- 11/26 [numpy]\n",
      "   ---------------- ----------------------- 11/26 [numpy]\n",
      "   ---------------- ----------------------- 11/26 [numpy]\n",
      "   ---------------- ----------------------- 11/26 [numpy]\n",
      "   ---------------- ----------------------- 11/26 [numpy]\n",
      "   ---------------- ----------------------- 11/26 [numpy]\n",
      "   ---------------- ----------------------- 11/26 [numpy]\n",
      "   ---------------- ----------------------- 11/26 [numpy]\n",
      "   ---------------- ----------------------- 11/26 [numpy]\n",
      "   ---------------- ----------------------- 11/26 [numpy]\n",
      "   ---------------- ----------------------- 11/26 [numpy]\n",
      "   ---------------- ----------------------- 11/26 [numpy]\n",
      "   ---------------- ----------------------- 11/26 [numpy]\n",
      "   ---------------- ----------------------- 11/26 [numpy]\n",
      "   ---------------- ----------------------- 11/26 [numpy]\n",
      "   ---------------- ----------------------- 11/26 [numpy]\n",
      "   ---------------- ----------------------- 11/26 [numpy]\n",
      "   ---------------- ----------------------- 11/26 [numpy]\n",
      "   ---------------- ----------------------- 11/26 [numpy]\n",
      "   ---------------- ----------------------- 11/26 [numpy]\n",
      "   ---------------- ----------------------- 11/26 [numpy]\n",
      "   ---------------- ----------------------- 11/26 [numpy]\n",
      "   ---------------- ----------------------- 11/26 [numpy]\n",
      "   ---------------- ----------------------- 11/26 [numpy]\n",
      "   ---------------- ----------------------- 11/26 [numpy]\n",
      "   ---------------- ----------------------- 11/26 [numpy]\n",
      "   ---------------- ----------------------- 11/26 [numpy]\n",
      "   ---------------- ----------------------- 11/26 [numpy]\n",
      "   ---------------- ----------------------- 11/26 [numpy]\n",
      "   ---------------- ----------------------- 11/26 [numpy]\n",
      "   ---------------- ----------------------- 11/26 [numpy]\n",
      "   ---------------- ----------------------- 11/26 [numpy]\n",
      "   ---------------- ----------------------- 11/26 [numpy]\n",
      "   ---------------- ----------------------- 11/26 [numpy]\n",
      "   ---------------- ----------------------- 11/26 [numpy]\n",
      "   ---------------- ----------------------- 11/26 [numpy]\n",
      "   ---------------- ----------------------- 11/26 [numpy]\n",
      "   ---------------- ----------------------- 11/26 [numpy]\n",
      "   ---------------- ----------------------- 11/26 [numpy]\n",
      "   ---------------- ----------------------- 11/26 [numpy]\n",
      "   ---------------- ----------------------- 11/26 [numpy]\n",
      "   ---------------- ----------------------- 11/26 [numpy]\n",
      "   ---------------- ----------------------- 11/26 [numpy]\n",
      "   ---------------- ----------------------- 11/26 [numpy]\n",
      "   ---------------- ----------------------- 11/26 [numpy]\n",
      "   ---------------- ----------------------- 11/26 [numpy]\n",
      "   ---------------- ----------------------- 11/26 [numpy]\n",
      "   ---------------- ----------------------- 11/26 [numpy]\n",
      "   ---------------- ----------------------- 11/26 [numpy]\n",
      "   ---------------- ----------------------- 11/26 [numpy]\n",
      "   ---------------- ----------------------- 11/26 [numpy]\n",
      "   ---------------- ----------------------- 11/26 [numpy]\n",
      "   ---------------- ----------------------- 11/26 [numpy]\n",
      "   -------------------- ------------------- 13/26 [markdown]\n",
      "   --------------------- ------------------ 14/26 [grpcio]\n",
      "   --------------------- ------------------ 14/26 [grpcio]\n",
      "   -------------------------- ------------- 17/26 [astunparse]\n",
      "   ----------------------------- ---------- 19/26 [tensorboard]\n",
      "   ----------------------------- ---------- 19/26 [tensorboard]\n",
      "   ----------------------------- ---------- 19/26 [tensorboard]\n",
      "   ----------------------------- ---------- 19/26 [tensorboard]\n",
      "   ----------------------------- ---------- 19/26 [tensorboard]\n",
      "   ----------------------------- ---------- 19/26 [tensorboard]\n",
      "   -------------------------------- ------- 21/26 [markdown-it-py]\n",
      "   --------------------------------- ------ 22/26 [h5py]\n",
      "   --------------------------------- ------ 22/26 [h5py]\n",
      "   ----------------------------------- ---- 23/26 [rich]\n",
      "   ----------------------------------- ---- 23/26 [rich]\n",
      "   ------------------------------------ --- 24/26 [keras]\n",
      "   ------------------------------------ --- 24/26 [keras]\n",
      "   ------------------------------------ --- 24/26 [keras]\n",
      "   ------------------------------------ --- 24/26 [keras]\n",
      "   ------------------------------------ --- 24/26 [keras]\n",
      "   ------------------------------------ --- 24/26 [keras]\n",
      "   ------------------------------------ --- 24/26 [keras]\n",
      "   ------------------------------------ --- 24/26 [keras]\n",
      "   ------------------------------------ --- 24/26 [keras]\n",
      "   ------------------------------------ --- 24/26 [keras]\n",
      "   ------------------------------------ --- 24/26 [keras]\n",
      "   ------------------------------------ --- 24/26 [keras]\n",
      "   -------------------------------------- - 25/26 [tensorflow]\n",
      "   -------------------------------------- - 25/26 [tensorflow]\n",
      "   -------------------------------------- - 25/26 [tensorflow]\n",
      "   -------------------------------------- - 25/26 [tensorflow]\n",
      "   -------------------------------------- - 25/26 [tensorflow]\n",
      "   -------------------------------------- - 25/26 [tensorflow]\n",
      "   -------------------------------------- - 25/26 [tensorflow]\n",
      "   -------------------------------------- - 25/26 [tensorflow]\n",
      "   -------------------------------------- - 25/26 [tensorflow]\n",
      "   -------------------------------------- - 25/26 [tensorflow]\n",
      "   -------------------------------------- - 25/26 [tensorflow]\n",
      "   -------------------------------------- - 25/26 [tensorflow]\n",
      "   -------------------------------------- - 25/26 [tensorflow]\n",
      "   -------------------------------------- - 25/26 [tensorflow]\n",
      "   -------------------------------------- - 25/26 [tensorflow]\n",
      "   -------------------------------------- - 25/26 [tensorflow]\n",
      "   -------------------------------------- - 25/26 [tensorflow]\n",
      "   -------------------------------------- - 25/26 [tensorflow]\n",
      "   -------------------------------------- - 25/26 [tensorflow]\n",
      "   -------------------------------------- - 25/26 [tensorflow]\n",
      "   -------------------------------------- - 25/26 [tensorflow]\n",
      "   -------------------------------------- - 25/26 [tensorflow]\n",
      "   -------------------------------------- - 25/26 [tensorflow]\n",
      "   -------------------------------------- - 25/26 [tensorflow]\n",
      "   -------------------------------------- - 25/26 [tensorflow]\n",
      "   -------------------------------------- - 25/26 [tensorflow]\n",
      "   -------------------------------------- - 25/26 [tensorflow]\n",
      "   -------------------------------------- - 25/26 [tensorflow]\n",
      "   -------------------------------------- - 25/26 [tensorflow]\n",
      "   -------------------------------------- - 25/26 [tensorflow]\n",
      "   -------------------------------------- - 25/26 [tensorflow]\n",
      "   -------------------------------------- - 25/26 [tensorflow]\n",
      "   -------------------------------------- - 25/26 [tensorflow]\n",
      "   -------------------------------------- - 25/26 [tensorflow]\n",
      "   -------------------------------------- - 25/26 [tensorflow]\n",
      "   -------------------------------------- - 25/26 [tensorflow]\n",
      "   -------------------------------------- - 25/26 [tensorflow]\n",
      "   -------------------------------------- - 25/26 [tensorflow]\n",
      "   -------------------------------------- - 25/26 [tensorflow]\n",
      "   -------------------------------------- - 25/26 [tensorflow]\n",
      "   -------------------------------------- - 25/26 [tensorflow]\n",
      "   -------------------------------------- - 25/26 [tensorflow]\n",
      "   -------------------------------------- - 25/26 [tensorflow]\n",
      "   -------------------------------------- - 25/26 [tensorflow]\n",
      "   -------------------------------------- - 25/26 [tensorflow]\n",
      "   -------------------------------------- - 25/26 [tensorflow]\n",
      "   -------------------------------------- - 25/26 [tensorflow]\n",
      "   -------------------------------------- - 25/26 [tensorflow]\n",
      "   -------------------------------------- - 25/26 [tensorflow]\n",
      "   -------------------------------------- - 25/26 [tensorflow]\n",
      "   -------------------------------------- - 25/26 [tensorflow]\n",
      "   -------------------------------------- - 25/26 [tensorflow]\n",
      "   -------------------------------------- - 25/26 [tensorflow]\n",
      "   -------------------------------------- - 25/26 [tensorflow]\n",
      "   -------------------------------------- - 25/26 [tensorflow]\n",
      "   -------------------------------------- - 25/26 [tensorflow]\n",
      "   -------------------------------------- - 25/26 [tensorflow]\n",
      "   -------------------------------------- - 25/26 [tensorflow]\n",
      "   -------------------------------------- - 25/26 [tensorflow]\n",
      "   -------------------------------------- - 25/26 [tensorflow]\n",
      "   -------------------------------------- - 25/26 [tensorflow]\n",
      "   -------------------------------------- - 25/26 [tensorflow]\n",
      "   -------------------------------------- - 25/26 [tensorflow]\n",
      "   -------------------------------------- - 25/26 [tensorflow]\n",
      "   -------------------------------------- - 25/26 [tensorflow]\n",
      "   -------------------------------------- - 25/26 [tensorflow]\n",
      "   -------------------------------------- - 25/26 [tensorflow]\n",
      "   -------------------------------------- - 25/26 [tensorflow]\n",
      "   -------------------------------------- - 25/26 [tensorflow]\n",
      "   -------------------------------------- - 25/26 [tensorflow]\n",
      "   -------------------------------------- - 25/26 [tensorflow]\n",
      "   -------------------------------------- - 25/26 [tensorflow]\n",
      "   -------------------------------------- - 25/26 [tensorflow]\n",
      "   -------------------------------------- - 25/26 [tensorflow]\n",
      "   -------------------------------------- - 25/26 [tensorflow]\n",
      "   -------------------------------------- - 25/26 [tensorflow]\n",
      "   -------------------------------------- - 25/26 [tensorflow]\n",
      "   -------------------------------------- - 25/26 [tensorflow]\n",
      "   -------------------------------------- - 25/26 [tensorflow]\n",
      "   -------------------------------------- - 25/26 [tensorflow]\n",
      "   -------------------------------------- - 25/26 [tensorflow]\n",
      "   -------------------------------------- - 25/26 [tensorflow]\n",
      "   -------------------------------------- - 25/26 [tensorflow]\n",
      "   -------------------------------------- - 25/26 [tensorflow]\n",
      "   -------------------------------------- - 25/26 [tensorflow]\n",
      "   -------------------------------------- - 25/26 [tensorflow]\n",
      "   -------------------------------------- - 25/26 [tensorflow]\n",
      "   -------------------------------------- - 25/26 [tensorflow]\n",
      "   -------------------------------------- - 25/26 [tensorflow]\n",
      "   -------------------------------------- - 25/26 [tensorflow]\n",
      "   -------------------------------------- - 25/26 [tensorflow]\n",
      "   -------------------------------------- - 25/26 [tensorflow]\n",
      "   -------------------------------------- - 25/26 [tensorflow]\n",
      "   -------------------------------------- - 25/26 [tensorflow]\n",
      "   -------------------------------------- - 25/26 [tensorflow]\n",
      "   -------------------------------------- - 25/26 [tensorflow]\n",
      "   -------------------------------------- - 25/26 [tensorflow]\n",
      "   ---------------------------------------- 26/26 [tensorflow]\n",
      "\n",
      "Successfully installed absl-py-2.3.0 astunparse-1.6.3 flatbuffers-25.2.10 gast-0.6.0 google-pasta-0.2.0 grpcio-1.73.0 h5py-3.14.0 keras-3.10.0 libclang-18.1.1 markdown-3.8.1 markdown-it-py-3.0.0 mdurl-0.1.2 ml-dtypes-0.5.1 namex-0.1.0 numpy-2.1.3 opt-einsum-3.4.0 optree-0.16.0 protobuf-5.29.5 rich-14.0.0 tensorboard-2.19.0 tensorboard-data-server-0.7.2 tensorflow-2.19.0 tensorflow-io-gcs-filesystem-0.31.0 termcolor-3.1.0 werkzeug-3.1.3 wrapt-1.17.2\n"
     ]
    },
    {
     "name": "stderr",
     "output_type": "stream",
     "text": [
      "  WARNING: Failed to remove contents in a temporary directory 'C:\\Users\\maxi\\miniconda3\\envs\\streamlit_env\\Lib\\site-packages\\~umpy.libs'.\n",
      "  You can safely remove it manually.\n",
      "  WARNING: Failed to remove contents in a temporary directory 'C:\\Users\\maxi\\miniconda3\\envs\\streamlit_env\\Lib\\site-packages\\~umpy'.\n",
      "  You can safely remove it manually.\n"
     ]
    }
   ],
   "source": [
    "!pip install tensorflow"
   ]
  },
  {
   "cell_type": "code",
   "execution_count": 4,
   "id": "31a855b3",
   "metadata": {
    "execution": {
     "iopub.execute_input": "2021-08-31T23:20:00.115780Z",
     "iopub.status.busy": "2021-08-31T23:20:00.112809Z",
     "iopub.status.idle": "2021-08-31T23:20:06.329648Z",
     "shell.execute_reply": "2021-08-31T23:20:06.328804Z",
     "shell.execute_reply.started": "2021-08-31T14:06:34.735365Z"
    },
    "papermill": {
     "duration": 6.341435,
     "end_time": "2021-08-31T23:20:06.329828",
     "exception": false,
     "start_time": "2021-08-31T23:19:59.988393",
     "status": "completed"
    },
    "tags": []
   },
   "outputs": [],
   "source": [
    "import numpy as np\n",
    "import pandas as pd\n",
    "import matplotlib.pyplot as plt\n",
    "%matplotlib inline\n",
    "import seaborn as sns\n",
    "\n",
    "import re\n",
    "\n",
    "from sklearn.model_selection import train_test_split\n",
    "from sklearn.metrics import accuracy_score, classification_report, confusion_matrix\n",
    "from sklearn.feature_extraction.text import TfidfVectorizer\n",
    "from sklearn.pipeline import Pipeline\n",
    "from sklearn.linear_model import LogisticRegression\n",
    "\n",
    "import tensorflow as tf\n",
    "from tensorflow import keras\n",
    "from tensorflow.keras.preprocessing.text import Tokenizer\n",
    "from tensorflow.keras.preprocessing.sequence import pad_sequences\n",
    "\n",
    "import collections\n",
    "import itertools\n",
    "import os"
   ]
  },
  {
   "cell_type": "code",
   "execution_count": 5,
   "id": "67ebea5a",
   "metadata": {
    "execution": {
     "iopub.execute_input": "2021-08-31T23:20:06.393733Z",
     "iopub.status.busy": "2021-08-31T23:20:06.392745Z",
     "iopub.status.idle": "2021-08-31T23:20:07.895056Z",
     "shell.execute_reply": "2021-08-31T23:20:07.894378Z",
     "shell.execute_reply.started": "2021-08-31T14:06:39.745942Z"
    },
    "papermill": {
     "duration": 1.535935,
     "end_time": "2021-08-31T23:20:07.895206",
     "exception": false,
     "start_time": "2021-08-31T23:20:06.359271",
     "status": "completed"
    },
    "tags": []
   },
   "outputs": [],
   "source": [
    "reviews_train = []\n",
    "for line in open(os.getcwd() + '/data/imbd_train.txt', 'r', encoding='latin1'):\n",
    "    \n",
    "    reviews_train.append(line.strip())\n",
    "    \n",
    "reviews_test = []\n",
    "for line in open(os.getcwd() + '/data/imbd_test.txt', 'r', encoding='latin1'):\n",
    "    \n",
    "    reviews_test.append(line.strip())"
   ]
  },
  {
   "cell_type": "code",
   "execution_count": 6,
   "metadata": {},
   "outputs": [],
   "source": [
    "target = [\"positive\" if i < 12500 else \"negative\" for i in range(25000)]"
   ]
  },
  {
   "cell_type": "code",
   "execution_count": 7,
   "metadata": {},
   "outputs": [],
   "source": [
    "df1 = pd.DataFrame({\"review\": reviews_train, \"sentiment\":target})\n",
    "df2 = pd.DataFrame({\"review\": reviews_test, \"sentiment\":target})"
   ]
  },
  {
   "cell_type": "code",
   "execution_count": 8,
   "metadata": {},
   "outputs": [],
   "source": [
    "df = pd.concat([df1, df2]).sample(frac=1.0, random_state=42).reset_index(drop=True)"
   ]
  },
  {
   "cell_type": "code",
   "execution_count": 17,
   "metadata": {},
   "outputs": [
    {
     "data": {
      "text/html": [
       "<div>\n",
       "<style scoped>\n",
       "    .dataframe tbody tr th:only-of-type {\n",
       "        vertical-align: middle;\n",
       "    }\n",
       "\n",
       "    .dataframe tbody tr th {\n",
       "        vertical-align: top;\n",
       "    }\n",
       "\n",
       "    .dataframe thead th {\n",
       "        text-align: right;\n",
       "    }\n",
       "</style>\n",
       "<table border=\"1\" class=\"dataframe\">\n",
       "  <thead>\n",
       "    <tr style=\"text-align: right;\">\n",
       "      <th></th>\n",
       "      <th>review</th>\n",
       "      <th>sentiment</th>\n",
       "      <th>review_cleaned</th>\n",
       "    </tr>\n",
       "  </thead>\n",
       "  <tbody>\n",
       "    <tr>\n",
       "      <th>0</th>\n",
       "      <td>When I first saw the ad for this, I was like '...</td>\n",
       "      <td>positive</td>\n",
       "      <td>when i first saw the ad for this i was like oh...</td>\n",
       "    </tr>\n",
       "    <tr>\n",
       "      <th>1</th>\n",
       "      <td>\"A Girl's Folly\" is a sort of half-comedy, hal...</td>\n",
       "      <td>positive</td>\n",
       "      <td>a girl s folly is a sort of half comedy half m...</td>\n",
       "    </tr>\n",
       "    <tr>\n",
       "      <th>2</th>\n",
       "      <td>I started watching the show from the first sea...</td>\n",
       "      <td>positive</td>\n",
       "      <td>i started watching the show from the first sea...</td>\n",
       "    </tr>\n",
       "    <tr>\n",
       "      <th>3</th>\n",
       "      <td>This is a more interesting than usual porn mov...</td>\n",
       "      <td>positive</td>\n",
       "      <td>this is a more interesting than usual porn mov...</td>\n",
       "    </tr>\n",
       "    <tr>\n",
       "      <th>4</th>\n",
       "      <td>I suppose for 1961 this film was supposed to b...</td>\n",
       "      <td>negative</td>\n",
       "      <td>i suppose for this film was supposed to be coo...</td>\n",
       "    </tr>\n",
       "    <tr>\n",
       "      <th>...</th>\n",
       "      <td>...</td>\n",
       "      <td>...</td>\n",
       "      <td>...</td>\n",
       "    </tr>\n",
       "    <tr>\n",
       "      <th>49995</th>\n",
       "      <td>I saw this movie at midnight on On Demand the ...</td>\n",
       "      <td>positive</td>\n",
       "      <td>i saw this movie at midnight on on demand the ...</td>\n",
       "    </tr>\n",
       "    <tr>\n",
       "      <th>49996</th>\n",
       "      <td>Some aspects of this production are good, such...</td>\n",
       "      <td>negative</td>\n",
       "      <td>some aspects of this production are good such ...</td>\n",
       "    </tr>\n",
       "    <tr>\n",
       "      <th>49997</th>\n",
       "      <td>I was not old enough to really appreciate the ...</td>\n",
       "      <td>negative</td>\n",
       "      <td>i was not old enough to really appreciate the ...</td>\n",
       "    </tr>\n",
       "    <tr>\n",
       "      <th>49998</th>\n",
       "      <td>Nice movie with a great soundtrack which spans...</td>\n",
       "      <td>positive</td>\n",
       "      <td>nice movie with a great soundtrack which spans...</td>\n",
       "    </tr>\n",
       "    <tr>\n",
       "      <th>49999</th>\n",
       "      <td>Even though this was a made-for-TV production,...</td>\n",
       "      <td>negative</td>\n",
       "      <td>even though this was a made for tv production ...</td>\n",
       "    </tr>\n",
       "  </tbody>\n",
       "</table>\n",
       "<p>50000 rows × 3 columns</p>\n",
       "</div>"
      ],
      "text/plain": [
       "                                                  review sentiment  \\\n",
       "0      When I first saw the ad for this, I was like '...  positive   \n",
       "1      \"A Girl's Folly\" is a sort of half-comedy, hal...  positive   \n",
       "2      I started watching the show from the first sea...  positive   \n",
       "3      This is a more interesting than usual porn mov...  positive   \n",
       "4      I suppose for 1961 this film was supposed to b...  negative   \n",
       "...                                                  ...       ...   \n",
       "49995  I saw this movie at midnight on On Demand the ...  positive   \n",
       "49996  Some aspects of this production are good, such...  negative   \n",
       "49997  I was not old enough to really appreciate the ...  negative   \n",
       "49998  Nice movie with a great soundtrack which spans...  positive   \n",
       "49999  Even though this was a made-for-TV production,...  negative   \n",
       "\n",
       "                                          review_cleaned  \n",
       "0      when i first saw the ad for this i was like oh...  \n",
       "1      a girl s folly is a sort of half comedy half m...  \n",
       "2      i started watching the show from the first sea...  \n",
       "3      this is a more interesting than usual porn mov...  \n",
       "4      i suppose for this film was supposed to be coo...  \n",
       "...                                                  ...  \n",
       "49995  i saw this movie at midnight on on demand the ...  \n",
       "49996  some aspects of this production are good such ...  \n",
       "49997  i was not old enough to really appreciate the ...  \n",
       "49998  nice movie with a great soundtrack which spans...  \n",
       "49999  even though this was a made for tv production ...  \n",
       "\n",
       "[50000 rows x 3 columns]"
      ]
     },
     "execution_count": 17,
     "metadata": {},
     "output_type": "execute_result"
    }
   ],
   "source": [
    "df"
   ]
  },
  {
   "cell_type": "markdown",
   "id": "9cf67832",
   "metadata": {
    "papermill": {
     "duration": 0.028005,
     "end_time": "2021-08-31T23:20:07.951859",
     "exception": false,
     "start_time": "2021-08-31T23:20:07.923854",
     "status": "completed"
    },
    "tags": []
   },
   "source": [
    "# 1. EDA & cleaning"
   ]
  },
  {
   "cell_type": "code",
   "execution_count": 18,
   "metadata": {},
   "outputs": [
    {
     "data": {
      "text/plain": [
       "<Axes: xlabel='count', ylabel='sentiment'>"
      ]
     },
     "execution_count": 18,
     "metadata": {},
     "output_type": "execute_result"
    },
    {
     "data": {
      "image/png": "[encoded data removed]",
      "text/plain": [
       "<Figure size 640x480 with 1 Axes>"
      ]
     },
     "metadata": {},
     "output_type": "display_data"
    }
   ],
   "source": [
    "sns.countplot(df[\"sentiment\"])"
   ]
  },
  {
   "cell_type": "code",
   "execution_count": 19,
   "id": "4604c902",
   "metadata": {
    "execution": {
     "iopub.execute_input": "2021-08-31T23:20:08.315730Z",
     "iopub.status.busy": "2021-08-31T23:20:08.314633Z",
     "iopub.status.idle": "2021-08-31T23:20:08.322506Z",
     "shell.execute_reply": "2021-08-31T23:20:08.323064Z",
     "shell.execute_reply.started": "2021-08-31T14:06:41.486562Z"
    },
    "papermill": {
     "duration": 0.056588,
     "end_time": "2021-08-31T23:20:08.323230",
     "exception": false,
     "start_time": "2021-08-31T23:20:08.266642",
     "status": "completed"
    },
    "tags": []
   },
   "outputs": [
    {
     "data": {
      "text/plain": [
       "review            0\n",
       "sentiment         0\n",
       "review_cleaned    0\n",
       "dtype: int64"
      ]
     },
     "execution_count": 19,
     "metadata": {},
     "output_type": "execute_result"
    }
   ],
   "source": [
    "df.isna().sum()"
   ]
  },
  {
   "cell_type": "markdown",
   "id": "6ca643b2",
   "metadata": {
    "papermill": {
     "duration": 0.030008,
     "end_time": "2021-08-31T23:20:08.383186",
     "exception": false,
     "start_time": "2021-08-31T23:20:08.353178",
     "status": "completed"
    },
    "tags": []
   },
   "source": [
    "There is no null data."
   ]
  },
  {
   "cell_type": "markdown",
   "id": "91683368",
   "metadata": {
    "papermill": {
     "duration": 0.029725,
     "end_time": "2021-08-31T23:20:08.442892",
     "exception": false,
     "start_time": "2021-08-31T23:20:08.413167",
     "status": "completed"
    },
    "tags": []
   },
   "source": [
    "### Text cleaning"
   ]
  },
  {
   "cell_type": "code",
   "execution_count": 20,
   "id": "66319eb7",
   "metadata": {
    "execution": {
     "iopub.execute_input": "2021-08-31T23:20:08.508737Z",
     "iopub.status.busy": "2021-08-31T23:20:08.507762Z",
     "iopub.status.idle": "2021-08-31T23:20:08.512451Z",
     "shell.execute_reply": "2021-08-31T23:20:08.511887Z",
     "shell.execute_reply.started": "2021-08-31T14:06:43.124304Z"
    },
    "papermill": {
     "duration": 0.039485,
     "end_time": "2021-08-31T23:20:08.512583",
     "exception": false,
     "start_time": "2021-08-31T23:20:08.473098",
     "status": "completed"
    },
    "tags": []
   },
   "outputs": [],
   "source": [
    "def preprocessing_text(texts):\n",
    "    texts = re.sub(r'<.*?>', '', texts)\n",
    "    texts = re.sub(r'[^a-zA-Z]', ' ', texts)\n",
    "    return ' '.join(x.lower() for x in texts.split())"
   ]
  },
  {
   "cell_type": "code",
   "execution_count": 21,
   "id": "4c458a8d",
   "metadata": {
    "execution": {
     "iopub.execute_input": "2021-08-31T23:20:08.594020Z",
     "iopub.status.busy": "2021-08-31T23:20:08.583581Z",
     "iopub.status.idle": "2021-08-31T23:20:17.282271Z",
     "shell.execute_reply": "2021-08-31T23:20:17.281311Z",
     "shell.execute_reply.started": "2021-08-31T14:06:45.309831Z"
    },
    "papermill": {
     "duration": 8.739297,
     "end_time": "2021-08-31T23:20:17.282487",
     "exception": false,
     "start_time": "2021-08-31T23:20:08.543190",
     "status": "completed"
    },
    "tags": []
   },
   "outputs": [],
   "source": [
    "df['review_cleaned'] = df['review'].apply(lambda x : preprocessing_text(x))"
   ]
  },
  {
   "cell_type": "markdown",
   "id": "670d71f0",
   "metadata": {
    "papermill": {
     "duration": 0.029181,
     "end_time": "2021-08-31T23:20:17.343295",
     "exception": false,
     "start_time": "2021-08-31T23:20:17.314114",
     "status": "completed"
    },
    "tags": []
   },
   "source": [
    "# 2. Baseline linear model"
   ]
  },
  {
   "cell_type": "markdown",
   "id": "28c66825",
   "metadata": {
    "papermill": {
     "duration": 0.029602,
     "end_time": "2021-08-31T23:20:17.403300",
     "exception": false,
     "start_time": "2021-08-31T23:20:17.373698",
     "status": "completed"
    },
    "tags": []
   },
   "source": [
    "Before we build time-consuming neural network model, simple classifier is tried.\n",
    "Tfidf method is used for text vectorization."
   ]
  },
  {
   "cell_type": "code",
   "execution_count": 22,
   "id": "9452bb20",
   "metadata": {
    "execution": {
     "iopub.execute_input": "2021-08-31T23:20:17.474921Z",
     "iopub.status.busy": "2021-08-31T23:20:17.473816Z",
     "iopub.status.idle": "2021-08-31T23:20:35.377110Z",
     "shell.execute_reply": "2021-08-31T23:20:35.376495Z",
     "shell.execute_reply.started": "2021-08-31T14:18:40.33851Z"
    },
    "papermill": {
     "duration": 17.945017,
     "end_time": "2021-08-31T23:20:35.377260",
     "exception": false,
     "start_time": "2021-08-31T23:20:17.432243",
     "status": "completed"
    },
    "tags": []
   },
   "outputs": [
    {
     "name": "stdout",
     "output_type": "stream",
     "text": [
      "              precision    recall  f1-score   support\n",
      "\n",
      "           0       0.90      0.88      0.89      6243\n",
      "           1       0.89      0.91      0.90      6257\n",
      "\n",
      "    accuracy                           0.89     12500\n",
      "   macro avg       0.89      0.89      0.89     12500\n",
      "weighted avg       0.89      0.89      0.89     12500\n",
      "\n"
     ]
    },
    {
     "data": {
      "text/plain": [
       "<Axes: >"
      ]
     },
     "execution_count": 22,
     "metadata": {},
     "output_type": "execute_result"
    },
    {
     "data": {
      "image/png": "[encoded data removed]",
      "text/plain": [
       "<Figure size 640x480 with 2 Axes>"
      ]
     },
     "metadata": {},
     "output_type": "display_data"
    }
   ],
   "source": [
    "X_train, X_test, y_train, y_test = train_test_split(df['review_cleaned'], df['sentiment'].map({'negative':0, 'positive':1}))\n",
    "pipeline = Pipeline([('tfidf', TfidfVectorizer()),\n",
    "                    ('lr_clf', LogisticRegression())])\n",
    "pipeline.fit(X_train, y_train)\n",
    "\n",
    "y_pred = pipeline.predict(X_test)\n",
    "\n",
    "print(classification_report(y_test, y_pred))\n",
    "\n",
    "sns.heatmap(confusion_matrix(y_test, y_pred), \n",
    "            annot=True, fmt='.0f', \n",
    "            xticklabels=['Predicted negative', 'Predicted positive'], \n",
    "            yticklabels=['Negative', 'Positive'])"
   ]
  },
  {
   "cell_type": "markdown",
   "id": "5a725d4d",
   "metadata": {
    "papermill": {
     "duration": 0.030128,
     "end_time": "2021-08-31T23:20:35.438382",
     "exception": false,
     "start_time": "2021-08-31T23:20:35.408254",
     "status": "completed"
    },
    "tags": []
   },
   "source": [
    "Logistic regression provides 90% accuracy for test set, which is fast and adapted for such large datasets."
   ]
  },
  {
   "cell_type": "markdown",
   "id": "2cdc9cae",
   "metadata": {
    "papermill": {
     "duration": 0.031387,
     "end_time": "2021-08-31T23:20:35.499765",
     "exception": false,
     "start_time": "2021-08-31T23:20:35.468378",
     "status": "completed"
    },
    "tags": []
   },
   "source": [
    "# 3. LSTM Long sort therm memory model"
   ]
  },
  {
   "cell_type": "markdown",
   "id": "8e9fca7c",
   "metadata": {
    "papermill": {
     "duration": 0.029453,
     "end_time": "2021-08-31T23:20:35.559601",
     "exception": false,
     "start_time": "2021-08-31T23:20:35.530148",
     "status": "completed"
    },
    "tags": []
   },
   "source": [
    "To quickly explore LSTM model, we firstly take only 500 characters. That is much faster way than taking full sentences."
   ]
  },
  {
   "cell_type": "code",
   "execution_count": 23,
   "id": "7c531bf1",
   "metadata": {
    "execution": {
     "iopub.execute_input": "2021-08-31T23:20:35.644276Z",
     "iopub.status.busy": "2021-08-31T23:20:35.633907Z",
     "iopub.status.idle": "2021-08-31T23:20:35.674782Z",
     "shell.execute_reply": "2021-08-31T23:20:35.674174Z",
     "shell.execute_reply.started": "2021-08-31T12:03:36.100282Z"
    },
    "papermill": {
     "duration": 0.083801,
     "end_time": "2021-08-31T23:20:35.675001",
     "exception": false,
     "start_time": "2021-08-31T23:20:35.591200",
     "status": "completed"
    },
    "tags": []
   },
   "outputs": [
    {
     "data": {
      "text/plain": [
       "'i started watching the show from the first season and at the beginning i was pretty skeptical about it original movie was kind of childish and i was just looking for some sci fi show while waiting for the bsg new season but after few episodes i became a fan i ve loved the characters the not so stupid as you think he is jack o neill the not only smart samantha carter the glorious teal c women and kids favorite and brilliant dr daniel jackson of course stories sometimes not serious sometimes even '"
      ]
     },
     "execution_count": 23,
     "metadata": {},
     "output_type": "execute_result"
    }
   ],
   "source": [
    "df['review_cleaned_500'] = df['review_cleaned'].apply(lambda x:x[:500])\n",
    "\n",
    "df['review_cleaned_500'][2]"
   ]
  },
  {
   "cell_type": "markdown",
   "id": "fdf27600",
   "metadata": {
    "execution": {
     "iopub.execute_input": "2021-08-31T02:26:42.678593Z",
     "iopub.status.busy": "2021-08-31T02:26:42.678223Z",
     "iopub.status.idle": "2021-08-31T02:26:42.682801Z",
     "shell.execute_reply": "2021-08-31T02:26:42.681705Z",
     "shell.execute_reply.started": "2021-08-31T02:26:42.678565Z"
    },
    "papermill": {
     "duration": 0.031329,
     "end_time": "2021-08-31T23:20:35.737929",
     "exception": false,
     "start_time": "2021-08-31T23:20:35.706600",
     "status": "completed"
    },
    "tags": []
   },
   "source": [
    "### Tokenize & Padding"
   ]
  },
  {
   "cell_type": "markdown",
   "id": "2e22e44e",
   "metadata": {
    "papermill": {
     "duration": 0.03275,
     "end_time": "2021-08-31T23:20:35.801581",
     "exception": false,
     "start_time": "2021-08-31T23:20:35.768831",
     "status": "completed"
    },
    "tags": []
   },
   "source": [
    "Let's convert tokens to ID. We will use keras Tokenizer which can filter punctuations and take only most-counted 10000 words."
   ]
  },
  {
   "cell_type": "code",
   "execution_count": 24,
   "id": "8c544c44",
   "metadata": {
    "execution": {
     "iopub.execute_input": "2021-08-31T23:20:35.870204Z",
     "iopub.status.busy": "2021-08-31T23:20:35.869087Z",
     "iopub.status.idle": "2021-08-31T23:20:35.872466Z",
     "shell.execute_reply": "2021-08-31T23:20:35.871892Z",
     "shell.execute_reply.started": "2021-08-31T12:03:44.928063Z"
    },
    "papermill": {
     "duration": 0.038869,
     "end_time": "2021-08-31T23:20:35.872603",
     "exception": false,
     "start_time": "2021-08-31T23:20:35.833734",
     "status": "completed"
    },
    "tags": []
   },
   "outputs": [],
   "source": [
    "tokenizer = Tokenizer(num_words=10000)"
   ]
  },
  {
   "cell_type": "code",
   "execution_count": 25,
   "id": "291aa51a",
   "metadata": {
    "execution": {
     "iopub.execute_input": "2021-08-31T23:20:35.971642Z",
     "iopub.status.busy": "2021-08-31T23:20:35.961416Z",
     "iopub.status.idle": "2021-08-31T23:20:44.192545Z",
     "shell.execute_reply": "2021-08-31T23:20:44.193063Z",
     "shell.execute_reply.started": "2021-08-31T12:03:45.575936Z"
    },
    "papermill": {
     "duration": 8.287641,
     "end_time": "2021-08-31T23:20:44.193237",
     "exception": false,
     "start_time": "2021-08-31T23:20:35.905596",
     "status": "completed"
    },
    "tags": []
   },
   "outputs": [
    {
     "name": "stdout",
     "output_type": "stream",
     "text": [
      "X_shape: (50000, 116), X_min: 0, X_max: 9999\n"
     ]
    }
   ],
   "source": [
    "tokenizer.fit_on_texts(df['review_cleaned_500'])\n",
    "seq = tokenizer.texts_to_sequences(df['review_cleaned_500'])\n",
    "X = pad_sequences(seq, padding='post')\n",
    "\n",
    "print(f'X_shape: {X.shape}, X_min: {np.min(X)}, X_max: {np.max(X)}')"
   ]
  },
  {
   "cell_type": "markdown",
   "id": "9d8e1326",
   "metadata": {
    "papermill": {
     "duration": 0.032201,
     "end_time": "2021-08-31T23:20:44.257662",
     "exception": false,
     "start_time": "2021-08-31T23:20:44.225461",
     "status": "completed"
    },
    "tags": []
   },
   "source": [
    "Sentiment is converted to 0 (negative) or 1 (positive)."
   ]
  },
  {
   "cell_type": "code",
   "execution_count": 26,
   "id": "f11f5484",
   "metadata": {
    "execution": {
     "iopub.execute_input": "2021-08-31T23:20:44.334536Z",
     "iopub.status.busy": "2021-08-31T23:20:44.333629Z",
     "iopub.status.idle": "2021-08-31T23:20:44.337442Z",
     "shell.execute_reply": "2021-08-31T23:20:44.336891Z",
     "shell.execute_reply.started": "2021-08-31T12:03:52.937088Z"
    },
    "papermill": {
     "duration": 0.04699,
     "end_time": "2021-08-31T23:20:44.337583",
     "exception": false,
     "start_time": "2021-08-31T23:20:44.290593",
     "status": "completed"
    },
    "tags": []
   },
   "outputs": [],
   "source": [
    "y = df['sentiment'].map({'negative' : 0, 'positive' : 1}).values"
   ]
  },
  {
   "cell_type": "markdown",
   "id": "3598006f",
   "metadata": {
    "papermill": {
     "duration": 0.032322,
     "end_time": "2021-08-31T23:20:44.401493",
     "exception": false,
     "start_time": "2021-08-31T23:20:44.369171",
     "status": "completed"
    },
    "tags": []
   },
   "source": [
    "Let's build the simple LSTM model using first 500 characters datasets."
   ]
  },
  {
   "cell_type": "code",
   "execution_count": 50,
   "id": "a61dabb5",
   "metadata": {
    "execution": {
     "iopub.execute_input": "2021-08-31T23:20:44.473689Z",
     "iopub.status.busy": "2021-08-31T23:20:44.472445Z",
     "iopub.status.idle": "2021-08-31T23:20:44.504687Z",
     "shell.execute_reply": "2021-08-31T23:20:44.505426Z",
     "shell.execute_reply.started": "2021-08-31T12:03:55.096779Z"
    },
    "papermill": {
     "duration": 0.07159,
     "end_time": "2021-08-31T23:20:44.505614",
     "exception": false,
     "start_time": "2021-08-31T23:20:44.434024",
     "status": "completed"
    },
    "tags": []
   },
   "outputs": [
    {
     "name": "stdout",
     "output_type": "stream",
     "text": [
      "(32000, 116) (8000, 116) (10000, 116) (32000,) (8000,) (10000,)\n"
     ]
    }
   ],
   "source": [
    "X_train_valid, X_test, y_train_valid, y_test = train_test_split(X, y, test_size=0.2, random_state=42)\n",
    "X_train, X_valid, y_train, y_valid = train_test_split(X_train_valid, y_train_valid, test_size=0.2, random_state=42)\n",
    "\n",
    "\n",
    "print(X_train.shape, X_valid.shape, X_test.shape, y_train.shape, y_valid.shape, y_test.shape)"
   ]
  },
  {
   "cell_type": "code",
   "execution_count": 46,
   "id": "bfdbb3bb",
   "metadata": {
    "execution": {
     "iopub.execute_input": "2021-08-31T23:20:44.577880Z",
     "iopub.status.busy": "2021-08-31T23:20:44.577202Z",
     "iopub.status.idle": "2021-08-31T23:20:44.584251Z",
     "shell.execute_reply": "2021-08-31T23:20:44.583627Z",
     "shell.execute_reply.started": "2021-08-31T12:03:59.360865Z"
    },
    "papermill": {
     "duration": 0.045048,
     "end_time": "2021-08-31T23:20:44.584397",
     "exception": false,
     "start_time": "2021-08-31T23:20:44.539349",
     "status": "completed"
    },
    "tags": []
   },
   "outputs": [
    {
     "data": {
      "text/plain": [
       "array([1, 1, 0, ..., 0, 1, 0], shape=(30000,))"
      ]
     },
     "execution_count": 46,
     "metadata": {},
     "output_type": "execute_result"
    }
   ],
   "source": [
    "y_train"
   ]
  },
  {
   "cell_type": "code",
   "execution_count": 51,
   "id": "f3a20386",
   "metadata": {
    "execution": {
     "iopub.execute_input": "2021-08-31T23:20:44.655864Z",
     "iopub.status.busy": "2021-08-31T23:20:44.655144Z",
     "iopub.status.idle": "2021-08-31T23:20:48.196284Z",
     "shell.execute_reply": "2021-08-31T23:20:48.195237Z",
     "shell.execute_reply.started": "2021-08-31T12:04:02.825594Z"
    },
    "papermill": {
     "duration": 3.579497,
     "end_time": "2021-08-31T23:20:48.196504",
     "exception": false,
     "start_time": "2021-08-31T23:20:44.617007",
     "status": "completed"
    },
    "tags": []
   },
   "outputs": [
    {
     "name": "stderr",
     "output_type": "stream",
     "text": [
      "c:\\Users\\maxi\\miniconda3\\envs\\streamlit_env\\Lib\\site-packages\\keras\\src\\layers\\core\\embedding.py:100: UserWarning: Do not pass an `input_shape`/`input_dim` argument to a layer. When using Sequential models, prefer using an `Input(shape)` object as the first layer in the model instead.\n",
      "  super().__init__(**kwargs)\n"
     ]
    },
    {
     "data": {
      "text/html": [
       "<pre style=\"white-space:pre;overflow-x:auto;line-height:normal;font-family:Menlo,'DejaVu Sans Mono',consolas,'Courier New',monospace\"><span style=\"font-weight: bold\">Model: \"sequential_3\"</span>\n",
       "</pre>\n"
      ],
      "text/plain": [
       "\u001b[1mModel: \"sequential_3\"\u001b[0m\n"
      ]
     },
     "metadata": {},
     "output_type": "display_data"
    },
    {
     "data": {
      "text/html": [
       "<pre style=\"white-space:pre;overflow-x:auto;line-height:normal;font-family:Menlo,'DejaVu Sans Mono',consolas,'Courier New',monospace\">┏━━━━━━━━━━━━━━━━━━━━━━━━━━━━━━━━━┳━━━━━━━━━━━━━━━━━━━━━━━━┳━━━━━━━━━━━━━━━┓\n",
       "┃<span style=\"font-weight: bold\"> Layer (type)                    </span>┃<span style=\"font-weight: bold\"> Output Shape           </span>┃<span style=\"font-weight: bold\">       Param # </span>┃\n",
       "┡━━━━━━━━━━━━━━━━━━━━━━━━━━━━━━━━━╇━━━━━━━━━━━━━━━━━━━━━━━━╇━━━━━━━━━━━━━━━┩\n",
       "│ embedding_1 (<span style=\"color: #0087ff; text-decoration-color: #0087ff\">Embedding</span>)         │ (<span style=\"color: #00d7ff; text-decoration-color: #00d7ff\">None</span>, <span style=\"color: #00d7ff; text-decoration-color: #00d7ff\">None</span>, <span style=\"color: #00af00; text-decoration-color: #00af00\">64</span>)       │       <span style=\"color: #00af00; text-decoration-color: #00af00\">640,000</span> │\n",
       "├─────────────────────────────────┼────────────────────────┼───────────────┤\n",
       "│ lstm_3 (<span style=\"color: #0087ff; text-decoration-color: #0087ff\">LSTM</span>)                   │ (<span style=\"color: #00d7ff; text-decoration-color: #00d7ff\">None</span>, <span style=\"color: #00af00; text-decoration-color: #00af00\">64</span>)             │        <span style=\"color: #00af00; text-decoration-color: #00af00\">33,024</span> │\n",
       "├─────────────────────────────────┼────────────────────────┼───────────────┤\n",
       "│ dense_3 (<span style=\"color: #0087ff; text-decoration-color: #0087ff\">Dense</span>)                 │ (<span style=\"color: #00d7ff; text-decoration-color: #00d7ff\">None</span>, <span style=\"color: #00af00; text-decoration-color: #00af00\">1</span>)              │            <span style=\"color: #00af00; text-decoration-color: #00af00\">65</span> │\n",
       "└─────────────────────────────────┴────────────────────────┴───────────────┘\n",
       "</pre>\n"
      ],
      "text/plain": [
       "┏━━━━━━━━━━━━━━━━━━━━━━━━━━━━━━━━━┳━━━━━━━━━━━━━━━━━━━━━━━━┳━━━━━━━━━━━━━━━┓\n",
       "┃\u001b[1m \u001b[0m\u001b[1mLayer (type)                   \u001b[0m\u001b[1m \u001b[0m┃\u001b[1m \u001b[0m\u001b[1mOutput Shape          \u001b[0m\u001b[1m \u001b[0m┃\u001b[1m \u001b[0m\u001b[1m      Param #\u001b[0m\u001b[1m \u001b[0m┃\n",
       "┡━━━━━━━━━━━━━━━━━━━━━━━━━━━━━━━━━╇━━━━━━━━━━━━━━━━━━━━━━━━╇━━━━━━━━━━━━━━━┩\n",
       "│ embedding_1 (\u001b[38;5;33mEmbedding\u001b[0m)         │ (\u001b[38;5;45mNone\u001b[0m, \u001b[38;5;45mNone\u001b[0m, \u001b[38;5;34m64\u001b[0m)       │       \u001b[38;5;34m640,000\u001b[0m │\n",
       "├─────────────────────────────────┼────────────────────────┼───────────────┤\n",
       "│ lstm_3 (\u001b[38;5;33mLSTM\u001b[0m)                   │ (\u001b[38;5;45mNone\u001b[0m, \u001b[38;5;34m64\u001b[0m)             │        \u001b[38;5;34m33,024\u001b[0m │\n",
       "├─────────────────────────────────┼────────────────────────┼───────────────┤\n",
       "│ dense_3 (\u001b[38;5;33mDense\u001b[0m)                 │ (\u001b[38;5;45mNone\u001b[0m, \u001b[38;5;34m1\u001b[0m)              │            \u001b[38;5;34m65\u001b[0m │\n",
       "└─────────────────────────────────┴────────────────────────┴───────────────┘\n"
      ]
     },
     "metadata": {},
     "output_type": "display_data"
    },
    {
     "data": {
      "text/html": [
       "<pre style=\"white-space:pre;overflow-x:auto;line-height:normal;font-family:Menlo,'DejaVu Sans Mono',consolas,'Courier New',monospace\"><span style=\"font-weight: bold\"> Total params: </span><span style=\"color: #00af00; text-decoration-color: #00af00\">673,089</span> (2.57 MB)\n",
       "</pre>\n"
      ],
      "text/plain": [
       "\u001b[1m Total params: \u001b[0m\u001b[38;5;34m673,089\u001b[0m (2.57 MB)\n"
      ]
     },
     "metadata": {},
     "output_type": "display_data"
    },
    {
     "data": {
      "text/html": [
       "<pre style=\"white-space:pre;overflow-x:auto;line-height:normal;font-family:Menlo,'DejaVu Sans Mono',consolas,'Courier New',monospace\"><span style=\"font-weight: bold\"> Trainable params: </span><span style=\"color: #00af00; text-decoration-color: #00af00\">673,089</span> (2.57 MB)\n",
       "</pre>\n"
      ],
      "text/plain": [
       "\u001b[1m Trainable params: \u001b[0m\u001b[38;5;34m673,089\u001b[0m (2.57 MB)\n"
      ]
     },
     "metadata": {},
     "output_type": "display_data"
    },
    {
     "data": {
      "text/html": [
       "<pre style=\"white-space:pre;overflow-x:auto;line-height:normal;font-family:Menlo,'DejaVu Sans Mono',consolas,'Courier New',monospace\"><span style=\"font-weight: bold\"> Non-trainable params: </span><span style=\"color: #00af00; text-decoration-color: #00af00\">0</span> (0.00 B)\n",
       "</pre>\n"
      ],
      "text/plain": [
       "\u001b[1m Non-trainable params: \u001b[0m\u001b[38;5;34m0\u001b[0m (0.00 B)\n"
      ]
     },
     "metadata": {},
     "output_type": "display_data"
    }
   ],
   "source": [
    "embed_size = 64\n",
    "model = keras.models.Sequential([\n",
    "    keras.layers.Input(shape=(None,)),\n",
    "    keras.layers.Embedding(input_dim=10000, output_dim=embed_size, input_shape=[None], mask_zero=True),\n",
    "    keras.layers.LSTM(64),\n",
    "    keras.layers.Dense(1, activation='sigmoid')\n",
    "])\n",
    "model.summary()"
   ]
  },
  {
   "cell_type": "code",
   "execution_count": 52,
   "id": "0e2be738",
   "metadata": {},
   "outputs": [],
   "source": [
    "# X_train = X_train.reshape(-1, 1, 500)\n",
    "# X_test = X_test.reshape(-1, 1, 500)\n",
    "# X_valid = X_valid.reshape(-1, 1, 500)"
   ]
  },
  {
   "cell_type": "code",
   "execution_count": 53,
   "id": "96dd8502",
   "metadata": {
    "execution": {
     "iopub.execute_input": "2021-08-31T23:20:48.279360Z",
     "iopub.status.busy": "2021-08-31T23:20:48.278247Z",
     "iopub.status.idle": "2021-08-31T23:22:28.909482Z",
     "shell.execute_reply": "2021-08-31T23:22:28.908455Z",
     "shell.execute_reply.started": "2021-08-31T12:04:05.494273Z"
    },
    "papermill": {
     "duration": 100.677893,
     "end_time": "2021-08-31T23:22:28.909662",
     "exception": false,
     "start_time": "2021-08-31T23:20:48.231769",
     "status": "completed"
    },
    "tags": []
   },
   "outputs": [
    {
     "name": "stdout",
     "output_type": "stream",
     "text": [
      "Epoch 1/5\n"
     ]
    },
    {
     "name": "stdout",
     "output_type": "stream",
     "text": [
      "\u001b[1m1000/1000\u001b[0m \u001b[32m━━━━━━━━━━━━━━━━━━━━\u001b[0m\u001b[37m\u001b[0m \u001b[1m18s\u001b[0m 17ms/step - accuracy: 0.6714 - loss: 0.5841 - val_accuracy: 0.8290 - val_loss: 0.3863\n",
      "Epoch 2/5\n",
      "\u001b[1m1000/1000\u001b[0m \u001b[32m━━━━━━━━━━━━━━━━━━━━\u001b[0m\u001b[37m\u001b[0m \u001b[1m17s\u001b[0m 17ms/step - accuracy: 0.8706 - loss: 0.3201 - val_accuracy: 0.8306 - val_loss: 0.3757\n",
      "Epoch 3/5\n",
      "\u001b[1m1000/1000\u001b[0m \u001b[32m━━━━━━━━━━━━━━━━━━━━\u001b[0m\u001b[37m\u001b[0m \u001b[1m18s\u001b[0m 18ms/step - accuracy: 0.9068 - loss: 0.2435 - val_accuracy: 0.8285 - val_loss: 0.4418\n",
      "Epoch 4/5\n",
      "\u001b[1m1000/1000\u001b[0m \u001b[32m━━━━━━━━━━━━━━━━━━━━\u001b[0m\u001b[37m\u001b[0m \u001b[1m17s\u001b[0m 17ms/step - accuracy: 0.9331 - loss: 0.1806 - val_accuracy: 0.8232 - val_loss: 0.5183\n",
      "Epoch 5/5\n",
      "\u001b[1m1000/1000\u001b[0m \u001b[32m━━━━━━━━━━━━━━━━━━━━\u001b[0m\u001b[37m\u001b[0m \u001b[1m17s\u001b[0m 17ms/step - accuracy: 0.9559 - loss: 0.1211 - val_accuracy: 0.8229 - val_loss: 0.5939\n"
     ]
    }
   ],
   "source": [
    "optimizer =keras.optimizers.Adam(learning_rate=0.001)\n",
    "model.compile(loss='binary_crossentropy', optimizer=optimizer, metrics=['accuracy'])\n",
    "history = model.fit(X_train, y_train, batch_size=32, epochs=5, validation_data=(X_valid, y_valid))"
   ]
  },
  {
   "cell_type": "code",
   "execution_count": 54,
   "id": "8b069fe8",
   "metadata": {
    "execution": {
     "iopub.execute_input": "2021-08-31T23:22:29.928052Z",
     "iopub.status.busy": "2021-08-31T23:22:29.927273Z",
     "iopub.status.idle": "2021-08-31T23:22:30.238757Z",
     "shell.execute_reply": "2021-08-31T23:22:30.239349Z"
    },
    "papermill": {
     "duration": 0.817792,
     "end_time": "2021-08-31T23:22:30.239600",
     "exception": false,
     "start_time": "2021-08-31T23:22:29.421808",
     "status": "completed"
    },
    "tags": []
   },
   "outputs": [
    {
     "data": {
      "text/plain": [
       "<Axes: >"
      ]
     },
     "execution_count": 54,
     "metadata": {},
     "output_type": "execute_result"
    },
    {
     "data": {
      "image/png": "[encoded data removed]",
      "text/plain": [
       "<Figure size 640x480 with 1 Axes>"
      ]
     },
     "metadata": {},
     "output_type": "display_data"
    }
   ],
   "source": [
    "pd.DataFrame(history.history).plot()"
   ]
  },
  {
   "cell_type": "markdown",
   "id": "ecb1da21",
   "metadata": {
    "papermill": {
     "duration": 0.4949,
     "end_time": "2021-08-31T23:22:31.228122",
     "exception": false,
     "start_time": "2021-08-31T23:22:30.733222",
     "status": "completed"
    },
    "tags": []
   },
   "source": [
    "This simple model is overfitted with training data as the validation loss increases."
   ]
  },
  {
   "cell_type": "code",
   "execution_count": 55,
   "id": "bd3570b5",
   "metadata": {
    "execution": {
     "iopub.execute_input": "2021-08-31T23:22:32.225574Z",
     "iopub.status.busy": "2021-08-31T23:22:32.223907Z",
     "iopub.status.idle": "2021-08-31T23:22:35.113068Z",
     "shell.execute_reply": "2021-08-31T23:22:35.113906Z",
     "shell.execute_reply.started": "2021-08-31T11:52:36.176808Z"
    },
    "papermill": {
     "duration": 3.387112,
     "end_time": "2021-08-31T23:22:35.114209",
     "exception": false,
     "start_time": "2021-08-31T23:22:31.727097",
     "status": "completed"
    },
    "tags": []
   },
   "outputs": [
    {
     "name": "stdout",
     "output_type": "stream",
     "text": [
      "\u001b[1m313/313\u001b[0m \u001b[32m━━━━━━━━━━━━━━━━━━━━\u001b[0m\u001b[37m\u001b[0m \u001b[1m2s\u001b[0m 7ms/step\n",
      "              precision    recall  f1-score   support\n",
      "\n",
      "           0       0.50      1.00      0.66      4976\n",
      "           1       0.00      0.00      0.00      5024\n",
      "\n",
      "    accuracy                           0.50     10000\n",
      "   macro avg       0.25      0.50      0.33     10000\n",
      "weighted avg       0.25      0.50      0.33     10000\n",
      "\n"
     ]
    },
    {
     "name": "stderr",
     "output_type": "stream",
     "text": [
      "c:\\Users\\maxi\\miniconda3\\envs\\streamlit_env\\Lib\\site-packages\\sklearn\\metrics\\_classification.py:1706: UndefinedMetricWarning: Precision is ill-defined and being set to 0.0 in labels with no predicted samples. Use `zero_division` parameter to control this behavior.\n",
      "  _warn_prf(average, modifier, f\"{metric.capitalize()} is\", result.shape[0])\n",
      "c:\\Users\\maxi\\miniconda3\\envs\\streamlit_env\\Lib\\site-packages\\sklearn\\metrics\\_classification.py:1706: UndefinedMetricWarning: Precision is ill-defined and being set to 0.0 in labels with no predicted samples. Use `zero_division` parameter to control this behavior.\n",
      "  _warn_prf(average, modifier, f\"{metric.capitalize()} is\", result.shape[0])\n",
      "c:\\Users\\maxi\\miniconda3\\envs\\streamlit_env\\Lib\\site-packages\\sklearn\\metrics\\_classification.py:1706: UndefinedMetricWarning: Precision is ill-defined and being set to 0.0 in labels with no predicted samples. Use `zero_division` parameter to control this behavior.\n",
      "  _warn_prf(average, modifier, f\"{metric.capitalize()} is\", result.shape[0])\n"
     ]
    },
    {
     "data": {
      "text/plain": [
       "<Axes: >"
      ]
     },
     "execution_count": 55,
     "metadata": {},
     "output_type": "execute_result"
    },
    {
     "data": {
      "image/png": "[encoded data removed]",
      "text/plain": [
       "<Figure size 640x480 with 2 Axes>"
      ]
     },
     "metadata": {},
     "output_type": "display_data"
    }
   ],
   "source": [
    "y_pred = np.argmax(model.predict(X_test), axis=1)\n",
    "\n",
    "print(classification_report(y_test, y_pred))\n",
    "\n",
    "sns.heatmap(confusion_matrix(y_test, y_pred), \n",
    "            annot=True, fmt='.0f', \n",
    "            xticklabels=['Predicted negative', 'Predicted positive'], \n",
    "            yticklabels=['Negative', 'Positive'])"
   ]
  },
  {
   "cell_type": "markdown",
   "id": "5a65124d",
   "metadata": {
    "papermill": {
     "duration": 0.561187,
     "end_time": "2021-08-31T23:22:36.489135",
     "exception": false,
     "start_time": "2021-08-31T23:22:35.927948",
     "status": "completed"
    },
    "tags": []
   },
   "source": [
    "## Modified LSTM model"
   ]
  },
  {
   "cell_type": "markdown",
   "id": "1e2d6624",
   "metadata": {
    "papermill": {
     "duration": 0.500664,
     "end_time": "2021-08-31T23:22:37.491354",
     "exception": false,
     "start_time": "2021-08-31T23:22:36.990690",
     "status": "completed"
    },
    "tags": []
   },
   "source": [
    "We added Dropout layers to prevent overfitting."
   ]
  },
  {
   "cell_type": "code",
   "execution_count": 56,
   "id": "b6e577c9",
   "metadata": {
    "execution": {
     "iopub.execute_input": "2021-08-31T23:22:38.518728Z",
     "iopub.status.busy": "2021-08-31T23:22:38.517658Z",
     "iopub.status.idle": "2021-08-31T23:22:38.697237Z",
     "shell.execute_reply": "2021-08-31T23:22:38.698084Z",
     "shell.execute_reply.started": "2021-08-31T12:05:39.727573Z"
    },
    "papermill": {
     "duration": 0.696167,
     "end_time": "2021-08-31T23:22:38.698367",
     "exception": false,
     "start_time": "2021-08-31T23:22:38.002200",
     "status": "completed"
    },
    "tags": []
   },
   "outputs": [
    {
     "name": "stderr",
     "output_type": "stream",
     "text": [
      "c:\\Users\\maxi\\miniconda3\\envs\\streamlit_env\\Lib\\site-packages\\keras\\src\\layers\\core\\embedding.py:100: UserWarning: Do not pass an `input_shape`/`input_dim` argument to a layer. When using Sequential models, prefer using an `Input(shape)` object as the first layer in the model instead.\n",
      "  super().__init__(**kwargs)\n"
     ]
    },
    {
     "data": {
      "text/html": [
       "<pre style=\"white-space:pre;overflow-x:auto;line-height:normal;font-family:Menlo,'DejaVu Sans Mono',consolas,'Courier New',monospace\"><span style=\"font-weight: bold\">Model: \"sequential_4\"</span>\n",
       "</pre>\n"
      ],
      "text/plain": [
       "\u001b[1mModel: \"sequential_4\"\u001b[0m\n"
      ]
     },
     "metadata": {},
     "output_type": "display_data"
    },
    {
     "data": {
      "text/html": [
       "<pre style=\"white-space:pre;overflow-x:auto;line-height:normal;font-family:Menlo,'DejaVu Sans Mono',consolas,'Courier New',monospace\">┏━━━━━━━━━━━━━━━━━━━━━━━━━━━━━━━━━┳━━━━━━━━━━━━━━━━━━━━━━━━┳━━━━━━━━━━━━━━━┓\n",
       "┃<span style=\"font-weight: bold\"> Layer (type)                    </span>┃<span style=\"font-weight: bold\"> Output Shape           </span>┃<span style=\"font-weight: bold\">       Param # </span>┃\n",
       "┡━━━━━━━━━━━━━━━━━━━━━━━━━━━━━━━━━╇━━━━━━━━━━━━━━━━━━━━━━━━╇━━━━━━━━━━━━━━━┩\n",
       "│ embedding_2 (<span style=\"color: #0087ff; text-decoration-color: #0087ff\">Embedding</span>)         │ (<span style=\"color: #00d7ff; text-decoration-color: #00d7ff\">None</span>, <span style=\"color: #00d7ff; text-decoration-color: #00d7ff\">None</span>, <span style=\"color: #00af00; text-decoration-color: #00af00\">64</span>)       │       <span style=\"color: #00af00; text-decoration-color: #00af00\">640,000</span> │\n",
       "├─────────────────────────────────┼────────────────────────┼───────────────┤\n",
       "│ lstm_4 (<span style=\"color: #0087ff; text-decoration-color: #0087ff\">LSTM</span>)                   │ (<span style=\"color: #00d7ff; text-decoration-color: #00d7ff\">None</span>, <span style=\"color: #00af00; text-decoration-color: #00af00\">64</span>)             │        <span style=\"color: #00af00; text-decoration-color: #00af00\">33,024</span> │\n",
       "├─────────────────────────────────┼────────────────────────┼───────────────┤\n",
       "│ dense_4 (<span style=\"color: #0087ff; text-decoration-color: #0087ff\">Dense</span>)                 │ (<span style=\"color: #00d7ff; text-decoration-color: #00d7ff\">None</span>, <span style=\"color: #00af00; text-decoration-color: #00af00\">1</span>)              │            <span style=\"color: #00af00; text-decoration-color: #00af00\">65</span> │\n",
       "└─────────────────────────────────┴────────────────────────┴───────────────┘\n",
       "</pre>\n"
      ],
      "text/plain": [
       "┏━━━━━━━━━━━━━━━━━━━━━━━━━━━━━━━━━┳━━━━━━━━━━━━━━━━━━━━━━━━┳━━━━━━━━━━━━━━━┓\n",
       "┃\u001b[1m \u001b[0m\u001b[1mLayer (type)                   \u001b[0m\u001b[1m \u001b[0m┃\u001b[1m \u001b[0m\u001b[1mOutput Shape          \u001b[0m\u001b[1m \u001b[0m┃\u001b[1m \u001b[0m\u001b[1m      Param #\u001b[0m\u001b[1m \u001b[0m┃\n",
       "┡━━━━━━━━━━━━━━━━━━━━━━━━━━━━━━━━━╇━━━━━━━━━━━━━━━━━━━━━━━━╇━━━━━━━━━━━━━━━┩\n",
       "│ embedding_2 (\u001b[38;5;33mEmbedding\u001b[0m)         │ (\u001b[38;5;45mNone\u001b[0m, \u001b[38;5;45mNone\u001b[0m, \u001b[38;5;34m64\u001b[0m)       │       \u001b[38;5;34m640,000\u001b[0m │\n",
       "├─────────────────────────────────┼────────────────────────┼───────────────┤\n",
       "│ lstm_4 (\u001b[38;5;33mLSTM\u001b[0m)                   │ (\u001b[38;5;45mNone\u001b[0m, \u001b[38;5;34m64\u001b[0m)             │        \u001b[38;5;34m33,024\u001b[0m │\n",
       "├─────────────────────────────────┼────────────────────────┼───────────────┤\n",
       "│ dense_4 (\u001b[38;5;33mDense\u001b[0m)                 │ (\u001b[38;5;45mNone\u001b[0m, \u001b[38;5;34m1\u001b[0m)              │            \u001b[38;5;34m65\u001b[0m │\n",
       "└─────────────────────────────────┴────────────────────────┴───────────────┘\n"
      ]
     },
     "metadata": {},
     "output_type": "display_data"
    },
    {
     "data": {
      "text/html": [
       "<pre style=\"white-space:pre;overflow-x:auto;line-height:normal;font-family:Menlo,'DejaVu Sans Mono',consolas,'Courier New',monospace\"><span style=\"font-weight: bold\"> Total params: </span><span style=\"color: #00af00; text-decoration-color: #00af00\">673,089</span> (2.57 MB)\n",
       "</pre>\n"
      ],
      "text/plain": [
       "\u001b[1m Total params: \u001b[0m\u001b[38;5;34m673,089\u001b[0m (2.57 MB)\n"
      ]
     },
     "metadata": {},
     "output_type": "display_data"
    },
    {
     "data": {
      "text/html": [
       "<pre style=\"white-space:pre;overflow-x:auto;line-height:normal;font-family:Menlo,'DejaVu Sans Mono',consolas,'Courier New',monospace\"><span style=\"font-weight: bold\"> Trainable params: </span><span style=\"color: #00af00; text-decoration-color: #00af00\">673,089</span> (2.57 MB)\n",
       "</pre>\n"
      ],
      "text/plain": [
       "\u001b[1m Trainable params: \u001b[0m\u001b[38;5;34m673,089\u001b[0m (2.57 MB)\n"
      ]
     },
     "metadata": {},
     "output_type": "display_data"
    },
    {
     "data": {
      "text/html": [
       "<pre style=\"white-space:pre;overflow-x:auto;line-height:normal;font-family:Menlo,'DejaVu Sans Mono',consolas,'Courier New',monospace\"><span style=\"font-weight: bold\"> Non-trainable params: </span><span style=\"color: #00af00; text-decoration-color: #00af00\">0</span> (0.00 B)\n",
       "</pre>\n"
      ],
      "text/plain": [
       "\u001b[1m Non-trainable params: \u001b[0m\u001b[38;5;34m0\u001b[0m (0.00 B)\n"
      ]
     },
     "metadata": {},
     "output_type": "display_data"
    }
   ],
   "source": [
    "embed_size = 64\n",
    "model_v2 = keras.models.Sequential([\n",
    "    keras.layers.Embedding(input_dim=10000, output_dim=embed_size, input_shape=[None], mask_zero=True),\n",
    "    keras.layers.LSTM(64, return_sequences=False, dropout=0.2, recurrent_dropout=0.2),\n",
    "    keras.layers.Dense(1, activation='sigmoid')\n",
    "])\n",
    "model_v2.summary()"
   ]
  },
  {
   "cell_type": "code",
   "execution_count": 57,
   "id": "c7daa7c5",
   "metadata": {
    "execution": {
     "iopub.execute_input": "2021-08-31T23:22:40.144546Z",
     "iopub.status.busy": "2021-08-31T23:22:40.143636Z",
     "iopub.status.idle": "2021-08-31T23:45:29.414806Z",
     "shell.execute_reply": "2021-08-31T23:45:29.414242Z",
     "shell.execute_reply.started": "2021-08-31T12:06:29.971333Z"
    },
    "papermill": {
     "duration": 1370.149209,
     "end_time": "2021-08-31T23:45:29.415018",
     "exception": false,
     "start_time": "2021-08-31T23:22:39.265809",
     "status": "completed"
    },
    "tags": []
   },
   "outputs": [
    {
     "name": "stdout",
     "output_type": "stream",
     "text": [
      "Epoch 1/20\n"
     ]
    },
    {
     "name": "stdout",
     "output_type": "stream",
     "text": [
      "\u001b[1m500/500\u001b[0m \u001b[32m━━━━━━━━━━━━━━━━━━━━\u001b[0m\u001b[37m\u001b[0m \u001b[1m23s\u001b[0m 42ms/step - accuracy: 0.5377 - loss: 0.6875 - val_accuracy: 0.7492 - val_loss: 0.5354\n",
      "Epoch 2/20\n",
      "\u001b[1m500/500\u001b[0m \u001b[32m━━━━━━━━━━━━━━━━━━━━\u001b[0m\u001b[37m\u001b[0m \u001b[1m18s\u001b[0m 37ms/step - accuracy: 0.7731 - loss: 0.5519 - val_accuracy: 0.8070 - val_loss: 0.4621\n",
      "Epoch 3/20\n",
      "\u001b[1m500/500\u001b[0m \u001b[32m━━━━━━━━━━━━━━━━━━━━\u001b[0m\u001b[37m\u001b[0m \u001b[1m18s\u001b[0m 35ms/step - accuracy: 0.8198 - loss: 0.4764 - val_accuracy: 0.8249 - val_loss: 0.4302\n",
      "Epoch 4/20\n",
      "\u001b[1m500/500\u001b[0m \u001b[32m━━━━━━━━━━━━━━━━━━━━\u001b[0m\u001b[37m\u001b[0m \u001b[1m19s\u001b[0m 37ms/step - accuracy: 0.8391 - loss: 0.4246 - val_accuracy: 0.8270 - val_loss: 0.3941\n",
      "Epoch 5/20\n",
      "\u001b[1m500/500\u001b[0m \u001b[32m━━━━━━━━━━━━━━━━━━━━\u001b[0m\u001b[37m\u001b[0m \u001b[1m17s\u001b[0m 34ms/step - accuracy: 0.8553 - loss: 0.3823 - val_accuracy: 0.8299 - val_loss: 0.3798\n",
      "Epoch 6/20\n",
      "\u001b[1m500/500\u001b[0m \u001b[32m━━━━━━━━━━━━━━━━━━━━\u001b[0m\u001b[37m\u001b[0m \u001b[1m18s\u001b[0m 35ms/step - accuracy: 0.8648 - loss: 0.3597 - val_accuracy: 0.8301 - val_loss: 0.3811\n",
      "Epoch 7/20\n",
      "\u001b[1m500/500\u001b[0m \u001b[32m━━━━━━━━━━━━━━━━━━━━\u001b[0m\u001b[37m\u001b[0m \u001b[1m19s\u001b[0m 38ms/step - accuracy: 0.8762 - loss: 0.3351 - val_accuracy: 0.8314 - val_loss: 0.3792\n",
      "Epoch 8/20\n",
      "\u001b[1m500/500\u001b[0m \u001b[32m━━━━━━━━━━━━━━━━━━━━\u001b[0m\u001b[37m\u001b[0m \u001b[1m17s\u001b[0m 34ms/step - accuracy: 0.8758 - loss: 0.3279 - val_accuracy: 0.8279 - val_loss: 0.3881\n",
      "Epoch 9/20\n",
      "\u001b[1m500/500\u001b[0m \u001b[32m━━━━━━━━━━━━━━━━━━━━\u001b[0m\u001b[37m\u001b[0m \u001b[1m17s\u001b[0m 35ms/step - accuracy: 0.8855 - loss: 0.3078 - val_accuracy: 0.8310 - val_loss: 0.3842\n",
      "Epoch 10/20\n",
      "\u001b[1m500/500\u001b[0m \u001b[32m━━━━━━━━━━━━━━━━━━━━\u001b[0m\u001b[37m\u001b[0m \u001b[1m17s\u001b[0m 33ms/step - accuracy: 0.8912 - loss: 0.2924 - val_accuracy: 0.8251 - val_loss: 0.3964\n",
      "Epoch 11/20\n",
      "\u001b[1m500/500\u001b[0m \u001b[32m━━━━━━━━━━━━━━━━━━━━\u001b[0m\u001b[37m\u001b[0m \u001b[1m17s\u001b[0m 34ms/step - accuracy: 0.8943 - loss: 0.2872 - val_accuracy: 0.8314 - val_loss: 0.3951\n",
      "Epoch 12/20\n",
      "\u001b[1m500/500\u001b[0m \u001b[32m━━━━━━━━━━━━━━━━━━━━\u001b[0m\u001b[37m\u001b[0m \u001b[1m18s\u001b[0m 35ms/step - accuracy: 0.8992 - loss: 0.2813 - val_accuracy: 0.8238 - val_loss: 0.4020\n"
     ]
    }
   ],
   "source": [
    "early_stopping_cb = keras.callbacks.EarlyStopping(patience=5, restore_best_weights=True)\n",
    "optimizer = keras.optimizers.Adam(learning_rate=0.0001)\n",
    "model_v2.compile(loss='binary_crossentropy', optimizer=optimizer, metrics=['accuracy'])\n",
    "history = model_v2.fit(X_train, y_train, epochs=20, batch_size=64, validation_data=(X_valid, y_valid), callbacks=[early_stopping_cb])"
   ]
  },
  {
   "cell_type": "code",
   "execution_count": 58,
   "id": "9d2d1967",
   "metadata": {
    "execution": {
     "iopub.execute_input": "2021-08-31T23:45:34.083298Z",
     "iopub.status.busy": "2021-08-31T23:45:34.082168Z",
     "iopub.status.idle": "2021-08-31T23:45:34.314521Z",
     "shell.execute_reply": "2021-08-31T23:45:34.315155Z",
     "shell.execute_reply.started": "2021-08-31T12:32:45.464539Z"
    },
    "papermill": {
     "duration": 2.426961,
     "end_time": "2021-08-31T23:45:34.315431",
     "exception": false,
     "start_time": "2021-08-31T23:45:31.888470",
     "status": "completed"
    },
    "tags": []
   },
   "outputs": [
    {
     "data": {
      "text/plain": [
       "<Axes: >"
      ]
     },
     "execution_count": 58,
     "metadata": {},
     "output_type": "execute_result"
    },
    {
     "data": {
      "image/png": "[encoded data removed]",
      "text/plain": [
       "<Figure size 640x480 with 1 Axes>"
      ]
     },
     "metadata": {},
     "output_type": "display_data"
    }
   ],
   "source": [
    "pd.DataFrame(history.history).plot()"
   ]
  },
  {
   "cell_type": "markdown",
   "id": "2965e389",
   "metadata": {
    "execution": {
     "iopub.execute_input": "2021-08-31T13:52:44.777685Z",
     "iopub.status.busy": "2021-08-31T13:52:44.777289Z",
     "iopub.status.idle": "2021-08-31T13:52:44.789145Z",
     "shell.execute_reply": "2021-08-31T13:52:44.787712Z",
     "shell.execute_reply.started": "2021-08-31T13:52:44.777606Z"
    },
    "papermill": {
     "duration": 2.581559,
     "end_time": "2021-08-31T23:45:39.289416",
     "exception": false,
     "start_time": "2021-08-31T23:45:36.707857",
     "status": "completed"
    },
    "tags": []
   },
   "source": [
    "Looks better than first model."
   ]
  },
  {
   "cell_type": "code",
   "execution_count": 21,
   "id": "082ef6a1",
   "metadata": {
    "execution": {
     "iopub.execute_input": "2021-08-31T23:45:43.956651Z",
     "iopub.status.busy": "2021-08-31T23:45:43.955667Z",
     "iopub.status.idle": "2021-08-31T23:45:57.319968Z",
     "shell.execute_reply": "2021-08-31T23:45:57.320539Z",
     "shell.execute_reply.started": "2021-08-31T12:33:18.060662Z"
    },
    "papermill": {
     "duration": 15.536904,
     "end_time": "2021-08-31T23:45:57.320724",
     "exception": false,
     "start_time": "2021-08-31T23:45:41.783820",
     "status": "completed"
    },
    "tags": []
   },
   "outputs": [
    {
     "name": "stderr",
     "output_type": "stream",
     "text": [
      "/opt/conda/lib/python3.7/site-packages/tensorflow/python/keras/engine/sequential.py:450: UserWarning: `model.predict_classes()` is deprecated and will be removed after 2021-01-01. Please use instead:* `np.argmax(model.predict(x), axis=-1)`,   if your model does multi-class classification   (e.g. if it uses a `softmax` last-layer activation).* `(model.predict(x) > 0.5).astype(\"int32\")`,   if your model does binary classification   (e.g. if it uses a `sigmoid` last-layer activation).\n",
      "  warnings.warn('`model.predict_classes()` is deprecated and '\n"
     ]
    },
    {
     "name": "stdout",
     "output_type": "stream",
     "text": [
      "              precision    recall  f1-score   support\n",
      "\n",
      "           0       0.85      0.81      0.83      4961\n",
      "           1       0.82      0.86      0.84      5039\n",
      "\n",
      "    accuracy                           0.83     10000\n",
      "   macro avg       0.83      0.83      0.83     10000\n",
      "weighted avg       0.83      0.83      0.83     10000\n",
      "\n"
     ]
    },
    {
     "data": {
      "text/plain": [
       "<AxesSubplot:>"
      ]
     },
     "execution_count": 21,
     "metadata": {},
     "output_type": "execute_result"
    },
    {
     "data": {
      "image/png": "[encoded data removed]",
      "text/plain": [
       "<Figure size 432x288 with 2 Axes>"
      ]
     },
     "metadata": {
      "needs_background": "light"
     },
     "output_type": "display_data"
    }
   ],
   "source": [
    "y_pred = model_v2.predict_classes(X_test)\n",
    "\n",
    "print(classification_report(y_test, y_pred))\n",
    "\n",
    "sns.heatmap(confusion_matrix(y_test, y_pred), \n",
    "            annot=True, fmt='.0f', \n",
    "            xticklabels=['Predicted negative', 'Predicted positive'], \n",
    "            yticklabels=['Negative', 'Positive'])"
   ]
  },
  {
   "cell_type": "markdown",
   "id": "808c2809",
   "metadata": {
    "papermill": {
     "duration": 2.236395,
     "end_time": "2021-08-31T23:46:01.757922",
     "exception": false,
     "start_time": "2021-08-31T23:45:59.521527",
     "status": "completed"
    },
    "tags": []
   },
   "source": [
    "Use of full-sentences would increase accurcy. But it is time-consuming and seems difficult to overwhelm simple Logistic regression model."
   ]
  }
 ],
 "metadata": {
  "kernelspec": {
   "display_name": "streamlit_env",
   "language": "python",
   "name": "python3"
  },
  "language_info": {
   "codemirror_mode": {
    "name": "ipython",
    "version": 3
   },
   "file_extension": ".py",
   "mimetype": "text/x-python",
   "name": "python",
   "nbconvert_exporter": "python",
   "pygments_lexer": "ipython3",
   "version": "3.11.13"
  },
  "papermill": {
   "default_parameters": {},
   "duration": 1576.321975,
   "end_time": "2021-08-31T23:46:07.770641",
   "environment_variables": {},
   "exception": null,
   "input_path": "__notebook__.ipynb",
   "output_path": "__notebook__.ipynb",
   "parameters": {},
   "start_time": "2021-08-31T23:19:51.448666",
   "version": "2.3.3"
  }
 },
 "nbformat": 4,
 "nbformat_minor": 5
}
