{
 "cells": [
  {
   "cell_type": "code",
   "execution_count": 2,
   "id": "e1c153a4",
   "metadata": {},
   "outputs": [],
   "source": [
    "from bs4 import BeautifulSoup as bs\n",
    "from selenium import webdriver\n",
    "from selenium.webdriver.common.by import By\n",
    "from selenium.webdriver.common.keys import Keys\n",
    "\n",
    "import time\n",
    "import pandas as pd\n",
    "import re"
   ]
  },
  {
   "cell_type": "code",
   "execution_count": 3,
   "id": "5ca39fd8",
   "metadata": {},
   "outputs": [],
   "source": [
    "driver = webdriver.Edge()\n",
    "\n",
    "url = \"https://inspyria.com/es/retiros?coords=39.4840108%2C-0.7532808999999999&locationName=Comunidad+Valenciana&distanceHours=8&page=10\"\n",
    "\n",
    "driver.get(url)"
   ]
  },
  {
   "cell_type": "code",
   "execution_count": 4,
   "id": "1a191d13",
   "metadata": {},
   "outputs": [],
   "source": [
    "cookies = driver.find_element(By.XPATH, \"/html/body/div[4]/div/a\")\n",
    "cookies.click()\n",
    "time.sleep(2)\n",
    "buscar = driver.find_element(By.XPATH, '//*[@id=\"page\"]/section[1]/div/div[1]/div[4]')\n",
    "buscar.click()"
   ]
  },
  {
   "cell_type": "code",
   "execution_count": 5,
   "id": "344e450d",
   "metadata": {},
   "outputs": [],
   "source": [
    "for i in range(10):\n",
    "\n",
    "    driver.execute_script(\"window.scrollTo(0, document.body.scrollHeight);\")\n",
    "    time.sleep(3)"
   ]
  },
  {
   "cell_type": "code",
   "execution_count": null,
   "id": "552e99ef",
   "metadata": {},
   "outputs": [
    {
     "name": "stdout",
     "output_type": "stream",
     "text": [
      "['250€/3 días', '250€/3 días', '225€/3 días', '650€/5 días', '250€/3 días', '225€/2 días', '245€/3 días', '320€/2 días', '640€/4 días', '800€/6 días', '670€/4 días', '640€/4 días', '245€/3 días', '245€/3 días', '690€/3 días', '185€/5 días', '375€/4 días', '280€/3 días', '280€/3 días', '333€/3 días', '360€/3 días', '1150€/4 días', '444€/7 días', '130€/3 días', '220€/2 días', '370€/3 días', '249€/3 días', '340€/3 días', '370€/3 días', '1100€/6 días', '440€/4 días', '1000€/3 días', '370€/3 días', '515€/6 días', '540€/7 días', '540€/7 días', '250€/3 días', '530€/3 días', '390€/2 días', '395€/3 días', '390€/7 días', '345€/3 días', '330€/3 días', '650€/5 días', '425€/3 días', '650€/7 días', '210€/3 días', '1097€/3 días', '480€/4 días', '450€/3 días', '188€/2 días', '420€/8 días', '420€/8 días', '490€/3 días', '290€/3 días', '920€/5 días', '236€/10 días', '196€/10 días', '305€/3 días', '220€/3 días', '202€/3 días', '380€/4 días', '290€/3 días', '450€/5 días', '450€/5 días', '790€/5 días', '390€/2 días', '195€/3 días', '390€/2 días', '390€/2 días', '190€/2 días', '420€/2 días', '360€/3 días', '333€/4 días', '240€/3 días', '185€/3 días', '938€/8 días', '275€/3 días', '500€/5 días', '490€/5 días', '280€/3 días', '390€/3 días', '395€/3 días', '325€/3 días', '370€/3 días', '270€/3 días', '270€/3 días', '420€/7 días', '175€/5 días', '289€/3 días', '600€/11 días', '620€/8 días', '1500€/5 días', '350€/5 días', '230€/3 días', '460€/3 días', '430€/3 días', '450€/3 días', '480€/3 días', '420€/7 días', '1180€/7 días', '430€/3 días']\n"
     ]
    }
   ],
   "source": [
    "sopa = bs(driver.page_source, \"lxml\")\n",
    "\n",
    "\n",
    "Nombre_centro = []\n",
    "Fechas = []\n",
    "Localizacion = []\n",
    "Idioma = []\n",
    "Nota = []\n",
    "tarifas_formateada = []\n",
    "\n",
    "# n_sucios = []\n",
    "# nombres = sopa.select('h3.title')\n",
    "# for nombre in nombres:\n",
    "#     n_sucios.append(nombre.get_text())\n",
    "# for nombre in n_sucios:\n",
    "#     nombre_limpio = nombre.strip()\n",
    "#     Nombre_centro.append(nombre_limpio)\n",
    "\n",
    "# p_sucios = []\n",
    "# Tarifas = []\n",
    "# precios= sopa.select('div.data-price')\n",
    "# for precio in precios:\n",
    "#     p_sucios.append(precio.get_text())\n",
    "    \n",
    "# for precios in p_sucios:\n",
    "#     p_limpio = precios.replace(\"\\n\",\"\").split()\n",
    "#     Tarifas.append(p_limpio)\n",
    "    \n",
    "# for sublista in Tarifas:\n",
    "#     precio = sublista[0]\n",
    "#     duracion = sublista[-2]\n",
    "#     unidad_tiempo = sublista[-1]\n",
    "#     tarifas_formateada.append(f\"{precio}/{duracion} {unidad_tiempo}\")\n",
    "\n",
    "\n",
    "\n",
    "\n",
    "\n",
    "\n",
    "\n",
    "\n",
    "\n",
    "\n",
    "# sopa_fechas = sopa.select(\"div.info-flip li\")[0].get_text()\n",
    "# fechas = sopa.select('#\"page\"/section[4]/div[2]/div[2]/ul[6]/li[18]/div[3]/div/div/div[1]/ul/li[1]')\n",
    "# for fecha in fechas:\n",
    "#     Fechas.append(fecha.get_text())\n"
   ]
  },
  {
   "cell_type": "code",
   "execution_count": null,
   "id": "db8d0ed3",
   "metadata": {},
   "outputs": [],
   "source": []
  },
  {
   "cell_type": "code",
   "execution_count": null,
   "id": "d7e8e134",
   "metadata": {},
   "outputs": [],
   "source": []
  }
 ],
 "metadata": {
  "kernelspec": {
   "display_name": "data_analysis_env",
   "language": "python",
   "name": "python3"
  },
  "language_info": {
   "codemirror_mode": {
    "name": "ipython",
    "version": 3
   },
   "file_extension": ".py",
   "mimetype": "text/x-python",
   "name": "python",
   "nbconvert_exporter": "python",
   "pygments_lexer": "ipython3",
   "version": "3.11.11"
  }
 },
 "nbformat": 4,
 "nbformat_minor": 5
}
